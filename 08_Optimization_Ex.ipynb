{
 "cells": [
  {
   "cell_type": "markdown",
   "metadata": {},
   "source": [
    "# 8. Optimization: Exercise\n",
    "\n",
    "Name: \n",
    "\n",
    "Date: \n",
    "\n",
    "(Please submit this .ipynb file with your name and its PDF copy.)"
   ]
  },
  {
   "cell_type": "markdown",
   "metadata": {},
   "source": [
    "## 1. Try with you own function \n",
    "1) Define a function of your interest (with two or more inputs) to be minimized or maximized.  \n",
    "It can be an explicit mathematical form, or given implictly as a result of simulation."
   ]
  },
  {
   "cell_type": "code",
   "execution_count": null,
   "metadata": {},
   "outputs": [],
   "source": [
    "import numpy as np\n",
    "import matplotlib.pyplot as plt\n",
    "%matplotlib inline"
   ]
  },
  {
   "cell_type": "code",
   "execution_count": null,
   "metadata": {},
   "outputs": [],
   "source": [
    "# This is just an example. Please define your own function.\n",
    "def fun(x, a=1.):\n",
    "    \"\"\"sine in quardatic valley\"\"\"\n",
    "    x = np.array(x)\n",
    "    y = (x[0]**2+x[1]**2) + a*np.sin(x[0])\n",
    "    return y"
   ]
  },
  {
   "cell_type": "markdown",
   "metadata": {},
   "source": [
    "2) Visualize the function, e.g., by surface plot or contour plot."
   ]
  },
  {
   "cell_type": "code",
   "execution_count": null,
   "metadata": {},
   "outputs": [],
   "source": [
    "w = 5\n",
    "N = 10\n",
    "x = np.linspace(-w,w,N)\n",
    "x0, x1 = np.meshgrid(x, x)\n",
    "#x2 = np.array(x2).transpose(2,1,0)  # (x0,x1) in last dimention\n",
    "y = fun((x0, x1), 10)\n",
    "fig = plt.figure(figsize=(8, 8))\n",
    "ax = fig.add_subplot(projection='3d')\n",
    "ax.plot_surface(x0, x1, y, cmap='viridis')\n",
    "plt.xlabel(\"x0\"); plt.ylabel(\"x1\"); "
   ]
  },
  {
   "cell_type": "code",
   "execution_count": null,
   "metadata": {},
   "outputs": [],
   "source": []
  },
  {
   "cell_type": "code",
   "execution_count": null,
   "metadata": {},
   "outputs": [],
   "source": []
  },
  {
   "cell_type": "markdown",
   "metadata": {},
   "source": [
    "3) Mixmize or minimize the function using two or more optimization algorithms, e.g.\n",
    "\n",
    "* Gradient ascent/descent\n",
    "* Newton-Raphson method\n",
    "* Evolutionary algorithm\n",
    "* scpy.optimize\n",
    "\n",
    "and compare the results with different starting points and parameters. "
   ]
  },
  {
   "cell_type": "code",
   "execution_count": null,
   "metadata": {},
   "outputs": [],
   "source": []
  },
  {
   "cell_type": "code",
   "execution_count": null,
   "metadata": {},
   "outputs": [],
   "source": []
  },
  {
   "cell_type": "code",
   "execution_count": null,
   "metadata": {},
   "outputs": [],
   "source": []
  },
  {
   "cell_type": "code",
   "execution_count": null,
   "metadata": {},
   "outputs": [],
   "source": []
  },
  {
   "cell_type": "markdown",
   "metadata": {},
   "source": [
    "Option) Set equality or inequality constraints and apply an algorithm for constrained optimization."
   ]
  },
  {
   "cell_type": "code",
   "execution_count": null,
   "metadata": {},
   "outputs": [],
   "source": []
  },
  {
   "cell_type": "code",
   "execution_count": null,
   "metadata": {},
   "outputs": [],
   "source": []
  }
 ],
 "metadata": {
  "kernelspec": {
   "display_name": "Python 3 (ipykernel)",
   "language": "python",
   "name": "python3"
  },
  "language_info": {
   "codemirror_mode": {
    "name": "ipython",
    "version": 3
   },
   "file_extension": ".py",
   "mimetype": "text/x-python",
   "name": "python",
   "nbconvert_exporter": "python",
   "pygments_lexer": "ipython3",
   "version": "3.9.12"
  }
 },
 "nbformat": 4,
 "nbformat_minor": 1
}
