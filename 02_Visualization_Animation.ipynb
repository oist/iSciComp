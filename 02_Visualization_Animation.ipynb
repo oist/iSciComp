{
 "cells": [
  {
   "cell_type": "markdown",
   "metadata": {},
   "source": [
    "# Animation\n",
    "\n",
    "You can use `animation` class of `matplotlib` to show animations."
   ]
  },
  {
   "cell_type": "code",
   "execution_count": 1,
   "metadata": {},
   "outputs": [],
   "source": [
    "import numpy as np\n",
    "import matplotlib.pyplot as plt\n",
    "from matplotlib import animation"
   ]
  },
  {
   "cell_type": "code",
   "execution_count": 2,
   "metadata": {},
   "outputs": [],
   "source": [
    "#%matplotlib auto    # for separate graphics window\n",
    "#%matplotlib notebook  # for interactive graphics\n",
    "%matplotlib inline"
   ]
  },
  {
   "cell_type": "markdown",
   "metadata": {},
   "source": [
    "### FuncAnimation\n",
    "\n",
    "It is often helpful to visualize the data while they are computed, rather than after all computations are done.  \n",
    "For that, you can define a function to draw each frame, and pass the function to `FuncAnimation`."
   ]
  },
  {
   "cell_type": "code",
   "execution_count": 3,
   "metadata": {},
   "outputs": [],
   "source": [
    "def pendulum(i, dt=0.05):\n",
    "    \"\"\"draw a pendulum: i=frame number\"\"\"\n",
    "    # clear previous plot\n",
    "    plt.cla()\n",
    "    l = 1  # length\n",
    "    th = np.sin(np.pi*i*dt)  # angle, 2 sec period\n",
    "    x = np.sin(th)\n",
    "    y = -np.cos(th)\n",
    "    # draw a new plot\n",
    "    plt.plot([0, x], [0, y])\n",
    "    #plt.plot(x, y, 'ro', markersize=10)\n",
    "    plt.axis('square')\n",
    "    plt.xlim(-1.2*l, 1.2*l)\n",
    "    plt.ylim(-1.2*l, 1.2*l)"
   ]
  },
  {
   "cell_type": "code",
   "execution_count": 4,
   "metadata": {},
   "outputs": [
    {
     "data": {
      "image/png": "[encoded data removed]",
      "text/plain": [
       "<Figure size 640x480 with 1 Axes>"
      ]
     },
     "metadata": {},
     "output_type": "display_data"
    }
   ],
   "source": [
    "fig = plt.figure()\n",
    "anim = animation.FuncAnimation(fig, pendulum, frames=40, interval=50)"
   ]
  },
  {
   "cell_type": "code",
   "execution_count": null,
   "metadata": {},
   "outputs": [],
   "source": []
  },
  {
   "cell_type": "markdown",
   "metadata": {},
   "source": [
    "### ArtistAnimation\n",
    "\n",
    "You can alternatively save all frames in an array and animate at once."
   ]
  },
  {
   "cell_type": "code",
   "execution_count": 5,
   "metadata": {},
   "outputs": [
    {
     "data": {
      "image/png": "[encoded data removed]",
      "text/plain": [
       "<Figure size 640x480 with 1 Axes>"
      ]
     },
     "metadata": {},
     "output_type": "display_data"
    }
   ],
   "source": [
    "fig = plt.figure()\n",
    "frames = []  # prepare frames\n",
    "for i in range(40):\n",
    "    # clear previous plot\n",
    "    #plt.cla()\n",
    "    dt = 0.05\n",
    "    l = 1  # length\n",
    "    th = np.sin(np.pi*i*dt)  # angle, 2 sec period\n",
    "    x = np.sin(th)\n",
    "    y = -np.cos(th)\n",
    "    # draw a new plot\n",
    "    art = plt.plot([0, x], [0, y], \"b\")\n",
    "    # plt.plot(x, y, 'ro', markersize=10)\n",
    "    plt.axis('square')\n",
    "    plt.xlim(-1.2*l, 1.2*l)\n",
    "    plt.ylim(-1.2*l, 1.2*l)\n",
    "    # append to the frame\n",
    "    frames.append(art)\n",
    "anim = animation.ArtistAnimation(fig, frames, interval=50)\n",
    "#plt.show()"
   ]
  },
  {
   "cell_type": "markdown",
   "metadata": {},
   "source": [
    "You can save the movie in a gif file."
   ]
  },
  {
   "cell_type": "code",
   "execution_count": 6,
   "metadata": {
    "scrolled": true
   },
   "outputs": [],
   "source": [
    "anim.save(\"pend.gif\", writer='pillow')"
   ]
  },
  {
   "cell_type": "markdown",
   "metadata": {},
   "source": [
    "Open `pend.gif` in a browser to see it moves."
   ]
  },
  {
   "cell_type": "code",
   "execution_count": null,
   "metadata": {},
   "outputs": [],
   "source": []
  }
 ],
 "metadata": {
  "kernelspec": {
   "display_name": "Python 3 (ipykernel)",
   "language": "python",
   "name": "python3"
  },
  "language_info": {
   "codemirror_mode": {
    "name": "ipython",
    "version": 3
   },
   "file_extension": ".py",
   "mimetype": "text/x-python",
   "name": "python",
   "nbconvert_exporter": "python",
   "pygments_lexer": "ipython3",
   "version": "3.11.5"
  }
 },
 "nbformat": 4,
 "nbformat_minor": 4
}
