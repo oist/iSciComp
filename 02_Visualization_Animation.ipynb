{
 "cells": [
  {
   "cell_type": "markdown",
   "metadata": {},
   "source": [
    "# Animation\n",
    "\n",
    "You can use `animation` class of `matplotlib` to show animations."
   ]
  },
  {
   "cell_type": "code",
   "execution_count": null,
   "metadata": {},
   "outputs": [],
   "source": [
    "import numpy as np\n",
    "import matplotlib.pyplot as plt\n",
    "from matplotlib import animation"
   ]
  },
  {
   "cell_type": "markdown",
   "metadata": {},
   "source": [
    "After downloading the code, please uncomment the line `%matplotlib notebook` to see animations."
   ]
  },
  {
   "cell_type": "code",
   "execution_count": null,
   "metadata": {},
   "outputs": [],
   "source": [
    "%matplotlib inline\n",
    "#%matplotlib notebook"
   ]
  },
  {
   "cell_type": "markdown",
   "metadata": {},
   "source": [
    "## FuncAnimation\n",
    "\n",
    "It is often helpful to visualize the data while they are computed, rather than after all computations are done.  \n",
    "For that, you can define a function to draw each frame, and pass the function to `FuncAnimation`.\n",
    "\n",
    "We will see defining your own function in Chapter 4, but here is an example."
   ]
  },
  {
   "cell_type": "code",
   "execution_count": null,
   "metadata": {},
   "outputs": [],
   "source": [
    "def pendulum(i, clear=True, dt=0.05):\n",
    "    \"\"\"swinging pendulum. i:frame number\"\"\"\n",
    "    # clear previous plot\n",
    "    if clear:\n",
    "        plt.cla()\n",
    "    # swinging pendulum\n",
    "    l = 1  # length\n",
    "    th = np.sin(np.pi*i*dt)  # angle, 2 sec period\n",
    "    x = np.sin(th)\n",
    "    y = -np.cos(th)\n",
    "    # draw a new plot\n",
    "    pl = plt.plot([0, x], [0, y], 'b')\n",
    "    plt.axis('square')\n",
    "    plt.xlim(-1.2*l, 1.2*l)\n",
    "    plt.ylim(-1.2*l, 1.2*l)\n",
    "    return pl   # for saving"
   ]
  },
  {
   "cell_type": "code",
   "execution_count": null,
   "metadata": {},
   "outputs": [],
   "source": [
    "fig = plt.figure()\n",
    "anim = animation.FuncAnimation(fig, pendulum, frames=40, interval=50)"
   ]
  },
  {
   "cell_type": "code",
   "execution_count": null,
   "metadata": {},
   "outputs": [],
   "source": []
  },
  {
   "cell_type": "markdown",
   "metadata": {},
   "source": [
    "## ArtistAnimation\n",
    "\n",
    "You can alternatively save all frames in an array and animate at once."
   ]
  },
  {
   "cell_type": "code",
   "execution_count": null,
   "metadata": {},
   "outputs": [],
   "source": [
    "fig = plt.figure()\n",
    "frames = []  # prepare frames\n",
    "for i in range(40):\n",
    "    art = pendulum(i, False)\n",
    "    # append to the frame\n",
    "    frames.append(art)\n",
    "anim = animation.ArtistAnimation(fig, frames, interval=50)"
   ]
  },
  {
   "cell_type": "code",
   "execution_count": null,
   "metadata": {},
   "outputs": [],
   "source": []
  },
  {
   "cell_type": "markdown",
   "metadata": {},
   "source": [
    "You can save the movie in a motion gif file."
   ]
  },
  {
   "cell_type": "code",
   "execution_count": null,
   "metadata": {
    "scrolled": true
   },
   "outputs": [],
   "source": [
    "anim.save(\"pend.gif\", writer='pillow')"
   ]
  },
  {
   "cell_type": "markdown",
   "metadata": {},
   "source": [
    "Here is the saved file `pend.gif`:\n",
    "![pend.gif](pend.gif)"
   ]
  },
  {
   "cell_type": "code",
   "execution_count": null,
   "metadata": {},
   "outputs": [],
   "source": []
  }
 ],
 "metadata": {
  "kernelspec": {
   "display_name": "Python 3 (ipykernel)",
   "language": "python",
   "name": "python3"
  },
  "language_info": {
   "codemirror_mode": {
    "name": "ipython",
    "version": 3
   },
   "file_extension": ".py",
   "mimetype": "text/x-python",
   "name": "python",
   "nbconvert_exporter": "python",
   "pygments_lexer": "ipython3",
   "version": "3.11.0"
  }
 },
 "nbformat": 4,
 "nbformat_minor": 4
}
