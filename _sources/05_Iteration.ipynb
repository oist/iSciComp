{
 "cells": [
  {
   "cell_type": "markdown",
   "metadata": {},
   "source": [
    "# 5. Iterative Computation"
   ]
  },
  {
   "cell_type": "markdown",
   "metadata": {},
   "source": [
    "Many algorithm involve iterative computation until a solution is found with a desired accuracy.\n",
    "\n",
    "Also many mathematical models are formulated as a mapping from the current state to the next state, which gives discrete-time dynamics.\n",
    "\n",
    "References:\n",
    "* Python Tutorial chapter 4: Control Flow Tools\n",
    "* Wikipedia: Newton's method, Logistic map"
   ]
  },
  {
   "cell_type": "code",
   "execution_count": null,
   "metadata": {
    "scrolled": true
   },
   "outputs": [],
   "source": [
    "import numpy as np\n",
    "import matplotlib.pyplot as plt\n",
    "%matplotlib inline"
   ]
  },
  {
   "cell_type": "markdown",
   "metadata": {},
   "source": [
    "## Newton's method\n",
    "For a linear equation $A x = b$, or $A x - b = 0$, the solution is given using the inverse matrix as \n",
    "\n",
    "$$x = A^{-1} b. $$  \n",
    "\n",
    "For a general nonlinear equation $f(x) = 0$, the solution may require iterative approximation.\n",
    "A typical way is by the Newton's method:  \n",
    "\n",
    "$$x_{k+1} = x_k - \\frac{f(x_k)}{f'(x_k)} $$\n",
    "\n",
    "starting from an initial guess $x_0$."
   ]
  },
  {
   "cell_type": "markdown",
   "metadata": {},
   "source": [
    "### Example\n",
    "Let us define a plynomial function and its derivative."
   ]
  },
  {
   "cell_type": "code",
   "execution_count": null,
   "metadata": {},
   "outputs": [],
   "source": [
    "def poly(x, a, deriv=True):\n",
    "    \"\"\"Polynomial a[0] + a[1]*x + ... + a[n]*x**n\n",
    "        and its derivative a[1] + 2*a[2]*x + ... + n*a[n]*x**(n-1)\"\"\"\n",
    "    n = len(a)  # order+1\n",
    "    xp = np.array([x**i for i in range(n)])  # 1, x,.. x**(n-1)\n",
    "    y = np.dot(a, xp)\n",
    "    if deriv==False:\n",
    "        return y\n",
    "    xq = np.array([i*x**(i-1) for i in range(1,n)])  # 1, 2*x,.. n*x**(n-1))\n",
    "    dy = np.dot(a[1:], xq)\n",
    "    return y, dy"
   ]
  },
  {
   "cell_type": "code",
   "execution_count": null,
   "metadata": {},
   "outputs": [],
   "source": [
    "poly(1, [3, 2, 1])"
   ]
  },
  {
   "cell_type": "code",
   "execution_count": null,
   "metadata": {},
   "outputs": [],
   "source": [
    "poly(1, [3, 2, 1], deriv=False)"
   ]
  },
  {
   "cell_type": "markdown",
   "metadata": {},
   "source": [
    "Here is an example polynomial with three zero-crossing points."
   ]
  },
  {
   "cell_type": "code",
   "execution_count": null,
   "metadata": {},
   "outputs": [],
   "source": [
    "# f(x) = (x-3)(x-1)(x+2) = 6 - 5x -2x^2 + x^3 \n",
    "a = np.array([6, -5, -2, 1])\n",
    "#a = np.random.randn(4) # random coefficients\n",
    "print(a)\n",
    "x = np.linspace(-3, 5, 50)\n",
    "y, dy = poly(x, a)\n",
    "plt.plot(x, y, x, dy)\n",
    "plt.grid('on'); plt.xlabel('x'); plt.ylabel('y');\n",
    "plt.legend(('f(x)','f\\'(x)'));"
   ]
  },
  {
   "cell_type": "markdown",
   "metadata": {},
   "source": [
    "Here's a simple implementation of Newton's method with visualization."
   ]
  },
  {
   "cell_type": "code",
   "execution_count": null,
   "metadata": {},
   "outputs": [],
   "source": [
    "def newton(f, x0, a, target=1e-6, maxstep=20):\n",
    "    \"\"\"Newton's method. \n",
    "        f: return f and df/dx\n",
    "        x: initial guess\n",
    "        a: parameter for f(x,a)\n",
    "        target: accuracy target\"\"\"\n",
    "    x = np.zeros(maxstep+1)\n",
    "    y = np.zeros(maxstep)\n",
    "    x[0] = x0\n",
    "    for i in range(maxstep):\n",
    "        y[i], dy = f(x[i], a)\n",
    "        if abs(y[i]) < target:\n",
    "            break  # converged!\n",
    "        x[i+1] = x[i] - y[i]/dy    # new x\n",
    "    else:\n",
    "        print('did not coverge in', maxstep, 'steps.')\n",
    "    return x[:i+1], y[:i+1]"
   ]
  },
  {
   "cell_type": "markdown",
   "metadata": {},
   "source": [
    "Let us see how it works."
   ]
  },
  {
   "cell_type": "code",
   "execution_count": null,
   "metadata": {},
   "outputs": [],
   "source": [
    "newton(poly, 5, a)"
   ]
  },
  {
   "cell_type": "code",
   "execution_count": null,
   "metadata": {},
   "outputs": [],
   "source": [
    "newton(poly, 0, a)"
   ]
  },
  {
   "cell_type": "markdown",
   "metadata": {},
   "source": [
    "Here is a graphical representation."
   ]
  },
  {
   "cell_type": "code",
   "execution_count": null,
   "metadata": {},
   "outputs": [],
   "source": [
    "def zigsawplot(x, y):\n",
    "    \"\"\"zigsaw lines of updates\n",
    "    (x0,0),(x0,y0),(x1,0), (x1,y1),...(xn,0),(xn,yn)\"\"\"\n",
    "    x = np.repeat(x, 2)  # duplicate items\n",
    "    y = np.c_[np.zeros_like(y),y].ravel()  # insert zeros\n",
    "    plt.plot(x, y)"
   ]
  },
  {
   "cell_type": "code",
   "execution_count": null,
   "metadata": {},
   "outputs": [],
   "source": [
    "plt.plot(x, y)\n",
    "xt, yt = newton(poly, 5, a)\n",
    "zigsawplot(xt, yt)\n",
    "plt.grid('on'); plt.xlabel('x'); plt.ylabel('y');"
   ]
  },
  {
   "cell_type": "markdown",
   "metadata": {},
   "source": [
    "Try starting from other initial guesses"
   ]
  },
  {
   "cell_type": "code",
   "execution_count": null,
   "metadata": {},
   "outputs": [],
   "source": [
    "plt.plot(x, y)\n",
    "xt, yt = newton(poly, -3, a)\n",
    "zigsawplot(xt, yt)\n",
    "plt.grid('on'); plt.xlabel('x'); plt.ylabel('y');"
   ]
  },
  {
   "cell_type": "code",
   "execution_count": null,
   "metadata": {},
   "outputs": [],
   "source": [
    "plt.plot(x, y)\n",
    "xt, yt = newton(poly, 1.9, a)\n",
    "zigsawplot(xt, yt)\n",
    "plt.grid('on'); plt.xlabel('x'); plt.ylabel('y');"
   ]
  },
  {
   "cell_type": "code",
   "execution_count": null,
   "metadata": {
    "scrolled": true
   },
   "outputs": [],
   "source": [
    "plt.plot(x, y)\n",
    "xt, yt = newton(poly, 2.1, a)\n",
    "zigsawplot(xt, yt)\n",
    "plt.grid('on'); plt.xlabel('x'); plt.ylabel('y');"
   ]
  },
  {
   "cell_type": "code",
   "execution_count": null,
   "metadata": {},
   "outputs": [],
   "source": []
  },
  {
   "cell_type": "markdown",
   "metadata": {},
   "source": [
    "## Quasi-Newton Method\n",
    "The derivative $f'(x)$ may not be available or hard to compute.\n",
    "In that case, we can use the slope between two points to approximate the derivative.\n",
    "\n",
    "$$f'(x) \\simeq \\frac{f(x_k)-f(x_{k-1})}{x_k-x_{k-1}} $$\n",
    "\n",
    "Quasi-Neuton method uses pairs of points to find the solution:\n",
    "\n",
    "$$x_{k+1} = x_k - f(x_k)\\frac{x_k-x_{k-1}}{f(x_k)-f(x_{k-1})} $$\n",
    "\n",
    "starting from an initial guess $x_0$."
   ]
  },
  {
   "cell_type": "code",
   "execution_count": null,
   "metadata": {},
   "outputs": [],
   "source": [
    "def qnewton(f, x0, x1, *args, target=1e-6, maxstep=20):\n",
    "    \"\"\"Quasi-Newton's method. \n",
    "        f: return f\n",
    "        x: initial guess\n",
    "        x0, x1: initial guess at two points\n",
    "        *args: parameter for f(x,*args)\n",
    "        target: accuracy target\"\"\"\n",
    "    x = np.zeros(maxstep+2)\n",
    "    y = np.zeros(maxstep+1)\n",
    "    x[0], x[1] = x0, x1\n",
    "    y[0] = f(x[0], *args)\n",
    "    for i in range(1, maxstep+1):\n",
    "        y[i] = f(x[i], *args)\n",
    "        dy = (y[i] - y[i-1])/(x[i] - x[i-1])  # approximate derivative\n",
    "        if abs(y[i]) < target:\n",
    "            break  # converged!\n",
    "        x[i+1] = x[i] - y[i]/dy    # new x\n",
    "    else:\n",
    "        print('did not coverge in', maxstep, 'steps.')\n",
    "    return x[:i+1], y[:i+1]"
   ]
  },
  {
   "cell_type": "code",
   "execution_count": null,
   "metadata": {},
   "outputs": [],
   "source": [
    "qnewton(poly, 5, 4, a, False)"
   ]
  },
  {
   "cell_type": "code",
   "execution_count": null,
   "metadata": {},
   "outputs": [],
   "source": [
    "def qnplot(x, y):\n",
    "    \"\"\"lines for quasi-Newton updates\n",
    "    (x0,0),(x0,y0),(x2,0), (x1,0),(x1,y1),(x3,0),...(xn,0),(xn,yn)\"\"\"\n",
    "    for i in range(len(x)-2):\n",
    "        plt.plot([x[i],x[i],x[i+2]], [0,y[i],0])"
   ]
  },
  {
   "cell_type": "code",
   "execution_count": null,
   "metadata": {},
   "outputs": [],
   "source": [
    "plt.plot(x, y)\n",
    "xt, yt = qnewton(poly, 5, 4, a, False)\n",
    "qnplot(xt, yt)\n",
    "plt.grid('on'); plt.xlabel('x'); plt.ylabel('y');"
   ]
  },
  {
   "cell_type": "code",
   "execution_count": null,
   "metadata": {},
   "outputs": [],
   "source": [
    "plt.plot(x, y)\n",
    "xt, yt = qnewton(poly, 0, 2, a, False)\n",
    "qnplot(xt, yt)\n",
    "plt.grid('on'); plt.xlabel('x'); plt.ylabel('y');"
   ]
  },
  {
   "cell_type": "code",
   "execution_count": null,
   "metadata": {},
   "outputs": [],
   "source": [
    "plt.plot(x, y)\n",
    "xt, yt = qnewton(poly, -4, -3, a, False)\n",
    "qnplot(xt, yt)\n",
    "plt.grid('on'); plt.xlabel('x'); plt.ylabel('y');"
   ]
  },
  {
   "cell_type": "markdown",
   "metadata": {},
   "source": [
    "Define your own function and see how Newton's or Quasi-Newton method works."
   ]
  },
  {
   "cell_type": "code",
   "execution_count": null,
   "metadata": {},
   "outputs": [],
   "source": []
  },
  {
   "cell_type": "markdown",
   "metadata": {
    "collapsed": true
   },
   "source": [
    "## Discrete-time Dynamics\n",
    "We have already seen the iterative dynamics by multiplication of a matrix, which can cause expansion, shrinkage, and rotation.  \n",
    "With nonlinear mapping, more varieties of behaviors including chaos can be observed."
   ]
  },
  {
   "cell_type": "markdown",
   "metadata": {},
   "source": [
    "### 1D Dynamics\n",
    "The simplest case is the logistic map.\n",
    "\n",
    "$$ x_{k+1} = a x_k(1 - x_k) $$"
   ]
  },
  {
   "cell_type": "code",
   "execution_count": null,
   "metadata": {},
   "outputs": [],
   "source": [
    "def logistic(x, a):\n",
    "    \"\"\"logistic map: f(x) = a*x*(1-x)\"\"\"\n",
    "    return a*x*(1 - x)"
   ]
  },
  {
   "cell_type": "code",
   "execution_count": null,
   "metadata": {},
   "outputs": [],
   "source": [
    "x = np.linspace(0, 1, 50)\n",
    "# plot with different levels of a\n",
    "A = np.arange(5)\n",
    "leg = []\n",
    "for a in A:\n",
    "    y = logistic(x, a)\n",
    "    plt.plot(x, y)\n",
    "    leg.append('a = {}'.format(a))\n",
    "plt.legend(leg)\n",
    "plt.plot([0,1], [0,1])  # x=f(x) line\n",
    "plt.xlabel('x'); plt.ylabel('f(x)')\n",
    "plt.axis('square');"
   ]
  },
  {
   "cell_type": "code",
   "execution_count": null,
   "metadata": {},
   "outputs": [],
   "source": [
    "def iterate(f, x0, a, steps=100):\n",
    "    \"\"\"x0: initial value\n",
    "        a: parameter to f(x,a)\"\"\"\n",
    "    x = np.zeros(steps+1)\n",
    "    x[0] = x0\n",
    "    for k in range(steps):\n",
    "        x[k+1] = f(x[k], a)\n",
    "    return x"
   ]
  },
  {
   "cell_type": "markdown",
   "metadata": {},
   "source": [
    "Try iteration with different parameter $a$."
   ]
  },
  {
   "cell_type": "code",
   "execution_count": null,
   "metadata": {},
   "outputs": [],
   "source": [
    "a = 1\n",
    "xt = iterate(logistic, 0.1, a, 200)\n",
    "plt.plot(xt);"
   ]
  },
  {
   "cell_type": "code",
   "execution_count": null,
   "metadata": {},
   "outputs": [],
   "source": [
    "a = 3.5\n",
    "xt = iterate(logistic, 0.1, a, 200)\n",
    "plt.plot(xt);"
   ]
  },
  {
   "cell_type": "markdown",
   "metadata": {},
   "source": [
    "Trajectory in $x_k$-$x_{k+1}$ plane, called \"cobsplot\"."
   ]
  },
  {
   "cell_type": "code",
   "execution_count": null,
   "metadata": {},
   "outputs": [],
   "source": [
    "def cobsplot(x):\n",
    "    \"\"\"cobsplot of trajectory x\"\"\"\n",
    "    plt.plot([0,1], [0,1])  # x=f(x) line\n",
    "    x2 = np.repeat(x, 2)  # duplicate items\n",
    "    plt.plot(x2[:-1], x2[1:], lw=0.5) # (x0,x1), (x1,x1), (x1,x2),...\n",
    "    plt.xlabel('$x_k$'); plt.ylabel('$x_{k+1}$');\n",
    "    plt.axis('square');"
   ]
  },
  {
   "cell_type": "code",
   "execution_count": null,
   "metadata": {},
   "outputs": [],
   "source": [
    "y = logistic(x, a)\n",
    "plt.plot(x, y)  # plot the map\n",
    "cobsplot(xt)  # plot the trajectory"
   ]
  },
  {
   "cell_type": "markdown",
   "metadata": {},
   "source": [
    "It is known that $3.57<a<4$ can cause chaotic oscillation."
   ]
  },
  {
   "cell_type": "code",
   "execution_count": null,
   "metadata": {},
   "outputs": [],
   "source": [
    "a = 3.8\n",
    "y = logistic(x, a)\n",
    "plt.plot(x, y)  # plot the map\n",
    "xt = iterate(logistic, 0.1, a, 200)\n",
    "cobsplot(xt)  # plot the trajectory"
   ]
  },
  {
   "cell_type": "code",
   "execution_count": null,
   "metadata": {},
   "outputs": [],
   "source": []
  },
  {
   "cell_type": "markdown",
   "metadata": {},
   "source": [
    "### 2D Dynamics\n",
    "Let us see an example of the Hénon map:\n",
    "\n",
    "$$        x_{k+1} = 1 - a x_k^2 + y_k $$\n",
    "\n",
    "$$ y_{k+1} = b x_k $$"
   ]
  },
  {
   "cell_type": "code",
   "execution_count": null,
   "metadata": {},
   "outputs": [],
   "source": [
    "def henon(xy, ab=[1.4, 0.3]):\n",
    "    \"\"\"Henon map: stretch in y and fold to x\n",
    "        x_{k+1} = 1 - a*x_k**2 + y_k\n",
    "        y_{k+1} = b*x_k\n",
    "        xy: state [x, y]\n",
    "        ab: parameters [a, b]\n",
    "    \"\"\"\n",
    "    x = 1 - ab[0]*xy[0]**2 + xy[1]\n",
    "    y = ab[1]*xy[0]\n",
    "    return np.array([x, y])"
   ]
  },
  {
   "cell_type": "code",
   "execution_count": null,
   "metadata": {},
   "outputs": [],
   "source": [
    "henon([1,1])"
   ]
  },
  {
   "cell_type": "code",
   "execution_count": null,
   "metadata": {},
   "outputs": [],
   "source": [
    "def iterate_vec(f, x0, *args, steps=100):\n",
    "    \"\"\"f: n-dimensional map\n",
    "        x0: initial vector\n",
    "        *args: optional parameter to f(x,*args) \"\"\"\n",
    "    n = len(x0)  # state dimension\n",
    "    x = np.zeros((steps+1, n))\n",
    "    x[0] = x0\n",
    "    for k in range(steps):\n",
    "        x[k+1] = f(x[k], *args) \n",
    "    return x"
   ]
  },
  {
   "cell_type": "code",
   "execution_count": null,
   "metadata": {},
   "outputs": [],
   "source": [
    "x = iterate_vec(henon, [1, 0])\n",
    "plt.plot(x);"
   ]
  },
  {
   "cell_type": "code",
   "execution_count": null,
   "metadata": {},
   "outputs": [],
   "source": [
    "x = iterate_vec(henon, [1, 0], [1.4, 0.3], steps=5000)\n",
    "plt.plot(x[:,0], x[:,1], '.', markersize=0.5)\n",
    "plt.xlabel('x'); plt.ylabel('y'); plt.axis('equal');"
   ]
  },
  {
   "cell_type": "code",
   "execution_count": null,
   "metadata": {},
   "outputs": [],
   "source": [
    "x"
   ]
  },
  {
   "cell_type": "markdown",
   "metadata": {},
   "source": [
    "Here's another example:  Gumowski-Mira map, which originates from a model of accelerator beams:\n",
    "\n",
    "$$ x_{n+1} = y_n + \\alpha y_n (1-\\sigma y_n^2) + g(x_n) $$\n",
    "\n",
    "$$ y_{n+1} = -x_n + g(x_{n+1}) $$\n",
    "\n",
    "$$ g(x) = \\mu x + \\frac{2(1-\\mu)x^2}{1+x^2} $$"
   ]
  },
  {
   "cell_type": "code",
   "execution_count": null,
   "metadata": {},
   "outputs": [],
   "source": [
    "def gumowski_mira(xy, asm=[0.009, 0.05, -0.801]):\n",
    "    \"\"\"Gumowski-Mira map:\n",
    "        x_{k+1} = y_n + \\alpha y_n (1-\\sigma y_n^2) + g(x_n\n",
    "        y_{k+1} = -x_n + g(x_{n+1})\n",
    "        g(x) = \\mu x + \\frac{2(1-\\mu)x^2}{1+x^2}\n",
    "        xy: state [x, y]\n",
    "        asm: parameters [a, sigma, mu]\n",
    "    \"\"\"\n",
    "    x, y = np.array(xy, dtype=float)  # unpack array\n",
    "    alpha, sigma, mu = np.array(asm, dtype=float)\n",
    "    # local function\n",
    "    def g(x):\n",
    "        return mu*x + 2*(1-mu)*x**2/(1+x**2)\n",
    "\n",
    "    x1 = y + alpha*y*(1 - sigma*y**2) + g(x)\n",
    "    y1 = -x + g(x1) \n",
    "    return np.array([x1, y1])"
   ]
  },
  {
   "cell_type": "code",
   "execution_count": null,
   "metadata": {},
   "outputs": [],
   "source": [
    "x = iterate_vec(gumowski_mira, [1, 1], steps=10000)\n",
    "plt.plot(x[:,0], x[:,1], '.', markersize=0.5)\n",
    "plt.axis('equal');"
   ]
  },
  {
   "cell_type": "code",
   "execution_count": null,
   "metadata": {},
   "outputs": [],
   "source": []
  },
  {
   "cell_type": "markdown",
   "metadata": {},
   "source": [
    "## Recursive call\n",
    "In Python and other modern languages, a function and call itself from inside. This can allow compact coding for complex functions."
   ]
  },
  {
   "cell_type": "code",
   "execution_count": null,
   "metadata": {},
   "outputs": [],
   "source": [
    "def factorial(n):\n",
    "    \"\"\"factorial by recursice call\"\"\"\n",
    "    if n == 0:\n",
    "        return 1\n",
    "    else:\n",
    "        return factorial(n-1)*n"
   ]
  },
  {
   "cell_type": "code",
   "execution_count": null,
   "metadata": {},
   "outputs": [],
   "source": [
    "factorial(4)"
   ]
  },
  {
   "cell_type": "code",
   "execution_count": null,
   "metadata": {},
   "outputs": [],
   "source": []
  },
  {
   "cell_type": "markdown",
   "metadata": {},
   "source": [
    "### Drawing fractals\n",
    "Recursive calls can be used for drawing *fractal* figures that have multi-scale self-similar structures.\n",
    "\n",
    "One example is the *Cantor set*, which is made by iteratively removing the middle part of a segment."
   ]
  },
  {
   "cell_type": "code",
   "execution_count": null,
   "metadata": {},
   "outputs": [],
   "source": [
    "def cantorplot(x0=0, x1=1, a=1/3, e=1e-4):\n",
    "    \"\"\"draw a Cantor set\n",
    "    x0, x1: end points\n",
    "    a: fraction to fill\n",
    "    e: minimal resolution\"\"\"\n",
    "    u = x1 - x0  # length\n",
    "    if abs(u) < e:  # for a very short segment\n",
    "        plt.plot([x0, x1], [0, 0])  # straight line\n",
    "    else:\n",
    "        cantorplot(x0, x0+a*u, a, e)  # left 1/3\n",
    "        cantorplot(x1-a*u, x1, a, e)  # right 1/3"
   ]
  },
  {
   "cell_type": "code",
   "execution_count": null,
   "metadata": {},
   "outputs": [],
   "source": [
    "# Interactive mode to allow zooming up\n",
    "#%matplotlib notebook"
   ]
  },
  {
   "cell_type": "code",
   "execution_count": null,
   "metadata": {},
   "outputs": [],
   "source": [
    "plt.figure(figsize=(10,2))\n",
    "cantorplot(a=0.4)"
   ]
  },
  {
   "cell_type": "code",
   "execution_count": null,
   "metadata": {},
   "outputs": [],
   "source": []
  },
  {
   "cell_type": "markdown",
   "metadata": {},
   "source": [
    "Here is an example of drawing complex lines like a coastline or a clowd by replacing a segment with zig-zag segments."
   ]
  },
  {
   "cell_type": "code",
   "execution_count": null,
   "metadata": {},
   "outputs": [],
   "source": [
    "def fractaline(x0=[0,0], x1=[1,0], a=[0.1, -0.1], e=1e-2):\n",
    "    \"\"\"draw a fractal line\n",
    "    x0, x1: start, end points\n",
    "    a: shifts of via points\n",
    "    e: minimal resolution\"\"\"\n",
    "    n = np.size(a)   # number of via points\n",
    "    x = np.zeros((n+2,2))\n",
    "    x[0], x[-1] = x0, x1\n",
    "    u = x[-1] - x[0]   # connecting vector\n",
    "    v = np.array([-u[1],u[0]])  # orthogonal vector\n",
    "    for i, ai in enumerate(a):\n",
    "        x[i+1] = x0 + u*(i+1)/(n+1) + ai*v  # shift of via points\n",
    "    #print(x)\n",
    "    if sum((u**2)) < e**2: # if the segment is very short\n",
    "        plt.plot(x[:,0],x[:,1])  # draw a straight line\n",
    "    else:\n",
    "        for i in range(n+1):  # n segments\n",
    "            fractaline(x[i], x[i+1], a, e)\n",
    "    plt.axis('equal');"
   ]
  },
  {
   "cell_type": "code",
   "execution_count": null,
   "metadata": {},
   "outputs": [],
   "source": [
    "plt.figure(figsize=(10,4))\n",
    "fractaline()"
   ]
  },
  {
   "cell_type": "code",
   "execution_count": null,
   "metadata": {},
   "outputs": [],
   "source": [
    "plt.figure(figsize=(10,5))\n",
    "fractaline(a=[0.2])"
   ]
  },
  {
   "cell_type": "code",
   "execution_count": null,
   "metadata": {},
   "outputs": [],
   "source": []
  }
 ],
 "metadata": {
  "kernelspec": {
   "display_name": "Python 3 (ipykernel)",
   "language": "python",
   "name": "python3"
  },
  "language_info": {
   "codemirror_mode": {
    "name": "ipython",
    "version": 3
   },
   "file_extension": ".py",
   "mimetype": "text/x-python",
   "name": "python",
   "nbconvert_exporter": "python",
   "pygments_lexer": "ipython3",
   "version": "3.12.2"
  }
 },
 "nbformat": 4,
 "nbformat_minor": 1
}
