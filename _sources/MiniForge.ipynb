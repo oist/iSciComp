{
 "cells": [
  {
   "cell_type": "markdown",
   "metadata": {},
   "source": [
    "# Installing Python by Miniforge\n",
    "\n",
    "There are two major repositories for python and its pakcages:  \n",
    "* Python Package Index (PyPI): https://pypi.org  \n",
    "Official repository for python distribution:  \n",
    "* conda-forge: https://conda-forge.org  \n",
    "Communit-based repository using `conda`, an open environment managemnet tool used in Anaconda.\n",
    "\n",
    "Here we use `miniforge` that allows you to flexibly set-up enviroments and install Packages.\n"
   ]
  },
  {
   "cell_type": "markdown",
   "metadata": {},
   "source": [
    "## Using `Terminal`\n",
    "\n",
    "To install python and packages by yourself, you should first start a *Terminal*, from which you type commands line-by-line.\n",
    "\n",
    "* On Linux, `Terminal` or `Console` is a standard intreface.  \n",
    "* On MacOX, you can open `Terminal` application in the `Utiliies` folder.  \n",
    "* On Windows, you can install free `Terminal` application from MicroSoft Store: \n",
    "https://aka.ms/terminal"
   ]
  },
  {
   "cell_type": "markdown",
   "metadata": {},
   "source": [
    "## Installing `conda` from `miniforge`\n",
    "\n",
    "Download `miniforge` from https://conda-forge.org/download/  \n",
    "\n",
    "Then run it using the terminal as described in the download page. On Mac and Linux, it would be:\n",
    "\n",
    "```bash Miniforge3-xx-yy.sh```\n",
    "\n",
    "This installs `conda`, a standard command for setting up python environments and installing packages."
   ]
  },
  {
   "cell_type": "markdown",
   "metadata": {},
   "source": [
    "## Setting up an environment by `conda`\n",
    "\n",
    "Before starting installation, it is better to setup a specific *environment* for each project to allow using the best version of Python and Packages.\n",
    "\n",
    "For example, we can create an evironment *iscicomp* by\n",
    "\n",
    "```conda create -n iscicomp```\n",
    "\n",
    "To see what environments are there, you can use\n",
    "\n",
    "```conda env list```\n",
    "\n",
    "and move to one of them by\n",
    "\n",
    "```conda activate iscicomp```"
   ]
  },
  {
   "cell_type": "markdown",
   "metadata": {},
   "source": [
    "## Installing python and packages by `conda`\n",
    "\n",
    "Now let us install the latest stable version of python by\n",
    "\n",
    "```conda install python```\n",
    "\n",
    "If you prefer a paricular version of python, you can do, e.g.\n",
    "\n",
    "```conda install python=3.10```\n",
    "\n",
    "Please run `python` and check that a python of the right version starts up.  \n",
    "You can type `>>> exit()` to finish `python`.\n",
    "\n",
    "Now you can install any other packages as needed. For this book, the following is sufficient:\n",
    "\n",
    "```conda install jupyter numpy matplotlib ipympl scipy scikit-learn```"
   ]
  },
  {
   "cell_type": "code",
   "execution_count": null,
   "metadata": {},
   "outputs": [],
   "source": []
  },
  {
   "cell_type": "code",
   "execution_count": null,
   "metadata": {},
   "outputs": [],
   "source": []
  }
 ],
 "metadata": {
  "kernelspec": {
   "display_name": "Python 3 (ipykernel)",
   "language": "python",
   "name": "python3"
  },
  "language_info": {
   "codemirror_mode": {
    "name": "ipython",
    "version": 3
   },
   "file_extension": ".py",
   "mimetype": "text/x-python",
   "name": "python",
   "nbconvert_exporter": "python",
   "pygments_lexer": "ipython3",
   "version": "3.11.0"
  }
 },
 "nbformat": 4,
 "nbformat_minor": 4
}
