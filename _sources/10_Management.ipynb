{
 "cells": [
  {
   "cell_type": "markdown",
   "metadata": {},
   "source": [
    "# 10. Software Management"
   ]
  },
  {
   "cell_type": "markdown",
   "metadata": {},
   "source": [
    "In addition to writing a program for each computing task, knowldge and skills are needed for designing and managing the entire data analysis or simulation procedure, testing and revising the codes, and sharing the data and tools among collaborators.\n",
    "\n",
    "Unlike commercial software development, research computing often starts from a simple exploratory code created by a single researcher. However, even for a single-person project, it is beneficial to follow the standard practices in software development because.\n",
    "* If your project is successful, it will be succeeded by other members of your lab or the research community world wide.\n",
    "* You, after a few months, do not remember where you put which file, what was this file, or why you wrote this code.\n",
    "\n",
    "### References:\n",
    "* Greg Wilson, et al. (2017). Good enough practices in scientific computing. PLOS Computational Biology, 13(6): e1005510 (https://doi.org/10.1371/journal.pcbi.1005510)\n",
    "\n",
    "\n",
    "* Hart EM, et al. (2016). Ten simple rules for digital data storage. PLoS Comput Biol, 12, e1005097. https://doi.org/10.1371/journal.pcbi.1005097\n",
    "\n",
    "* Ouellette F, et al. (2018). A FAIR guide for data providers to maximise sharing of human genomic data. PLoS Comput Biol, 14. https://doi.org/10.1371/journal.pcbi.1005873\n",
    "\n",
    "* Eke DO, Bernard A, Bjaalie JG, Chavarriaga R, Hanakawa T, Hannan AJ, Hill SL, Martone ME, McMahon A, Ruebel O, Crook S, Thiels E, Pestilli F (2021). International data governance for neuroscience. Neuron, 10.1016/j.neuron.2021.11.017. https://doi.org/10.1016/j.neuron.2021.11.017"
   ]
  },
  {
   "cell_type": "markdown",
   "metadata": {},
   "source": [
    "## Coding Style\n",
    "\n",
    "In writing programs, keep in mind:\n",
    "* Make them *modular* and aviod duplicate codes.\n",
    "* Give explanation at the beginning of each file/function.\n",
    "* Use file/function/variable names that you can comprehend a year later.\n",
    "* Never write a numeric parameter in an equation; define it as a variable/argument.\n",
    "* Give comments for significant parts/lines of codes.\n",
    "* Turn comment/uncomment into `if-else` for different modes of operation.\n",
    "* Verify your code with a simple input for which the correct output is known.\n",
    "* Prepare documentation even before somebody asks you, as you yourself will need that after a few months."
   ]
  },
  {
   "cell_type": "markdown",
   "metadata": {},
   "source": [
    "In some projects, all you need is to download pre-existing tools and apply them to the data. Even in that case, it is better to record the procedure as a *script* for\n",
    "* avioding/detecting manual errors\n",
    "* reproducibility of the result\n",
    "* re-analysis with new data, tool, or parameters\n",
    "\n",
    "### Scritping\n",
    "On Unix-like systems, the common way is a *shell script*, which is a file containing a series of commands you would type into a terminal.\n",
    "\n",
    "For a more elaborate processing, a Python script is often preferred."
   ]
  },
  {
   "cell_type": "markdown",
   "metadata": {},
   "source": [
    "### Pipeline Tools\n",
    "Once your procedures for data processing is determined, such as filtering, visualization, and statistical tests, the sequence should be defined as a *script* with folders, filenames, and parameters.\n",
    "\n",
    "A classic way in Unix-like system is *shell script*, but you can use Python for data processing scripts. There are dedicated packages for data processing pipelines, such as:\n",
    "\n",
    "* scikit-learn.pipeline: https://scikit-learn.org/stable/modules/compose.html\n",
    "* Luigi: https://github.com/spotify/luigi\n",
    "* Prefect: https://www.prefect.io\n",
    "* Snakemake: https://snakemake.github.io\n"
   ]
  },
  {
   "cell_type": "code",
   "execution_count": null,
   "metadata": {},
   "outputs": [],
   "source": []
  },
  {
   "cell_type": "markdown",
   "metadata": {},
   "source": [
    "## Software/Data Licenses\n",
    "Today, increasingly more journals and agencies request that you make the data and programs publicly accessible for\n",
    "* reproducibility of research results\n",
    "* enable meta-analysis\n",
    "* facilitate reuse of data and programs\n",
    "\n",
    "You should set an appropriate condition in making your data or program public, to facillitate their use and to keep your (and your organization's) intellectural property. Points of consideration in making your data/programs public include:\n",
    "* copyright\n",
    "* acknowledgement\n",
    "* revision\n",
    "* re-distribution\n",
    "* commercial use\n",
    "\n",
    "It is also important to know the licenses of the software you use for your development, as that can limit the way you can use/distribute your programs."
   ]
  },
  {
   "cell_type": "markdown",
   "metadata": {},
   "source": [
    "### Creative Commons\n",
    "\n",
    "Creative Commons (https://creativecommons.org) is an emerging standard using combination of three aspects:\n",
    "\n",
    "* Attribution (BY): request aknowldgement, e.g., citing a paper\n",
    "\n",
    "* NonCommercial (NC): no commercial use\n",
    "\n",
    "* ShareAlike (SA) or NoDerivs (ND): allow modification and re-distribution  or not\n",
    "\n",
    "See https://creativecommons.org/licenses/?lang=en for typical combinations."
   ]
  },
  {
   "cell_type": "markdown",
   "metadata": {},
   "source": [
    "### GPL, BSD, MIT, Apache, etc.\n",
    "In open software community, several types of licensing have been commonly used:\n",
    "* Gnu General Public Licence (GPL): redistribution requires access to source codes in the same license. Called *copy left*.\n",
    "* BSD and MIT license: do not require source code access or succession of the same license.\n",
    "* Apache License: does not even require the license terms.\n",
    "* Public Domain (CC0): no copyright insisted. Free to use/modify/distribute.\n",
    "\n",
    "See https://en.wikipedia.org/wiki/Comparison_of_free_and_open-source_software_licenses for further details."
   ]
  },
  {
   "cell_type": "code",
   "execution_count": null,
   "metadata": {},
   "outputs": [],
   "source": []
  },
  {
   "cell_type": "markdown",
   "metadata": {},
   "source": [
    "## Data Management\n",
    "Most research start with obtaining *raw* data, continues on with a series of pre-processing, visualization and analyses, and complete with paper writing. Handling all different files without confusion and corruption takes some good thoughts and habits.\n",
    "* Keep the raw data and *metadata* and take back up.\n",
    "* Store data as you wish to see when receiving.\n",
    "* Record all the steps of processing, better with a script."
   ]
  },
  {
   "cell_type": "markdown",
   "metadata": {},
   "source": [
    "### Always Backup\n",
    "\n",
    "As soon as you obtain data, don't forget to take a backup with appropriate documentation.\n",
    "\n",
    "For a small scale data, *DropBox* is an easy solution for data backup and sharing.\n",
    "\n",
    "At OIST, for storing large scale data, you can use the *bucket* drive. See:\n",
    "https://groups.oist.jp/it/research-storage\n",
    "\n",
    "In a Unix like system, `rsync` is the basic command to take a backup of a folder. \n",
    "There are options for incremental backup, by searching for new files in the folder and copy them."
   ]
  },
  {
   "cell_type": "code",
   "execution_count": null,
   "metadata": {},
   "outputs": [],
   "source": []
  },
  {
   "cell_type": "markdown",
   "metadata": {},
   "source": [
    "## Data sharing\n",
    "\n",
    "Data sharing is an important emerging issue in the scientific community, as science today is becoming more and more data intensive. \n",
    "In good old days, each researcher did an experiment, gathered data, wrote a paper, and that was the end of the story.\n",
    "Nowadays, each experiment can produce Giga to Tera bytes of data, which are much more than just one researcher to analyze by him/herself.\n",
    "We nee efficient and reliable methods to share data within each lab, across collaboration labs, and the entire research community.\n",
    "\n",
    "### Data Governance\n",
    "\n",
    "When making data public, especially human subject data, a good care has to be taken for the privacy. In general\n",
    "\n",
    "* data should be anonymized so that the identity of subject cannot be obtained or inferred.\n",
    "\n",
    "* prior consent must be obtained from the subject regarding the way their data are made public."
   ]
  },
  {
   "cell_type": "markdown",
   "metadata": {
    "collapsed": true
   },
   "source": [
    "### Metadata\n",
    "*Metadata* is data about data. It usually includes:\n",
    "\n",
    "* Time and date of creation\n",
    "* Creator or author of the data\n",
    "* Method for creating the data\n",
    "* File format\n",
    "* File size\n",
    "* ...\n",
    "\n",
    "Different research communities have their own standards of metadata, such as \n",
    "\n",
    "* ISO-TC211 for geographic data: https://www.isotc211.org\n",
    "\n",
    "* ISA for biomedical data: https://www.isacommons.org\n",
    "\n",
    "Following such a standard can help you using common data processing tools, and your data to be found and utilized by more people.\n"
   ]
  },
  {
   "cell_type": "markdown",
   "metadata": {},
   "source": [
    "## Data File Formats\n",
    "It is always better to save your data in a common file format so that they can be read by many data processing tools.\n",
    "\n",
    "### CSV, TSV\n",
    "Values separated by comma or tab, in multiple lines like a table.\n",
    "These are still commonly used for simplicity.\n",
    "\n",
    "### XML\n",
    "https://www.xml.org\n",
    "Keys and values stored in a form similar to html.\n",
    "Often used to store metadata.\n",
    "\n",
    "### JSON\n",
    "https://www.json.org/json-en.html\n",
    "Common in exchanging large data with multiple compnents.\n",
    "\n",
    "### HDF5\n",
    "https://www.hdfgroup.org\n",
    "Hierarchical datar format that can also store binary data.\n",
    "\n",
    "Some domain-specific data formats are based HDF5, such as Neurodata Without Borders (NWB)  https://www.nwb.org"
   ]
  },
  {
   "cell_type": "code",
   "execution_count": null,
   "metadata": {},
   "outputs": [],
   "source": []
  },
  {
   "cell_type": "code",
   "execution_count": null,
   "metadata": {},
   "outputs": [],
   "source": []
  },
  {
   "cell_type": "code",
   "execution_count": null,
   "metadata": {},
   "outputs": [],
   "source": []
  }
 ],
 "metadata": {
  "kernelspec": {
   "display_name": "Python 3 (ipykernel)",
   "language": "python",
   "name": "python3"
  },
  "language_info": {
   "codemirror_mode": {
    "name": "ipython",
    "version": 3
   },
   "file_extension": ".py",
   "mimetype": "text/x-python",
   "name": "python",
   "nbconvert_exporter": "python",
   "pygments_lexer": "ipython3",
   "version": "3.11.0"
  }
 },
 "nbformat": 4,
 "nbformat_minor": 1
}
