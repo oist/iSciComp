{
 "cells": [
  {
   "cell_type": "markdown",
   "metadata": {},
   "source": [
    "# 10. Software Management"
   ]
  },
  {
   "cell_type": "markdown",
   "metadata": {},
   "source": [
    "In addition to writing a program for each computing task, knowldge and skills are needed for designing and managing the entire data analysis or simulation procedure, testing and revising the codes, and sharing the data and tools among collaborators.\n",
    "\n",
    "Unlike commercial software development, research computing often starts from a simple exploratory code created by a single researcher. However, even for a single-person project, it is beneficial to follow the standard practices in software development because.\n",
    "* If your project is successful, it will be succeeded by other members of your lab or the research community world wide.\n",
    "* You, after a few months, do not remember where you put which file, what was this file, or why you wrote this code.\n",
    "\n",
    "### References:\n",
    "* Greg Wilson, et al. (2017). Good enough practices in scientific computing. PLOS Computational Biology, 13(6): e1005510 (https://doi.org/10.1371/journal.pcbi.1005510)\n",
    "\n",
    "\n",
    "* Hart EM, et al. (2016). Ten simple rules for digital data storage. PLoS Comput Biol, 12, e1005097. https://doi.org/10.1371/journal.pcbi.1005097\n",
    "\n",
    "* Ouellette F, et al. (2018). A FAIR guide for data providers to maximise sharing of human genomic data. PLoS Comput Biol, 14. https://doi.org/10.1371/journal.pcbi.1005873\n",
    "\n",
    "* Eke DO, Bernard A, Bjaalie JG, Chavarriaga R, Hanakawa T, Hannan AJ, Hill SL, Martone ME, McMahon A, Ruebel O, Crook S, Thiels E, Pestilli F (2021). International data governance for neuroscience. Neuron, 10.1016/j.neuron.2021.11.017. https://doi.org/10.1016/j.neuron.2021.11.017"
   ]
  },
  {
   "cell_type": "markdown",
   "metadata": {},
   "source": [
    "## Coding Style\n",
    "\n",
    "In writing programs, keep in mind:\n",
    "* Make them *modular* and aviod duplicate codes.\n",
    "* Give explanation at the beginning of each file/function.\n",
    "* Use file/function/variable names that you can comprehend a year later.\n",
    "* Never write a numeric parameter in an equation; define it as a variable/argument.\n",
    "* Give comments for significant parts/lines of codes.\n",
    "* Turn comment/uncomment into `if-else` for different modes of operation.\n",
    "* Verify your code with a simple input for which the correct output is known.\n",
    "* Prepare documentation even before somebody asks you, as you yourself will need that after a few months."
   ]
  },
  {
   "cell_type": "markdown",
   "metadata": {},
   "source": [
    "In some projects, all you need is to download pre-existing tools and apply them to the data. Even in that case, it is better to record the procedure as a *script* for\n",
    "* avioding/detecting manual errors\n",
    "* reproducibility of the result\n",
    "* re-analysis with new data, tool, or parameters\n",
    "\n",
    "### Scritping\n",
    "On Unix-like systems, the common way is a *shell script*, which is a file containing a series of commands you would type into a terminal.\n",
    "\n",
    "For a more elaborate processing, a Python script is often preferred."
   ]
  },
  {
   "cell_type": "markdown",
   "metadata": {},
   "source": [
    "### Pipeline Tools\n",
    "Once your procedures for data processing is determined, such as filtering, visualization, and statistical tests, the sequence should be defined as a *script* with folders, filenames, and parameters.\n",
    "\n",
    "A classic way in Unix-like system is *shell script*, but you can use Python for data processing scripts. There are dedicated packages for data processing pipelines, such as:\n",
    "\n",
    "* scikit-learn.pipeline: https://scikit-learn.org/stable/modules/compose.html\n",
    "* Luigi: https://github.com/spotify/luigi\n",
    "* Prefect: https://www.prefect.io\n",
    "* Snakemake: https://snakemake.github.io\n"
   ]
  },
  {
   "cell_type": "code",
   "execution_count": null,
   "metadata": {},
   "outputs": [],
   "source": []
  },
  {
   "cell_type": "markdown",
   "metadata": {},
   "source": [
    "## Software/Data Licenses\n",
    "Today, increasingly more journals and agencies request that you make the data and programs publicly accessible for\n",
    "* reproducibility of research results\n",
    "* enable meta-analysis\n",
    "* facilitate reuse of data and programs\n",
    "\n",
    "You should set an appropriate condition in making your data or program public, to facillitate their use and to keep your (and your organization's) intellectural property. Points of consideration in making your data/programs public include:\n",
    "* copyright\n",
    "* acknowledgement\n",
    "* revision\n",
    "* re-distribution\n",
    "* commercial use\n",
    "\n",
    "It is also important to know the licenses of the software you use for your development, as that can limit the way you can use/distribute your programs."
   ]
  },
  {
   "cell_type": "markdown",
   "metadata": {},
   "source": [
    "### Creative Commons\n",
    "\n",
    "Creative Commons (https://creativecommons.org) is an emerging standard using combination of three aspects:\n",
    "\n",
    "* Attribution (BY): request aknowldgement, e.g., citing a paper\n",
    "\n",
    "* NonCommercial (NC): no commercial use\n",
    "\n",
    "* ShareAlike (SA) or NoDerivs (ND): allow modification and re-distribution  or not\n",
    "\n",
    "See https://creativecommons.org/licenses/?lang=en for typical combinations."
   ]
  },
  {
   "cell_type": "markdown",
   "metadata": {},
   "source": [
    "### GPL, BSD, MIT, Apache, etc.\n",
    "In open software community, several types of licensing have been commonly used:\n",
    "* Gnu General Public Licence (GPL): redistribution requires access to source codes in the same license. Called *copy left*.\n",
    "* BSD and MIT license: do not require source code access or succession of the same license.\n",
    "* Apache License: does not even require the license terms.\n",
    "* Public Domain (CC0): no copyright insisted. Free to use/modify/distribute.\n",
    "\n",
    "See https://en.wikipedia.org/wiki/Comparison_of_free_and_open-source_software_licenses for further details."
   ]
  },
  {
   "cell_type": "code",
   "execution_count": null,
   "metadata": {},
   "outputs": [],
   "source": []
  },
  {
   "cell_type": "markdown",
   "metadata": {},
   "source": [
    "## Data Management\n",
    "Most research start with obtaining *raw* data, continues on with a series of pre-processing, visualization and analyses, and complete with paper writing. Handling all different files without confusion and corruption takes some good thoughts and habits.\n",
    "* Keep the raw data and *metadata* and take back up.\n",
    "* Store data as you wish to see when receiving.\n",
    "* Record all the steps of processing, better with a script."
   ]
  },
  {
   "cell_type": "markdown",
   "metadata": {},
   "source": [
    "### Always Backup\n",
    "\n",
    "As soon as you obtain data, don't forget to take a backup with appropriate documentation.\n",
    "\n",
    "For a small scale data, *DropBox* is an easy solution for data backup and sharing.\n",
    "\n",
    "At OIST, for storing large scale data, you can use the *bucket* drive. See:\n",
    "https://groups.oist.jp/it/research-storage\n",
    "\n",
    "In a Unix like system, `rsync` is the basic command to take a backup of a folder. \n",
    "There are options for incremental backup, by searching for new files in the folder and copy them."
   ]
  },
  {
   "cell_type": "code",
   "execution_count": null,
   "metadata": {},
   "outputs": [],
   "source": []
  },
  {
   "cell_type": "markdown",
   "metadata": {},
   "source": [
    "## Data sharing\n",
    "\n",
    "Data sharing is an important emerging issue in the scientific community, as science today is becoming more and more data intensive. \n",
    "In good old days, each researcher did an experiment, gathered data, wrote a paper, and that was the end of the story.\n",
    "Nowadays, each experiment can produce Giga to Tera bytes of data, which are much more than just one researcher to analyze by him/herself.\n",
    "We nee efficient and reliable methods to share data within each lab, across collaboration labs, and the entire research community.\n",
    "\n",
    "### Data Governance\n",
    "\n",
    "When making data public, especially human subject data, a good care has to be taken for the privacy. In general\n",
    "\n",
    "* data should be anonymized so that the identity of subject cannot be obtained or inferred.\n",
    "\n",
    "* prior consent must be obtained from the subject regarding the way their data are made public."
   ]
  },
  {
   "cell_type": "markdown",
   "metadata": {
    "collapsed": true
   },
   "source": [
    "### Metadata\n",
    "*Metadata* is data about data. It usually includes:\n",
    "\n",
    "* Time and date of creation\n",
    "* Creator or author of the data\n",
    "* Method for creating the data\n",
    "* File format\n",
    "* File size\n",
    "* ...\n",
    "\n",
    "Different research communities have their own standards of metadata, such as \n",
    "\n",
    "* ISO-TC211 for geographic data: https://www.isotc211.org\n",
    "\n",
    "* ISA for biomedical data: https://www.isacommons.org\n",
    "\n",
    "Following such a standard can help you using common data processing tools, and your data to be found and utilized by more people.\n"
   ]
  },
  {
   "cell_type": "markdown",
   "metadata": {},
   "source": [
    "## Data File Formats\n",
    "It is always better to save your data in a common file format so that they can be read by many data processing tools.\n",
    "\n",
    "### CSV, TSV\n",
    "Values separated by comma or tab, in multiple lines like a table.\n",
    "These are still commonly used for simplicity.\n",
    "\n",
    "### XML\n",
    "https://www.xml.org\n",
    "Keys and values stored in a form similar to html.\n",
    "Often used to store metadata.\n",
    "\n",
    "### JSON\n",
    "https://www.json.org/json-en.html\n",
    "Common in exchanging large data with multiple compnents.\n",
    "\n",
    "### HDF5\n",
    "https://www.hdfgroup.org\n",
    "Hierarchical datar format that can also store binary data.\n",
    "\n",
    "Some domain-specific data formats are based HDF5, such as Neurodata Without Borders (NWB)  https://www.nwb.org"
   ]
  },
  {
   "cell_type": "code",
   "execution_count": null,
   "metadata": {},
   "outputs": [],
   "source": []
  },
  {
   "cell_type": "markdown",
   "metadata": {},
   "source": [
    "## Version Control System\n",
    "Software development is repetitions of coding, testing, and improving. A version control system (VCS) allows\n",
    "* parallel development of parts and re-integration\n",
    "* trace back to previous versions when a problem is detected"
   ]
  },
  {
   "cell_type": "markdown",
   "metadata": {},
   "source": [
    "## Git\n",
    "\n",
    "The most popular VCS today is *Git*, created by Linus Torvalds for developing Linux. "
   ]
  },
  {
   "cell_type": "markdown",
   "metadata": {},
   "source": [
    "If `git` has not been installed, follow one of these to install.\n",
    "\n",
    "Mac: \n",
    "* Install [XCode](https://developer.apple.com/jp/xcode/) from the *App Store*\n",
    "* or install *XCode Command Line Tools* by `xcode-select --install`\n",
    "* or install [HomeBrew](https://brew.sh) and run `brew install git`\n",
    "\n",
    "Windows: \n",
    "* Install [Git for Windows](https://gitforwindows.org)\n",
    "\n",
    "Detailed documentations can be found at https://git-scm.com/docs"
   ]
  },
  {
   "cell_type": "code",
   "execution_count": null,
   "metadata": {},
   "outputs": [],
   "source": []
  },
  {
   "cell_type": "markdown",
   "metadata": {},
   "source": [
    "### Starting a repository\n",
    "\n",
    "In your working directory, you can start a new repository by `git init`\n",
    "\n",
    "Here we use an example of a directory containing a python module cell.py that we created in Chapter 4."
   ]
  },
  {
   "cell_type": "code",
   "execution_count": 1,
   "metadata": {},
   "outputs": [
    {
     "name": "stdout",
     "output_type": "stream",
     "text": [
      "/Users/doya/OIST Dropbox/kenji doya/Python/iSciComp/cell\n"
     ]
    }
   ],
   "source": [
    "%mkdir cell\n",
    "%cd cell"
   ]
  },
  {
   "cell_type": "code",
   "execution_count": 2,
   "metadata": {},
   "outputs": [
    {
     "name": "stdout",
     "output_type": "stream",
     "text": [
      "Writing cell.py\n"
     ]
    }
   ],
   "source": [
    "%%file cell.py\n",
    "\"\"\"Classes for cells\"\"\"\n",
    "\n",
    "import numpy as np\n",
    "import matplotlib.pyplot as plt\n",
    "\n",
    "class Cell:\n",
    "    \"\"\"Class for a cell\"\"\"\n",
    "\n",
    "    def __init__(self, position = [0,0], radius=0.1, color=[1,0,0,0.5]):\n",
    "        \"\"\"Make a new cell\"\"\"\n",
    "        self.position = np.array(position)\n",
    "        self.radius = radius\n",
    "        self.color = color\n",
    "     \n",
    "    def show(self):\n",
    "        \"\"\"Visualize as a circule\"\"\"\n",
    "        c = plt.Circle(self.position,self.radius,color=self.color)\n",
    "        plt.gca().add_patch(c)\n",
    "        plt.axis('equal')\n",
    "\n",
    "if __name__ == \"__main__\":\n",
    "    c0 = Cell()\n",
    "    c0.show()\n",
    "    plt.show()"
   ]
  },
  {
   "cell_type": "code",
   "execution_count": 3,
   "metadata": {},
   "outputs": [
    {
     "data": {
      "text/plain": [
       "'/Users/doya/OIST Dropbox/kenji doya/Python/iSciComp/cell'"
      ]
     },
     "execution_count": 3,
     "metadata": {},
     "output_type": "execute_result"
    }
   ],
   "source": [
    "%pwd"
   ]
  },
  {
   "cell_type": "markdown",
   "metadata": {},
   "source": [
    "Try running this code."
   ]
  },
  {
   "cell_type": "code",
   "execution_count": 4,
   "metadata": {},
   "outputs": [
    {
     "data": {
      "image/png": "[encoded data removed]",
      "text/plain": [
       "<Figure size 640x480 with 1 Axes>"
      ]
     },
     "metadata": {},
     "output_type": "display_data"
    }
   ],
   "source": [
    "%run cell.py"
   ]
  },
  {
   "cell_type": "code",
   "execution_count": null,
   "metadata": {},
   "outputs": [],
   "source": []
  },
  {
   "cell_type": "markdown",
   "metadata": {},
   "source": [
    "Now we create a new repository."
   ]
  },
  {
   "cell_type": "code",
   "execution_count": 5,
   "metadata": {},
   "outputs": [
    {
     "name": "stdout",
     "output_type": "stream",
     "text": [
      "Initialized empty Git repository in /Users/doya/OIST Dropbox/kenji doya/Python/iSciComp/cell/.git/\r\n"
     ]
    }
   ],
   "source": [
    "!git init"
   ]
  },
  {
   "cell_type": "markdown",
   "metadata": {},
   "source": [
    "This creates an invisible folder `.git` for book keeping."
   ]
  },
  {
   "cell_type": "code",
   "execution_count": 6,
   "metadata": {},
   "outputs": [
    {
     "name": "stdout",
     "output_type": "stream",
     "text": [
      "\u001b[34m.\u001b[m\u001b[m/       \u001b[34m..\u001b[m\u001b[m/      \u001b[34m.git\u001b[m\u001b[m/    cell.py\r\n"
     ]
    }
   ],
   "source": [
    "%ls -a"
   ]
  },
  {
   "cell_type": "code",
   "execution_count": 7,
   "metadata": {},
   "outputs": [
    {
     "name": "stdout",
     "output_type": "stream",
     "text": [
      "HEAD         description  \u001b[34minfo\u001b[m\u001b[m/        \u001b[34mrefs\u001b[m\u001b[m/\r\n",
      "config       \u001b[34mhooks\u001b[m\u001b[m/       \u001b[34mobjects\u001b[m\u001b[m/\r\n"
     ]
    }
   ],
   "source": [
    "# The contents of .git folder\n",
    "%ls .git"
   ]
  },
  {
   "cell_type": "markdown",
   "metadata": {},
   "source": [
    "You can check the status of the repository by `git status`"
   ]
  },
  {
   "cell_type": "code",
   "execution_count": 8,
   "metadata": {},
   "outputs": [
    {
     "name": "stdout",
     "output_type": "stream",
     "text": [
      "On branch main\r\n",
      "\r\n",
      "No commits yet\r\n",
      "\r\n",
      "Untracked files:\r\n",
      "  (use \"git add <file>...\" to include in what will be committed)\r\n",
      "\t\u001b[31mcell.py\u001b[m\r\n",
      "\r\n",
      "nothing added to commit but untracked files present (use \"git add\" to track)\r\n"
     ]
    }
   ],
   "source": [
    "!git status"
   ]
  },
  {
   "cell_type": "markdown",
   "metadata": {},
   "source": [
    "### Staging and Commiting files\n",
    "\n",
    "You can use `git add` to add files for staging.\n",
    "\n",
    "And then `git commit` to register a version.\n",
    "\n",
    "![commit](figures/git_commit.png)"
   ]
  },
  {
   "cell_type": "code",
   "execution_count": 9,
   "metadata": {},
   "outputs": [
    {
     "name": "stdout",
     "output_type": "stream",
     "text": [
      "On branch main\r\n",
      "\r\n",
      "No commits yet\r\n",
      "\r\n",
      "Changes to be committed:\r\n",
      "  (use \"git rm --cached <file>...\" to unstage)\r\n",
      "\t\u001b[32mnew file:   cell.py\u001b[m\r\n",
      "\r\n"
     ]
    }
   ],
   "source": [
    "!git add cell.py\n",
    "!git status"
   ]
  },
  {
   "cell_type": "markdown",
   "metadata": {},
   "source": [
    "Register the current version by `git commit` with a message by `-m`."
   ]
  },
  {
   "cell_type": "code",
   "execution_count": 10,
   "metadata": {},
   "outputs": [
    {
     "name": "stdout",
     "output_type": "stream",
     "text": [
      "[main (root-commit) 230b938] initial version\n",
      " 1 file changed, 24 insertions(+)\n",
      " create mode 100644 cell.py\n",
      "On branch main\n",
      "nothing to commit, working tree clean\n"
     ]
    }
   ],
   "source": [
    "!git commit -m \"initial version\"\n",
    "!git status"
   ]
  },
  {
   "cell_type": "code",
   "execution_count": null,
   "metadata": {},
   "outputs": [],
   "source": []
  },
  {
   "cell_type": "markdown",
   "metadata": {},
   "source": [
    "### Registering changes\n",
    "After editing a file, you can register a new version by `git add` and then `git commit`.\n",
    "\n",
    "Please edit cell.py or add another file to the directory and check the status."
   ]
  },
  {
   "cell_type": "code",
   "execution_count": 11,
   "metadata": {},
   "outputs": [
    {
     "name": "stdout",
     "output_type": "stream",
     "text": [
      "On branch main\r\n",
      "nothing to commit, working tree clean\r\n"
     ]
    }
   ],
   "source": [
    "!git status"
   ]
  },
  {
   "cell_type": "markdown",
   "metadata": {},
   "source": [
    "Use `git add` to stage updated files."
   ]
  },
  {
   "cell_type": "code",
   "execution_count": 12,
   "metadata": {},
   "outputs": [
    {
     "name": "stdout",
     "output_type": "stream",
     "text": [
      "On branch main\r\n",
      "nothing to commit, working tree clean\r\n"
     ]
    }
   ],
   "source": [
    "!git add cell.py\n",
    "!git status"
   ]
  },
  {
   "cell_type": "markdown",
   "metadata": {},
   "source": [
    "And the `git commit` the changes"
   ]
  },
  {
   "cell_type": "code",
   "execution_count": 13,
   "metadata": {},
   "outputs": [
    {
     "name": "stdout",
     "output_type": "stream",
     "text": [
      "On branch main\n",
      "nothing to commit, working tree clean\n",
      "On branch main\n",
      "nothing to commit, working tree clean\n"
     ]
    }
   ],
   "source": [
    "!git commit -m \"cell.py updated\"\n",
    "!git status"
   ]
  },
  {
   "cell_type": "markdown",
   "metadata": {},
   "source": [
    "You can see what was changed by `git show`."
   ]
  },
  {
   "cell_type": "code",
   "execution_count": 14,
   "metadata": {},
   "outputs": [
    {
     "name": "stdout",
     "output_type": "stream",
     "text": [
      "\u001b[33mcommit 230b9381af8d82e4177589e935f0e5a1a16a0c53\u001b[m\u001b[33m (\u001b[m\u001b[1;36mHEAD -> \u001b[m\u001b[1;32mmain\u001b[m\u001b[33m)\u001b[m\r\n",
      "Author: Kenji Doya <doya@oist.jp>\r\n",
      "Date:   Mon Dec 16 14:47:52 2024 +0900\r\n",
      "\r\n",
      "    initial version\r\n",
      "\r\n",
      "\u001b[1mdiff --git a/cell.py b/cell.py\u001b[m\r\n",
      "\u001b[1mnew file mode 100644\u001b[m\r\n",
      "\u001b[1mindex 0000000..807fa64\u001b[m\r\n",
      "\u001b[1m--- /dev/null\u001b[m\r\n",
      "\u001b[1m+++ b/cell.py\u001b[m\r\n",
      "\u001b[36m@@ -0,0 +1,24 @@\u001b[m\r\n",
      "\u001b[32m+\u001b[m\u001b[32m\"\"\"Classes for cells\"\"\"\u001b[m\r\n",
      "\u001b[32m+\u001b[m\r\n",
      "\u001b[32m+\u001b[m\u001b[32mimport numpy as np\u001b[m\r\n",
      "\u001b[32m+\u001b[m\u001b[32mimport matplotlib.pyplot as plt\u001b[m\r\n",
      "\u001b[32m+\u001b[m\r\n",
      "\u001b[32m+\u001b[m\u001b[32mclass Cell:\u001b[m\r\n",
      "\u001b[32m+\u001b[m\u001b[32m    \"\"\"Class for a cell\"\"\"\u001b[m\r\n",
      "\u001b[32m+\u001b[m\r\n",
      "\u001b[32m+\u001b[m\u001b[32m    def __init__(self, position = [0,0], radius=0.1, color=[1,0,0,0.5]):\u001b[m\r\n",
      "\u001b[32m+\u001b[m\u001b[32m        \"\"\"Make a new cell\"\"\"\u001b[m\r\n",
      "\u001b[32m+\u001b[m\u001b[32m        self.position = np.array(position)\u001b[m\r\n",
      "\u001b[32m+\u001b[m\u001b[32m        self.radius = radius\u001b[m\r\n",
      "\u001b[32m+\u001b[m\u001b[32m        self.color = color\u001b[m\r\n",
      "\u001b[32m+\u001b[m\u001b[41m     \u001b[m\r\n",
      "\u001b[32m+\u001b[m\u001b[32m    def show(self):\u001b[m\r\n",
      "\u001b[32m+\u001b[m\u001b[32m        \"\"\"Visualize as a circule\"\"\"\u001b[m\r\n",
      "\u001b[32m+\u001b[m\u001b[32m        c = plt.Circle(self.position,self.radius,color=self.color)\u001b[m\r\n",
      "\u001b[32m+\u001b[m\u001b[32m        plt.gca().add_patch(c)\u001b[m\r\n",
      "\u001b[32m+\u001b[m\u001b[32m        plt.axis('equal')\u001b[m\r\n",
      "\u001b[32m+\u001b[m\r\n",
      "\u001b[32m+\u001b[m\u001b[32mif __name__ == \"__main__\":\u001b[m\r\n",
      "\u001b[32m+\u001b[m\u001b[32m    c0 = Cell()\u001b[m\r\n",
      "\u001b[32m+\u001b[m\u001b[32m    c0.show()\u001b[m\r\n",
      "\u001b[32m+\u001b[m\u001b[32m    plt.show()\u001b[m\r\n"
     ]
    }
   ],
   "source": [
    "!git show"
   ]
  },
  {
   "cell_type": "markdown",
   "metadata": {},
   "source": [
    "You can check the revision history by `git log`"
   ]
  },
  {
   "cell_type": "code",
   "execution_count": 15,
   "metadata": {},
   "outputs": [
    {
     "name": "stdout",
     "output_type": "stream",
     "text": [
      "\u001b[33mcommit 230b9381af8d82e4177589e935f0e5a1a16a0c53\u001b[m\u001b[33m (\u001b[m\u001b[1;36mHEAD -> \u001b[m\u001b[1;32mmain\u001b[m\u001b[33m)\u001b[m\r\n",
      "Author: Kenji Doya <doya@oist.jp>\r\n",
      "Date:   Mon Dec 16 14:47:52 2024 +0900\r\n",
      "\r\n",
      "    initial version\r\n"
     ]
    }
   ],
   "source": [
    "!git log"
   ]
  },
  {
   "cell_type": "code",
   "execution_count": 16,
   "metadata": {},
   "outputs": [
    {
     "name": "stdout",
     "output_type": "stream",
     "text": [
      "/Users/doya/OIST Dropbox/kenji doya/Python/iSciComp/cell\r\n"
     ]
    }
   ],
   "source": [
    "!pwd"
   ]
  },
  {
   "cell_type": "markdown",
   "metadata": {},
   "source": [
    "### Branch\n",
    "\n",
    "You can create a new *branch* to update the codes while keeping the current version untouched.\n",
    "\n",
    "After creating a branch, switch to that branch by `git checkout`."
   ]
  },
  {
   "cell_type": "code",
   "execution_count": 17,
   "metadata": {},
   "outputs": [
    {
     "name": "stdout",
     "output_type": "stream",
     "text": [
      "Switched to branch 'myBranch'\r\n"
     ]
    }
   ],
   "source": [
    "!git branch myBranch\n",
    "!git checkout myBranch"
   ]
  },
  {
   "cell_type": "markdown",
   "metadata": {},
   "source": [
    "Now let us add a new module `gCell`."
   ]
  },
  {
   "cell_type": "code",
   "execution_count": 18,
   "metadata": {},
   "outputs": [
    {
     "name": "stdout",
     "output_type": "stream",
     "text": [
      "On branch myBranch\r\n",
      "nothing to commit, working tree clean\r\n"
     ]
    }
   ],
   "source": [
    "!git status"
   ]
  },
  {
   "cell_type": "code",
   "execution_count": 19,
   "metadata": {},
   "outputs": [
    {
     "name": "stdout",
     "output_type": "stream",
     "text": [
      "Writing gcell.py\n"
     ]
    }
   ],
   "source": [
    "%%file gcell.py\n",
    "\"\"\"Classes for cells\"\"\"\n",
    "\n",
    "import numpy as np\n",
    "import matplotlib.pyplot as plt\n",
    "import cell\n",
    "\n",
    "class gCell(cell.Cell):\n",
    "    \"\"\"Class of growing cell based on Cell class\"\"\"\n",
    "    \n",
    "    def grow(self, scale=2):\n",
    "        \"\"\"Grow the area of the cell\"\"\"\n",
    "        self.radius *= np.sqrt(scale)\n",
    "        \n",
    "    def duplicate(self):\n",
    "        \"\"\"Make a copy with a random shift\"\"\"\n",
    "        c = gCell(self.position+np.random.randn(2)*self.radius, self.radius, self.color)\n",
    "        return c\n",
    "\n",
    "if __name__ == \"__main__\":\n",
    "    c0 = gCell()\n",
    "    c0.show()\n",
    "    c1 = c0.duplicate()\n",
    "    c1.grow()\n",
    "    c1.show()\n",
    "    plt.show()"
   ]
  },
  {
   "cell_type": "code",
   "execution_count": 20,
   "metadata": {},
   "outputs": [
    {
     "name": "stdout",
     "output_type": "stream",
     "text": [
      "cell.py  gcell.py\r\n"
     ]
    }
   ],
   "source": [
    "!ls"
   ]
  },
  {
   "cell_type": "code",
   "execution_count": 21,
   "metadata": {},
   "outputs": [
    {
     "data": {
      "image/png": "[encoded data removed]",
      "text/plain": [
       "<Figure size 640x480 with 1 Axes>"
      ]
     },
     "metadata": {},
     "output_type": "display_data"
    }
   ],
   "source": [
    "%run gcell.py"
   ]
  },
  {
   "cell_type": "markdown",
   "metadata": {},
   "source": [
    "Then `git add` and `git commit`."
   ]
  },
  {
   "cell_type": "code",
   "execution_count": 22,
   "metadata": {},
   "outputs": [
    {
     "name": "stdout",
     "output_type": "stream",
     "text": [
      "[myBranch 53ba529] added gcell.py\n",
      " 1 file changed, 25 insertions(+)\n",
      " create mode 100644 gcell.py\n",
      "On branch myBranch\n",
      "Untracked files:\n",
      "  (use \"git add <file>...\" to include in what will be committed)\n",
      "\t\u001b[31m__pycache__/\u001b[m\n",
      "\n",
      "nothing added to commit but untracked files present (use \"git add\" to track)\n"
     ]
    }
   ],
   "source": [
    "!git add gcell.py\n",
    "!git commit -m \"added gcell.py\"\n",
    "!git status"
   ]
  },
  {
   "cell_type": "code",
   "execution_count": 23,
   "metadata": {},
   "outputs": [
    {
     "name": "stdout",
     "output_type": "stream",
     "text": [
      "\u001b[33mcommit 53ba5292cbd172076d619b920e1c12cb11ef6f81\u001b[m\u001b[33m (\u001b[m\u001b[1;36mHEAD -> \u001b[m\u001b[1;32mmyBranch\u001b[m\u001b[33m)\u001b[m\r\n",
      "Author: Kenji Doya <doya@oist.jp>\r\n",
      "Date:   Mon Dec 16 14:47:55 2024 +0900\r\n",
      "\r\n",
      "    added gcell.py\r\n",
      "\r\n",
      "\u001b[1mdiff --git a/gcell.py b/gcell.py\u001b[m\r\n",
      "\u001b[1mnew file mode 100644\u001b[m\r\n",
      "\u001b[1mindex 0000000..cd7b2a5\u001b[m\r\n",
      "\u001b[1m--- /dev/null\u001b[m\r\n",
      "\u001b[1m+++ b/gcell.py\u001b[m\r\n",
      "\u001b[36m@@ -0,0 +1,25 @@\u001b[m\r\n",
      "\u001b[32m+\u001b[m\u001b[32m\"\"\"Classes for cells\"\"\"\u001b[m\r\n",
      "\u001b[32m+\u001b[m\r\n",
      "\u001b[32m+\u001b[m\u001b[32mimport numpy as np\u001b[m\r\n",
      "\u001b[32m+\u001b[m\u001b[32mimport matplotlib.pyplot as plt\u001b[m\r\n",
      "\u001b[32m+\u001b[m\u001b[32mimport cell\u001b[m\r\n",
      "\u001b[32m+\u001b[m\r\n",
      "\u001b[32m+\u001b[m\u001b[32mclass gCell(cell.Cell):\u001b[m\r\n",
      "\u001b[32m+\u001b[m\u001b[32m    \"\"\"Class of growing cell based on Cell class\"\"\"\u001b[m\r\n",
      "\u001b[32m+\u001b[m\u001b[41m    \u001b[m\r\n",
      "\u001b[32m+\u001b[m\u001b[32m    def grow(self, scale=2):\u001b[m\r\n",
      "\u001b[32m+\u001b[m\u001b[32m        \"\"\"Grow the area of the cell\"\"\"\u001b[m\r\n",
      "\u001b[32m+\u001b[m\u001b[32m        self.radius *= np.sqrt(scale)\u001b[m\r\n",
      "\u001b[32m+\u001b[m\u001b[41m        \u001b[m\r\n",
      "\u001b[32m+\u001b[m\u001b[32m    def duplicate(self):\u001b[m\r\n",
      "\u001b[32m+\u001b[m\u001b[32m        \"\"\"Make a copy with a random shift\"\"\"\u001b[m\r\n",
      "\u001b[32m+\u001b[m\u001b[32m        c = gCell(self.position+np.random.randn(2)*self.radius, self.radius, self.color)\u001b[m\r\n",
      "\u001b[32m+\u001b[m\u001b[32m        return c\u001b[m\r\n",
      "\u001b[32m+\u001b[m\r\n",
      "\u001b[32m+\u001b[m\u001b[32mif __name__ == \"__main__\":\u001b[m\r\n",
      "\u001b[32m+\u001b[m\u001b[32m    c0 = gCell()\u001b[m\r\n",
      "\u001b[32m+\u001b[m\u001b[32m    c0.show()\u001b[m\r\n",
      "\u001b[32m+\u001b[m\u001b[32m    c1 = c0.duplicate()\u001b[m\r\n",
      "\u001b[32m+\u001b[m\u001b[32m    c1.grow()\u001b[m\r\n",
      "\u001b[32m+\u001b[m\u001b[32m    c1.show()\u001b[m\r\n",
      "\u001b[32m+\u001b[m\u001b[32m    plt.show()\u001b[m\r\n"
     ]
    }
   ],
   "source": [
    "!git show"
   ]
  },
  {
   "cell_type": "code",
   "execution_count": 24,
   "metadata": {},
   "outputs": [
    {
     "name": "stdout",
     "output_type": "stream",
     "text": [
      "* \u001b[33mcommit 53ba5292cbd172076d619b920e1c12cb11ef6f81\u001b[m\u001b[33m (\u001b[m\u001b[1;36mHEAD -> \u001b[m\u001b[1;32mmyBranch\u001b[m\u001b[33m)\u001b[m\r\n",
      "\u001b[31m|\u001b[m Author: Kenji Doya <doya@oist.jp>\r\n",
      "\u001b[31m|\u001b[m Date:   Mon Dec 16 14:47:55 2024 +0900\r\n",
      "\u001b[31m|\u001b[m \r\n",
      "\u001b[31m|\u001b[m     added gcell.py\r\n",
      "\u001b[31m|\u001b[m \r\n",
      "* \u001b[33mcommit 230b9381af8d82e4177589e935f0e5a1a16a0c53\u001b[m\u001b[33m (\u001b[m\u001b[1;32mmain\u001b[m\u001b[33m)\u001b[m\r\n",
      "  Author: Kenji Doya <doya@oist.jp>\r\n",
      "  Date:   Mon Dec 16 14:47:52 2024 +0900\r\n",
      "  \r\n",
      "      initial version\r\n"
     ]
    }
   ],
   "source": [
    "!git log --all --graph"
   ]
  },
  {
   "cell_type": "markdown",
   "metadata": {},
   "source": [
    "You can go back to a previous branch by *checkout*."
   ]
  },
  {
   "cell_type": "code",
   "execution_count": 25,
   "metadata": {},
   "outputs": [
    {
     "name": "stdout",
     "output_type": "stream",
     "text": [
      "Switched to branch 'main'\n",
      "* \u001b[33mcommit 53ba5292cbd172076d619b920e1c12cb11ef6f81\u001b[m\u001b[33m (\u001b[m\u001b[1;32mmyBranch\u001b[m\u001b[33m)\u001b[m\n",
      "\u001b[31m|\u001b[m Author: Kenji Doya <doya@oist.jp>\n",
      "\u001b[31m|\u001b[m Date:   Mon Dec 16 14:47:55 2024 +0900\n",
      "\u001b[31m|\u001b[m \n",
      "\u001b[31m|\u001b[m     added gcell.py\n",
      "\u001b[31m|\u001b[m \n",
      "* \u001b[33mcommit 230b9381af8d82e4177589e935f0e5a1a16a0c53\u001b[m\u001b[33m (\u001b[m\u001b[1;36mHEAD -> \u001b[m\u001b[1;32mmain\u001b[m\u001b[33m)\u001b[m\n",
      "  Author: Kenji Doya <doya@oist.jp>\n",
      "  Date:   Mon Dec 16 14:47:52 2024 +0900\n",
      "  \n",
      "      initial version\n"
     ]
    }
   ],
   "source": [
    "!git checkout main\n",
    "!git log --all --graph"
   ]
  },
  {
   "cell_type": "code",
   "execution_count": 26,
   "metadata": {},
   "outputs": [
    {
     "name": "stdout",
     "output_type": "stream",
     "text": [
      "\u001b[34m__pycache__\u001b[m\u001b[m/ cell.py\r\n"
     ]
    }
   ],
   "source": [
    "%ls"
   ]
  },
  {
   "cell_type": "code",
   "execution_count": 27,
   "metadata": {},
   "outputs": [
    {
     "name": "stdout",
     "output_type": "stream",
     "text": [
      "* \u001b[32mmain\u001b[m\r\n",
      "  myBranch\u001b[m\r\n"
     ]
    }
   ],
   "source": [
    "!git branch"
   ]
  },
  {
   "cell_type": "markdown",
   "metadata": {},
   "source": [
    "You can merge another branche to the current branch by `git merge`"
   ]
  },
  {
   "cell_type": "code",
   "execution_count": 28,
   "metadata": {},
   "outputs": [
    {
     "name": "stdout",
     "output_type": "stream",
     "text": [
      "Updating 230b938..53ba529\n",
      "Fast-forward\n",
      " gcell.py | 25 \u001b[32m+++++++++++++++++++++++++\u001b[m\n",
      " 1 file changed, 25 insertions(+)\n",
      " create mode 100644 gcell.py\n",
      "* \u001b[33mcommit 53ba5292cbd172076d619b920e1c12cb11ef6f81\u001b[m\u001b[33m (\u001b[m\u001b[1;36mHEAD -> \u001b[m\u001b[1;32mmain\u001b[m\u001b[33m, \u001b[m\u001b[1;32mmyBranch\u001b[m\u001b[33m)\u001b[m\n",
      "\u001b[31m|\u001b[m Author: Kenji Doya <doya@oist.jp>\n",
      "\u001b[31m|\u001b[m Date:   Mon Dec 16 14:47:55 2024 +0900\n",
      "\u001b[31m|\u001b[m \n",
      "\u001b[31m|\u001b[m     added gcell.py\n",
      "\u001b[31m|\u001b[m \n",
      "* \u001b[33mcommit 230b9381af8d82e4177589e935f0e5a1a16a0c53\u001b[m\n",
      "  Author: Kenji Doya <doya@oist.jp>\n",
      "  Date:   Mon Dec 16 14:47:52 2024 +0900\n",
      "  \n",
      "      initial version\n"
     ]
    }
   ],
   "source": [
    "!git merge myBranch\n",
    "!git log --all --graph"
   ]
  },
  {
   "cell_type": "code",
   "execution_count": null,
   "metadata": {},
   "outputs": [],
   "source": []
  },
  {
   "cell_type": "markdown",
   "metadata": {},
   "source": [
    "## GitHub\n",
    "\n",
    "*GitHub* is currently the most popular cloud service for sharing software. It is free for open software. \n",
    "\n",
    "This is a good platform for sharing programs, or in some cases text data and manuscripts, among collaborators. It is also helpful for a single-person project, for succession by a future member of your lab, for open access after publication, or for yourself after some time.\n",
    "\n",
    "These are typical steps in contributing to a project in GitHub.\n",
    "* Join as a member of a repository.\n",
    "* Copy the existing files and see how they work.\n",
    "* Make a new *branch* and add or modify the codes.\n",
    "* After tesing locally, *commit* the new version.\n",
    "* Open a *pull request* for other members to test your revision.\n",
    "* Your pull request is merged into the *master* branch.\n",
    "\n",
    "![from Hello World](https://docs.github.com/assets/cb-23923/images/help/repository/branching.png)\n",
    "\n",
    "See \"Hello World\" in GitHub Guide for details (https://guides.github.com)."
   ]
  },
  {
   "cell_type": "markdown",
   "metadata": {},
   "source": [
    "### Cloning a repository\n",
    "\n",
    "If you just use a copy of a stable software, and not going to contribute your changes, just downloading a zip file is fine.\n",
    "\n",
    "But if you would congribute to joint development, or catch up with updates, `git clone` is the better way."
   ]
  },
  {
   "cell_type": "markdown",
   "metadata": {},
   "source": [
    "### Cloning odes repository\n",
    "\n",
    "Let us try with a simple ODE simulator `odes.py` on:  \n",
    "https://github.com/doya-oist/odes\n",
    "\n",
    "To download a copy of the repository, run\n",
    "\n",
    "```git clone https://github.com/doya-oist/odes.git```\n",
    "\n",
    "This should create a folder `odes`."
   ]
  },
  {
   "cell_type": "code",
   "execution_count": 29,
   "metadata": {},
   "outputs": [
    {
     "name": "stdout",
     "output_type": "stream",
     "text": [
      "/Users/doya/OIST Dropbox/kenji doya/Python/iSciComp\n"
     ]
    }
   ],
   "source": [
    "%cd .."
   ]
  },
  {
   "cell_type": "code",
   "execution_count": 30,
   "metadata": {},
   "outputs": [
    {
     "data": {
      "text/plain": [
       "'/Users/doya/OIST Dropbox/kenji doya/Python/iSciComp'"
      ]
     },
     "execution_count": 30,
     "metadata": {},
     "output_type": "execute_result"
    }
   ],
   "source": [
    "%pwd"
   ]
  },
  {
   "cell_type": "code",
   "execution_count": 31,
   "metadata": {},
   "outputs": [
    {
     "name": "stdout",
     "output_type": "stream",
     "text": [
      "Cloning into 'odes'...\n",
      "remote: Enumerating objects: 9, done.\u001b[K\n",
      "remote: Counting objects: 100% (9/9), done.\u001b[K\n",
      "remote: Compressing objects: 100% (9/9), done.\u001b[K\n",
      "remote: Total 9 (delta 1), reused 0 (delta 0), pack-reused 0 (from 0)\u001b[K\n",
      "Receiving objects: 100% (9/9), 14.66 KiB | 790.00 KiB/s, done.\n",
      "Resolving deltas: 100% (1/1), done.\n"
     ]
    }
   ],
   "source": [
    "!git clone https://github.com/doya-oist/odes.git"
   ]
  },
  {
   "cell_type": "code",
   "execution_count": 32,
   "metadata": {},
   "outputs": [
    {
     "name": "stdout",
     "output_type": "stream",
     "text": [
      "01_Introduction.ipynb                  09_Stochastic_Ex.ipynb\r\n",
      "01_Introduction_Ex.ipynb               09_Stochastic_Sol.ipynb\r\n",
      "01_Introduction_Sol.ipynb              10_Management.ipynb\r\n",
      "02_Visualization.ipynb                 10_Management.ipynbのコピー\r\n",
      "02_Visualization_3D.ipynb              10_Management_Ex.ipynb\r\n",
      "02_Visualization_Animation.ipynb       10_Management_Ex.ipynbのコピー\r\n",
      "02_Visualization_Ex.ipynb              \u001b[34mComputationalMethods2022\u001b[m\u001b[m/\r\n",
      "02_Visualization_Sol.ipynb             LICENSE\r\n",
      "03_Matrix.ipynb                        README.md\r\n",
      "03_Matrix_Ex.ipynb                     References.ipynb\r\n",
      "03_Matrix_Exx.ipynb                    SC_logo.png\r\n",
      "03_Matrix_Sol.ipynb                    Solutions.ipynb\r\n",
      "04_Function.ipynb                      VdP.pdf\r\n",
      "04_Function_Ex.ipynb                   \u001b[34m__pycache__\u001b[m\u001b[m/\r\n",
      "04_Function_Sol.ipynb                  \u001b[34m_build\u001b[m\u001b[m/\r\n",
      "05_Iteration.ipynb                     _config.yml\r\n",
      "05_Iteration_Ex.ipynb                  _toc.yml\r\n",
      "05_Iteration_Sol.ipynb                 \u001b[34mcell\u001b[m\u001b[m/\r\n",
      "06_ODE.ipynb                           \u001b[34mcell1\u001b[m\u001b[m/\r\n",
      "06_ODE_Ex.ipynb                        \u001b[34mdata\u001b[m\u001b[m/\r\n",
      "06_ODE_Exx.ipynb                       \u001b[34mfigures\u001b[m\u001b[m/\r\n",
      "06_ODE_Sol.ipynb                       hello.py\r\n",
      "07_PDE.ipynb                           iSciComp.bib\r\n",
      "07_PDE_Ex.ipynb                        iSciComp.ipynb\r\n",
      "07_PDE_Sol.ipynb                       index.html\r\n",
      "07_PDE_Turing.ipynb                    lpnorm.py\r\n",
      "08_Optimization.ipynb                  \u001b[34modes\u001b[m\u001b[m/\r\n",
      "08_Optimization_Ex.ipynb               \u001b[34modes1\u001b[m\u001b[m/\r\n",
      "08_Optimization_Exx.ipynb              \u001b[34modesim\u001b[m\u001b[m/\r\n",
      "08_Optimization_Sol.ipynb              pend.gif\r\n",
      "09_Stochastic.ipynb\r\n"
     ]
    }
   ],
   "source": [
    "%ls"
   ]
  },
  {
   "cell_type": "markdown",
   "metadata": {},
   "source": [
    "Move into the folder and test `odesim.py` program."
   ]
  },
  {
   "cell_type": "code",
   "execution_count": 33,
   "metadata": {},
   "outputs": [
    {
     "name": "stdout",
     "output_type": "stream",
     "text": [
      "/Users/doya/OIST Dropbox/kenji doya/Python/iSciComp/odes\n"
     ]
    }
   ],
   "source": [
    "%cd odes"
   ]
  },
  {
   "cell_type": "code",
   "execution_count": 34,
   "metadata": {},
   "outputs": [
    {
     "name": "stdout",
     "output_type": "stream",
     "text": [
      "LICENSE    README.md  first.py   odes.py    second.py\r\n"
     ]
    }
   ],
   "source": [
    "%ls"
   ]
  },
  {
   "cell_type": "markdown",
   "metadata": {},
   "source": [
    "From the console you can run interactively after reading the module as:\n",
    "\n",
    "`python -i odes.py`\n",
    "\n",
    "`sim = odesim('first')`\n",
    "\n",
    "`sim.run()`"
   ]
  },
  {
   "cell_type": "code",
   "execution_count": 35,
   "metadata": {},
   "outputs": [],
   "source": [
    "from odes import *"
   ]
  },
  {
   "cell_type": "code",
   "execution_count": 36,
   "metadata": {},
   "outputs": [
    {
     "name": "stdout",
     "output_type": "stream",
     "text": [
      "Importing ODE: first\n"
     ]
    }
   ],
   "source": [
    "sim = odes('first')"
   ]
  },
  {
   "cell_type": "code",
   "execution_count": 37,
   "metadata": {},
   "outputs": [
    {
     "name": "stdout",
     "output_type": "stream",
     "text": [
      "t= 10.0 ; state= [-0.36787947]\n"
     ]
    },
    {
     "data": {
      "image/png": "[encoded data removed]",
      "text/plain": [
       "<Figure size 640x480 with 1 Axes>"
      ]
     },
     "metadata": {},
     "output_type": "display_data"
    }
   ],
   "source": [
    "sim.run()"
   ]
  },
  {
   "cell_type": "code",
   "execution_count": null,
   "metadata": {},
   "outputs": [],
   "source": []
  },
  {
   "cell_type": "code",
   "execution_count": null,
   "metadata": {},
   "outputs": [],
   "source": []
  },
  {
   "cell_type": "markdown",
   "metadata": {},
   "source": [
    "### Your branch\n",
    "\n",
    "Now make your own branch, check it out, and add your own ODE module."
   ]
  },
  {
   "cell_type": "code",
   "execution_count": 38,
   "metadata": {},
   "outputs": [
    {
     "name": "stdout",
     "output_type": "stream",
     "text": [
      "Switched to branch 'myname'\r\n"
     ]
    }
   ],
   "source": [
    "!git branch myname\n",
    "!git checkout myname"
   ]
  },
  {
   "cell_type": "markdown",
   "metadata": {},
   "source": [
    "Make a copy of a dynamics file `first.py` or `second.py`, implement your own ODE, and save with a new name, e.g. `vdp.py`."
   ]
  },
  {
   "cell_type": "code",
   "execution_count": 39,
   "metadata": {},
   "outputs": [
    {
     "name": "stdout",
     "output_type": "stream",
     "text": [
      "Writing vdp.py\n"
     ]
    }
   ],
   "source": [
    "%%file vdp.py\n",
    "# vdp.py\n",
    "# van der Pol oscillator\n",
    "# Dec. 2018 by Kenji Doya\n",
    "\n",
    "import numpy as np\n",
    "\n",
    "# Right-hand-side function of the ODE\n",
    "def dynamics(y, t, mu=1.):\n",
    "    \"\"\"van der Pol oscillator:\n",
    "        d2y/dt2 = mu*(1 - y**2)*dy/dt - y\"\"\"\n",
    "    y1, y2 = y\n",
    "    return np.array([y2, mu*(1 - y1**2)*y2 - y1])\n",
    "\n",
    "# Default parameters\n",
    "parameters = 1.\n",
    "\n",
    "# Default initial state\n",
    "initial_state = [1, 0]"
   ]
  },
  {
   "cell_type": "code",
   "execution_count": 40,
   "metadata": {},
   "outputs": [
    {
     "data": {
      "text/plain": [
       "'/Users/doya/OIST Dropbox/kenji doya/Python/iSciComp/odes'"
      ]
     },
     "execution_count": 40,
     "metadata": {},
     "output_type": "execute_result"
    }
   ],
   "source": [
    "%pwd"
   ]
  },
  {
   "cell_type": "markdown",
   "metadata": {},
   "source": [
    "Run odes and confirm that your ODE runs appropriately."
   ]
  },
  {
   "cell_type": "code",
   "execution_count": 41,
   "metadata": {},
   "outputs": [
    {
     "name": "stdout",
     "output_type": "stream",
     "text": [
      "Importing ODE: vdp\n"
     ]
    }
   ],
   "source": [
    "sim = odes('vdp')"
   ]
  },
  {
   "cell_type": "code",
   "execution_count": 42,
   "metadata": {},
   "outputs": [
    {
     "name": "stdout",
     "output_type": "stream",
     "text": [
      "t= 10.0 ; state= [-1.58203155  0.73418353]\n"
     ]
    },
    {
     "data": {
      "image/png": "[encoded data removed]",
      "text/plain": [
       "<Figure size 640x480 with 1 Axes>"
      ]
     },
     "metadata": {},
     "output_type": "display_data"
    }
   ],
   "source": [
    "sim.run()"
   ]
  },
  {
   "cell_type": "code",
   "execution_count": null,
   "metadata": {},
   "outputs": [],
   "source": []
  },
  {
   "cell_type": "markdown",
   "metadata": {},
   "source": [
    "Then you can add and commit your change."
   ]
  },
  {
   "cell_type": "code",
   "execution_count": 43,
   "metadata": {},
   "outputs": [
    {
     "name": "stdout",
     "output_type": "stream",
     "text": [
      "On branch myname\r\n",
      "Untracked files:\r\n",
      "  (use \"git add <file>...\" to include in what will be committed)\r\n",
      "\t\u001b[31m__pycache__/\u001b[m\r\n",
      "\t\u001b[31mvdp.py\u001b[m\r\n",
      "\r\n",
      "nothing added to commit but untracked files present (use \"git add\" to track)\r\n"
     ]
    }
   ],
   "source": [
    "!git status"
   ]
  },
  {
   "cell_type": "code",
   "execution_count": 44,
   "metadata": {},
   "outputs": [],
   "source": [
    "!git add vdp.py"
   ]
  },
  {
   "cell_type": "code",
   "execution_count": 45,
   "metadata": {},
   "outputs": [
    {
     "name": "stdout",
     "output_type": "stream",
     "text": [
      "[myname 5a46511] adding my model vdp.py\r\n",
      " 1 file changed, 18 insertions(+)\r\n",
      " create mode 100644 vdp.py\r\n"
     ]
    }
   ],
   "source": [
    "!git commit -m \"adding my model vdp.py\""
   ]
  },
  {
   "cell_type": "code",
   "execution_count": 46,
   "metadata": {},
   "outputs": [
    {
     "name": "stdout",
     "output_type": "stream",
     "text": [
      "* \u001b[33mcommit 5a4651150ad158cf1889b90aaaec0d863498ed38\u001b[m\u001b[33m (\u001b[m\u001b[1;36mHEAD -> \u001b[m\u001b[1;32mmyname\u001b[m\u001b[33m)\u001b[m\r\n",
      "\u001b[31m|\u001b[m Author: Kenji Doya <doya@oist.jp>\r\n",
      "\u001b[31m|\u001b[m Date:   Mon Dec 16 14:48:03 2024 +0900\r\n",
      "\u001b[31m|\u001b[m \r\n",
      "\u001b[31m|\u001b[m     adding my model vdp.py\r\n",
      "\u001b[31m|\u001b[m \r\n",
      "* \u001b[33mcommit 670bad23cf98271d2017e8d9034ae3337bad3122\u001b[m\u001b[33m (\u001b[m\u001b[1;31morigin/main\u001b[m\u001b[33m, \u001b[m\u001b[1;31morigin/HEAD\u001b[m\u001b[33m, \u001b[m\u001b[1;32mmain\u001b[m\u001b[33m)\u001b[m\r\n",
      "\u001b[31m|\u001b[m Author: Kenji Doya <doya@oist.jp>\r\n",
      "\u001b[31m|\u001b[m Date:   Mon Dec 16 14:28:15 2024 +0900\r\n",
      "\u001b[31m|\u001b[m \r\n",
      "\u001b[31m|\u001b[m     first set of files\r\n",
      "\u001b[31m|\u001b[m \r\n",
      "* \u001b[33mcommit 0c1c8b1334ffe99caf36f502b5f400a1eeb84121\u001b[m\r\n",
      "  Author: Kenji Doya <doya@oist.jp>\r\n",
      "  Date:   Mon Dec 16 12:42:22 2024 +0900\r\n",
      "  \r\n",
      "      Initial commit\r\n"
     ]
    }
   ],
   "source": [
    "!git log --graph --all"
   ]
  },
  {
   "cell_type": "markdown",
   "metadata": {},
   "source": [
    "Now push your branch to GitHub repository by, e.g.\n",
    "\n",
    "`git push origin myname` "
   ]
  },
  {
   "cell_type": "code",
   "execution_count": null,
   "metadata": {},
   "outputs": [],
   "source": []
  },
  {
   "cell_type": "code",
   "execution_count": null,
   "metadata": {},
   "outputs": [
    {
     "name": "stdout",
     "output_type": "stream",
     "text": [
      "Username for 'https://github.com': "
     ]
    }
   ],
   "source": [
    "!git push origin myname"
   ]
  },
  {
   "cell_type": "markdown",
   "metadata": {},
   "source": [
    "Check the status on GitHub:\n",
    "https://github.com/oist/ComputationalMethods2022\n",
    "\n",
    "and make a pull request for the repository administrator to check your updates.\n",
    "\n",
    "The administrator may reply back with a comment for revision or merge your change to the main branch."
   ]
  },
  {
   "cell_type": "code",
   "execution_count": null,
   "metadata": {},
   "outputs": [],
   "source": []
  },
  {
   "cell_type": "markdown",
   "metadata": {},
   "source": [
    "### Pulling updates\n",
    "While you are working on your local code, the codes on the origial repository may be updated. You may also want to check the branches other people have created.\n",
    "\n",
    "You can use `git pull` to reflect the changes in the GitHub to your local repository.\n",
    "\n",
    "You can use `git branch` to see what branches are there and `git checkout` to try with the codes in other branches."
   ]
  },
  {
   "cell_type": "code",
   "execution_count": null,
   "metadata": {},
   "outputs": [],
   "source": [
    "!git pull"
   ]
  },
  {
   "cell_type": "code",
   "execution_count": null,
   "metadata": {},
   "outputs": [],
   "source": [
    "!git branch"
   ]
  },
  {
   "cell_type": "code",
   "execution_count": null,
   "metadata": {},
   "outputs": [],
   "source": []
  },
  {
   "cell_type": "markdown",
   "metadata": {},
   "source": [
    "Optional) In addition to adding a new module, you are welcome to improve the main program `odesim.py` itself. For example,\n",
    "\n",
    "* add other visualization like a phese plot.\n",
    "\n",
    "* fix any bugs or improve error handling.\n",
    "\n",
    "* add documentation.\n",
    "\n",
    "* ..."
   ]
  },
  {
   "cell_type": "code",
   "execution_count": null,
   "metadata": {},
   "outputs": [],
   "source": []
  },
  {
   "cell_type": "code",
   "execution_count": null,
   "metadata": {},
   "outputs": [],
   "source": []
  },
  {
   "cell_type": "code",
   "execution_count": null,
   "metadata": {},
   "outputs": [],
   "source": []
  },
  {
   "cell_type": "code",
   "execution_count": null,
   "metadata": {},
   "outputs": [],
   "source": []
  }
 ],
 "metadata": {
  "kernelspec": {
   "display_name": "Python 3 (ipykernel)",
   "language": "python",
   "name": "python3"
  },
  "language_info": {
   "codemirror_mode": {
    "name": "ipython",
    "version": 3
   },
   "file_extension": ".py",
   "mimetype": "text/x-python",
   "name": "python",
   "nbconvert_exporter": "python",
   "pygments_lexer": "ipython3",
   "version": "3.12.2"
  }
 },
 "nbformat": 4,
 "nbformat_minor": 1
}
