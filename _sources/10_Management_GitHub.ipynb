{
 "cells": [
  {
   "cell_type": "markdown",
   "metadata": {},
   "source": [
    "# Collaborative Development: GitHub\n",
    "\n",
    "*GitHub* is currently the most popular cloud service for sharing software. It is free for open software. \n",
    "\n",
    "This is a good platform for sharing programs, or in some cases text data and manuscripts, among collaborators. It is also helpful for a single-person project, for succession by a future member of your lab, for open access after publication, or for yourself after some time.\n",
    "\n",
    "These are typical steps in contributing to a project in GitHub.\n",
    "* Join as a member of a repository.\n",
    "* Copy the existing files and see how they work.\n",
    "* Make a new *branch* and add or modify the codes.\n",
    "* After tesing locally, *commit* the new version.\n",
    "* Open a *pull request* for other members to test your revision.\n",
    "* Your pull request is merged into the *master* branch.\n",
    "\n",
    "![from Hello World](https://docs.github.com/assets/cb-23923/images/help/repository/branching.png)\n",
    "\n",
    "See \"Hello World\" in GitHub Guide for details (https://guides.github.com)."
   ]
  },
  {
   "cell_type": "markdown",
   "metadata": {},
   "source": [
    "### Cloning a repository\n",
    "\n",
    "If you just use a copy of a stable software, and not going to contribute your changes, just downloading a zip file is fine.\n",
    "\n",
    "But if you would congribute to joint development, or catch up with updates, `git clone` is the better way."
   ]
  },
  {
   "cell_type": "markdown",
   "metadata": {},
   "source": [
    "### Cloning odes repository\n",
    "\n",
    "Let us try with a simple ODE simulator `odes.py` on:  \n",
    "https://github.com/doya-oist/odes\n",
    "\n",
    "To download a copy of the repository, run\n",
    "\n",
    "```git clone https://github.com/doya-oist/odes.git```\n",
    "\n",
    "This should create a folder `odes`."
   ]
  },
  {
   "cell_type": "code",
   "execution_count": null,
   "metadata": {},
   "outputs": [],
   "source": [
    "!git clone https://github.com/doya-oist/odes.git"
   ]
  },
  {
   "cell_type": "markdown",
   "metadata": {},
   "source": [
    "Move into the folder and test `odesim.py` program."
   ]
  },
  {
   "cell_type": "code",
   "execution_count": null,
   "metadata": {},
   "outputs": [],
   "source": [
    "%cd odes"
   ]
  },
  {
   "cell_type": "code",
   "execution_count": null,
   "metadata": {},
   "outputs": [],
   "source": [
    "%ls"
   ]
  },
  {
   "cell_type": "code",
   "execution_count": null,
   "metadata": {},
   "outputs": [],
   "source": [
    "!cat odes.py"
   ]
  },
  {
   "cell_type": "markdown",
   "metadata": {},
   "source": [
    "From the console you can run interactively after reading the module as:\n",
    "\n",
    "`python -i odes.py`\n",
    "\n",
    "`sim = odesim('first')`\n",
    "\n",
    "`sim.run()`"
   ]
  },
  {
   "cell_type": "code",
   "execution_count": null,
   "metadata": {},
   "outputs": [],
   "source": [
    "from odes import *"
   ]
  },
  {
   "cell_type": "code",
   "execution_count": null,
   "metadata": {},
   "outputs": [],
   "source": [
    "sim = odes('first')"
   ]
  },
  {
   "cell_type": "code",
   "execution_count": null,
   "metadata": {},
   "outputs": [],
   "source": [
    "sim.run()"
   ]
  },
  {
   "cell_type": "code",
   "execution_count": null,
   "metadata": {},
   "outputs": [],
   "source": []
  },
  {
   "cell_type": "code",
   "execution_count": null,
   "metadata": {},
   "outputs": [],
   "source": []
  },
  {
   "cell_type": "markdown",
   "metadata": {},
   "source": [
    "### Your branch\n",
    "\n",
    "Now make your own branch, check it out, and add your own ODE module."
   ]
  },
  {
   "cell_type": "code",
   "execution_count": null,
   "metadata": {},
   "outputs": [],
   "source": [
    "!git branch myname\n",
    "!git checkout myname"
   ]
  },
  {
   "cell_type": "markdown",
   "metadata": {},
   "source": [
    "Make a copy of a dynamics file `first.py` or `second.py`, implement your own ODE, and save with a new name, e.g. `vdp.py`."
   ]
  },
  {
   "cell_type": "code",
   "execution_count": null,
   "metadata": {},
   "outputs": [],
   "source": [
    "%%file vdp.py\n",
    "# vdp.py\n",
    "# van der Pol oscillator\n",
    "# Dec. 2018 by Kenji Doya\n",
    "\n",
    "import numpy as np\n",
    "\n",
    "# Right-hand-side function of the ODE\n",
    "def dynamics(y, t, mu=1.):\n",
    "    \"\"\"van der Pol oscillator:\n",
    "        d2y/dt2 = mu*(1 - y**2)*dy/dt - y\"\"\"\n",
    "    y1, y2 = y\n",
    "    return np.array([y2, mu*(1 - y1**2)*y2 - y1])\n",
    "\n",
    "# Default parameters\n",
    "parameters = 1.\n",
    "\n",
    "# Default initial state\n",
    "initial_state = [1, 0]"
   ]
  },
  {
   "cell_type": "code",
   "execution_count": null,
   "metadata": {},
   "outputs": [],
   "source": [
    "%pwd"
   ]
  },
  {
   "cell_type": "markdown",
   "metadata": {},
   "source": [
    "Run odes and confirm that your ODE runs appropriately."
   ]
  },
  {
   "cell_type": "code",
   "execution_count": null,
   "metadata": {},
   "outputs": [],
   "source": [
    "sim = odes('vdp')"
   ]
  },
  {
   "cell_type": "code",
   "execution_count": null,
   "metadata": {},
   "outputs": [],
   "source": [
    "sim.run()"
   ]
  },
  {
   "cell_type": "code",
   "execution_count": null,
   "metadata": {},
   "outputs": [],
   "source": []
  },
  {
   "cell_type": "markdown",
   "metadata": {},
   "source": [
    "Then you can add and commit your change."
   ]
  },
  {
   "cell_type": "code",
   "execution_count": null,
   "metadata": {},
   "outputs": [],
   "source": [
    "!git status"
   ]
  },
  {
   "cell_type": "code",
   "execution_count": null,
   "metadata": {},
   "outputs": [],
   "source": [
    "!git add vdp.py"
   ]
  },
  {
   "cell_type": "code",
   "execution_count": null,
   "metadata": {},
   "outputs": [],
   "source": [
    "!git commit -m \"adding my model vdp.py\""
   ]
  },
  {
   "cell_type": "code",
   "execution_count": null,
   "metadata": {},
   "outputs": [],
   "source": [
    "!git log --graph --all"
   ]
  },
  {
   "cell_type": "markdown",
   "metadata": {},
   "source": [
    "Now push your branch to GitHub repository by, e.g.\n",
    "\n",
    "`git push origin myname` "
   ]
  },
  {
   "cell_type": "code",
   "execution_count": null,
   "metadata": {},
   "outputs": [],
   "source": []
  },
  {
   "cell_type": "code",
   "execution_count": null,
   "metadata": {},
   "outputs": [],
   "source": [
    "!git push origin myname"
   ]
  },
  {
   "cell_type": "markdown",
   "metadata": {},
   "source": [
    "Check the status on GitHub:\n",
    "https://github.com/oist/ComputationalMethods2022\n",
    "\n",
    "and make a pull request for the repository administrator to check your updates.\n",
    "\n",
    "The administrator may reply back with a comment for revision or merge your change to the main branch."
   ]
  },
  {
   "cell_type": "code",
   "execution_count": null,
   "metadata": {},
   "outputs": [],
   "source": []
  },
  {
   "cell_type": "markdown",
   "metadata": {},
   "source": [
    "### Pulling updates\n",
    "While you are working on your local code, the codes on the origial repository may be updated. You may also want to check the branches other people have created.\n",
    "\n",
    "You can use `git pull` to reflect the changes in the GitHub to your local repository.\n",
    "\n",
    "You can use `git branch` to see what branches are there and `git checkout` to try with the codes in other branches."
   ]
  },
  {
   "cell_type": "code",
   "execution_count": null,
   "metadata": {},
   "outputs": [],
   "source": [
    "!git pull"
   ]
  },
  {
   "cell_type": "code",
   "execution_count": null,
   "metadata": {},
   "outputs": [],
   "source": [
    "!git branch"
   ]
  },
  {
   "cell_type": "code",
   "execution_count": null,
   "metadata": {},
   "outputs": [],
   "source": []
  },
  {
   "cell_type": "markdown",
   "metadata": {},
   "source": [
    "Optional) In addition to adding a new module, you are welcome to improve the main program `odesim.py` itself. For example,\n",
    "\n",
    "* add other visualization like a phese plot.\n",
    "\n",
    "* fix any bugs or improve error handling.\n",
    "\n",
    "* add documentation.\n",
    "\n",
    "* ..."
   ]
  },
  {
   "cell_type": "code",
   "execution_count": null,
   "metadata": {},
   "outputs": [],
   "source": []
  },
  {
   "cell_type": "code",
   "execution_count": null,
   "metadata": {},
   "outputs": [],
   "source": []
  },
  {
   "cell_type": "code",
   "execution_count": null,
   "metadata": {},
   "outputs": [],
   "source": []
  },
  {
   "cell_type": "code",
   "execution_count": null,
   "metadata": {},
   "outputs": [],
   "source": []
  }
 ],
 "metadata": {
  "kernelspec": {
   "display_name": "Python 3 (ipykernel)",
   "language": "python",
   "name": "python3"
  },
  "language_info": {
   "codemirror_mode": {
    "name": "ipython",
    "version": 3
   },
   "file_extension": ".py",
   "mimetype": "text/x-python",
   "name": "python",
   "nbconvert_exporter": "python",
   "pygments_lexer": "ipython3",
   "version": "3.11.0"
  }
 },
 "nbformat": 4,
 "nbformat_minor": 1
}
