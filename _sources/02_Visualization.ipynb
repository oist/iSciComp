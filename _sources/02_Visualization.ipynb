{
 "cells": [
  {
   "cell_type": "markdown",
   "metadata": {},
   "source": [
    "# 2. Visualization"
   ]
  },
  {
   "cell_type": "markdown",
   "metadata": {},
   "source": [
    "Visualizatin is vital in data analysis and scientific computing, to\n",
    "\n",
    "* get intuitive understanding\n",
    "* come up with a new hypothesis\n",
    "* detect a bug or data anormaly\n",
    "\n",
    "That is why we'll cover this topic at the beginning of this course."
   ]
  },
  {
   "cell_type": "markdown",
   "metadata": {},
   "source": [
    "## Matplotlib\n",
    "Matplotlib is the standard graphics package for Python. \n",
    "It mimics many graphics functions of MATLAB.  \n",
    "The Matplotlib gallery (http://matplotlib.org/stable/gallery) illustrates variety of plots."
   ]
  },
  {
   "cell_type": "code",
   "execution_count": null,
   "metadata": {},
   "outputs": [],
   "source": [
    "import numpy as np\n",
    "import matplotlib.pyplot as plt"
   ]
  },
  {
   "cell_type": "markdown",
   "metadata": {},
   "source": [
    "Usually matplotlib opens a window for a new plot.\n",
    "\n",
    "A nice feature of Jupyter notebook is that you can embed the figures produced by your program within the notebook by the following *magic* command  \n",
    "`%matplotlib inline`  \n",
    "(It may be a default setting in recent jupyter notebook)."
   ]
  },
  {
   "cell_type": "code",
   "execution_count": null,
   "metadata": {},
   "outputs": [],
   "source": [
    "%matplotlib inline"
   ]
  },
  {
   "cell_type": "markdown",
   "metadata": {},
   "source": [
    "## Plotting functions\n",
    "The standard way is to prepare an array for x values, compute y values, and call `plot( )` function."
   ]
  },
  {
   "cell_type": "code",
   "execution_count": null,
   "metadata": {},
   "outputs": [],
   "source": [
    "# make an array from 0 to 10, the default is 50 points\n",
    "x = np.linspace(0, 10)"
   ]
  },
  {
   "cell_type": "code",
   "execution_count": null,
   "metadata": {},
   "outputs": [],
   "source": [
    "# comupute a function for each point\n",
    "y = x*np.sin(x)\n",
    "# plot the points\n",
    "plt.plot(y)  # x is the index of y"
   ]
  },
  {
   "cell_type": "markdown",
   "metadata": {},
   "source": [
    "There are multiple ways to pass variables to plot():\n",
    "* `plot(y)`: x is assumed as the indices of y \n",
    "* `plot(x, y)`: specify both x and y values\n",
    "* `plot(x1, y1, x2, y2,...)`: multiple lines\n",
    "* `plot(x, Y)`: lines for columns of matrix Y"
   ]
  },
  {
   "cell_type": "code",
   "execution_count": null,
   "metadata": {},
   "outputs": [],
   "source": [
    "# specify both x and y values\n",
    "plt.plot(x, y)"
   ]
  },
  {
   "cell_type": "code",
   "execution_count": null,
   "metadata": {},
   "outputs": [],
   "source": [
    "# take another function of x\n",
    "y2 = x*np.cos(x)"
   ]
  },
  {
   "cell_type": "code",
   "execution_count": null,
   "metadata": {},
   "outputs": [],
   "source": [
    "# plot two lines\n",
    "plt.plot(x, y, x, y2)"
   ]
  },
  {
   "cell_type": "code",
   "execution_count": null,
   "metadata": {},
   "outputs": [],
   "source": [
    "# phase plot\n",
    "plt.plot(y, y2);\n",
    "# you can supress <matplotlib...> output by ;"
   ]
  },
  {
   "cell_type": "code",
   "execution_count": null,
   "metadata": {},
   "outputs": [],
   "source": [
    "# plot multiple lines by a matrix\n",
    "Y = np.array([y, y2])  # stack data in two rows\n",
    "plt.plot(x, Y.T); # transpose to give data in two columns"
   ]
  },
  {
   "cell_type": "code",
   "execution_count": null,
   "metadata": {},
   "outputs": [],
   "source": [
    "# plot multiple lines by a matrix\n",
    "Y = np.array([np.sin(k*x) for k in range(4)])\n",
    "plt.plot(x, Y.T);"
   ]
  },
  {
   "cell_type": "code",
   "execution_count": null,
   "metadata": {},
   "outputs": [],
   "source": []
  },
  {
   "cell_type": "markdown",
   "metadata": {},
   "source": [
    "## Options for plotting\n",
    "Line styles can be specified by\n",
    "* `color=` (or `c=` )  for color by code, name, RGB or RGBA  \n",
    "    - code: 'r', 'g', 'b', 'y', 'c', 'm', 'k', 'w'\n",
    "\n",
    "\n",
    "* `marker=` for marker style\n",
    "    - code: '.', 'o', '+', '*', '^', ...\n",
    "\n",
    "\n",
    "* `linestyle=` (or `ls=` ) for line style\n",
    "    - code: '-', '--', ':', '-.', ...\n",
    "    \n",
    "    \n",
    "* `linewidth=` (or `lw=` ) for line width\n",
    "* a string of color, marker and line sytel codes, e.g. 'ro:'"
   ]
  },
  {
   "cell_type": "code",
   "execution_count": null,
   "metadata": {},
   "outputs": [],
   "source": [
    "# using code string\n",
    "plt.plot(x, y, 'm:', x, y2, 'c*');  # magenta dash-dot, cyan circle"
   ]
  },
  {
   "cell_type": "code",
   "execution_count": null,
   "metadata": {},
   "outputs": [],
   "source": [
    "# using keyword=value\n",
    "plt.plot(x, y, c=[0.2,0.5,0.8,0.5], marker='o', markersize=10, ls='-.', lw=2);"
   ]
  },
  {
   "cell_type": "code",
   "execution_count": null,
   "metadata": {},
   "outputs": [],
   "source": []
  },
  {
   "cell_type": "markdown",
   "metadata": {},
   "source": [
    "It's a good practice to add axis lables and plot title.  \n",
    "You can use Latex format by $  $."
   ]
  },
  {
   "cell_type": "code",
   "execution_count": null,
   "metadata": {},
   "outputs": [],
   "source": [
    "plt.plot(x, y)\n",
    "plt.title('oscillation')\n",
    "plt.xlabel('time ($\\\\mu s$)')  # $ $ for latex code with \\\\ for symbols\n",
    "plt.ylabel('amplitude')"
   ]
  },
  {
   "cell_type": "markdown",
   "metadata": {},
   "source": [
    "It is also nice to add a legend box."
   ]
  },
  {
   "cell_type": "code",
   "execution_count": null,
   "metadata": {},
   "outputs": [],
   "source": [
    "ax = plt.plot(x, y, x, y2)\n",
    "plt.legend(('x sin x','x cos x'))  # second line in LaTex"
   ]
  },
  {
   "cell_type": "markdown",
   "metadata": {},
   "source": [
    "The texts in a figure tend to be too small when included in a slide or a paper.  \n",
    "You can control the default font size by `rcParams.update()` and specifying `fontsize` for particular labels."
   ]
  },
  {
   "cell_type": "code",
   "execution_count": null,
   "metadata": {},
   "outputs": [],
   "source": [
    "# set default font size to 20 point\n",
    "plt.rcParams.update({'font.size': 20})"
   ]
  },
  {
   "cell_type": "code",
   "execution_count": null,
   "metadata": {},
   "outputs": [],
   "source": [
    "ax = plt.plot(x, y, x, y2)\n",
    "plt.title('oscillation', fontsize=28)  # title in 28 point\n",
    "plt.xlabel('time ($\\\\mu s$)')\n",
    "plt.ylabel('amplitude')\n",
    "plt.legend(('t sin t','t cos t'))"
   ]
  },
  {
   "cell_type": "code",
   "execution_count": null,
   "metadata": {},
   "outputs": [],
   "source": []
  },
  {
   "cell_type": "markdown",
   "metadata": {},
   "source": [
    "You can control axis ranges and scaling."
   ]
  },
  {
   "cell_type": "code",
   "execution_count": null,
   "metadata": {},
   "outputs": [],
   "source": [
    "plt.plot(x, y)\n",
    "plt.xlim(-1, 5)\n",
    "plt.ylim(-4, 4)"
   ]
  },
  {
   "cell_type": "code",
   "execution_count": null,
   "metadata": {},
   "outputs": [],
   "source": [
    "plt.plot(y, y2)\n",
    "plt.axis('equal')  # equal scaling for x and y"
   ]
  },
  {
   "cell_type": "code",
   "execution_count": null,
   "metadata": {},
   "outputs": [],
   "source": [
    "plt.plot(y, y2)\n",
    "plt.axis('square')  # in square plot area"
   ]
  },
  {
   "cell_type": "markdown",
   "metadata": {},
   "source": [
    "You can create a fiure of your preferred size by `plt.figure()` function"
   ]
  },
  {
   "cell_type": "code",
   "execution_count": null,
   "metadata": {},
   "outputs": [],
   "source": [
    "fig = plt.figure(figsize=(6, 6))\n",
    "plt.plot(y, y2)"
   ]
  },
  {
   "cell_type": "code",
   "execution_count": null,
   "metadata": {},
   "outputs": [],
   "source": []
  },
  {
   "cell_type": "markdown",
   "metadata": {},
   "source": [
    "## Bar plot and histogram"
   ]
  },
  {
   "cell_type": "code",
   "execution_count": null,
   "metadata": {},
   "outputs": [],
   "source": [
    "i = np.arange(10)\n",
    "j = i**2\n",
    "plt.bar(i, j)"
   ]
  },
  {
   "cell_type": "markdown",
   "metadata": {},
   "source": [
    "`np.random.randn()` gives random numbers from the normal distribution"
   ]
  },
  {
   "cell_type": "code",
   "execution_count": null,
   "metadata": {},
   "outputs": [],
   "source": [
    "z = np.random.randn(500)\n",
    "plt.hist(z)"
   ]
  },
  {
   "cell_type": "code",
   "execution_count": null,
   "metadata": {},
   "outputs": [],
   "source": [
    "plt.hist(z, bins=20)"
   ]
  },
  {
   "cell_type": "code",
   "execution_count": null,
   "metadata": {},
   "outputs": [],
   "source": []
  },
  {
   "cell_type": "markdown",
   "metadata": {},
   "source": [
    "## Subplot and axes\n",
    "You can create multiple *axes* in a figure by subplot(rows, columns, index).   \n",
    "It uses a MATLAB legacy for index starting from 1.\n",
    "\n",
    "`plt.tight_layout()` adjusts the space between axes."
   ]
  },
  {
   "cell_type": "code",
   "execution_count": null,
   "metadata": {},
   "outputs": [],
   "source": [
    "plt.subplot(2, 2, 1)\n",
    "plt.plot(x, y)\n",
    "plt.xlabel('x'); plt.ylabel('y')\n",
    "plt.subplot(2, 2, 2)\n",
    "plt.plot(y, x)\n",
    "plt.xlabel('y'); plt.ylabel('x')\n",
    "plt.subplot(2, 2, 3)\n",
    "plt.plot(x, y2)\n",
    "plt.xlabel('x'); plt.ylabel('y2')\n",
    "plt.subplot(2, 2, 4)\n",
    "plt.plot(y, y2)\n",
    "plt.xlabel('y'); plt.ylabel('y2')\n",
    "plt.tight_layout()"
   ]
  },
  {
   "cell_type": "code",
   "execution_count": null,
   "metadata": {},
   "outputs": [],
   "source": []
  },
  {
   "cell_type": "markdown",
   "metadata": {},
   "source": [
    "## Figure and axes\n",
    "When you make a plot, matplotlib creates a *figure* object with an *axes* object.  \n",
    "You can use `gcf()` and `gca()` to identify them and `getp()` and `setp()` to access their parameters."
   ]
  },
  {
   "cell_type": "code",
   "execution_count": null,
   "metadata": {},
   "outputs": [],
   "source": [
    "plt.plot(x, y)\n",
    "fig = plt.gcf()  # get current figure\n",
    "plt.getp(fig)  # show all parameters"
   ]
  },
  {
   "cell_type": "code",
   "execution_count": null,
   "metadata": {},
   "outputs": [],
   "source": [
    "plt.plot(x, y)\n",
    "fig = plt.gcf()\n",
    "plt.setp(fig, size_inches=(8,4), facecolor=[0.5,0.5,0.5])"
   ]
  },
  {
   "cell_type": "code",
   "execution_count": null,
   "metadata": {},
   "outputs": [],
   "source": [
    "plt.plot(x, y)\n",
    "ax = plt.gca()  # get current axes\n",
    "plt.getp(ax)\n",
    "plt.setp(ax, facecolor='y')  # change parameters"
   ]
  },
  {
   "cell_type": "code",
   "execution_count": null,
   "metadata": {},
   "outputs": [],
   "source": []
  },
  {
   "cell_type": "markdown",
   "metadata": {},
   "source": [
    "## Visualizing data in 2D\n",
    "A standard way for visualizing pariwise data is a scatter plot."
   ]
  },
  {
   "cell_type": "code",
   "execution_count": null,
   "metadata": {},
   "outputs": [],
   "source": [
    "n = 100\n",
    "x = np.random.uniform(-1, 1, n)  # n points in [-1,1]\n",
    "y = 2*x + np.random.randn(n)  # scale and add noise\n",
    "plt.plot(x, y, 'o')"
   ]
  },
  {
   "cell_type": "markdown",
   "metadata": {},
   "source": [
    "By `scatterplot( )` you can specify the size and the color of each point to visualize higher dimension information."
   ]
  },
  {
   "cell_type": "code",
   "execution_count": null,
   "metadata": {},
   "outputs": [],
   "source": [
    "z = x**2 + y**2\n",
    "c = y - 2*x\n",
    "# z for size, c for color\n",
    "plt.scatter(x, y, z, c)\n",
    "plt.colorbar()"
   ]
  },
  {
   "cell_type": "code",
   "execution_count": null,
   "metadata": {},
   "outputs": [],
   "source": []
  },
  {
   "cell_type": "markdown",
   "metadata": {},
   "source": [
    "## Visualizing a matrix or a function in 2D space"
   ]
  },
  {
   "cell_type": "markdown",
   "metadata": {},
   "source": [
    "meshgrid() is for preparing x and y values in a grid."
   ]
  },
  {
   "cell_type": "code",
   "execution_count": null,
   "metadata": {},
   "outputs": [],
   "source": [
    "x = np.linspace(-4, 4, 9)\n",
    "y = np.linspace(-3, 3, 7)\n",
    "print(x, y)\n",
    "X, Y = np.meshgrid(x, y)\n",
    "print(X, Y)"
   ]
  },
  {
   "cell_type": "markdown",
   "metadata": {},
   "source": [
    "We can use imshow() to visualize a matrix as an image."
   ]
  },
  {
   "cell_type": "code",
   "execution_count": null,
   "metadata": {},
   "outputs": [],
   "source": [
    "Z = X**2 * Y\n",
    "print(Z)\n",
    "plt.imshow(Z)"
   ]
  },
  {
   "cell_type": "code",
   "execution_count": null,
   "metadata": {},
   "outputs": [],
   "source": [
    "# some more options\n",
    "plt.imshow(Z, origin='lower', extent=(-4.5, 4.5, -3.5, 3.5))\n",
    "plt.colorbar()"
   ]
  },
  {
   "cell_type": "markdown",
   "metadata": {},
   "source": [
    "### color maps\n",
    "`imshow( )` maps a scalar Z value to color by a colormap. The standard color map *viridis* is friedly to color blindness and monochrome printing. You can also choose other color maps."
   ]
  },
  {
   "cell_type": "code",
   "execution_count": null,
   "metadata": {},
   "outputs": [],
   "source": [
    "plt.imshow(Z, cmap='jet')"
   ]
  },
  {
   "cell_type": "markdown",
   "metadata": {},
   "source": [
    "### contour plot"
   ]
  },
  {
   "cell_type": "code",
   "execution_count": null,
   "metadata": {
    "scrolled": true
   },
   "outputs": [],
   "source": [
    "x = np.linspace(-4, 4, 25)\n",
    "y = np.linspace(-4, 4, 25)\n",
    "X, Y = np.meshgrid(x, y)\n",
    "Z = X**2 + 2*Y**2\n",
    "plt.contour(X, Y, Z)\n",
    "plt.axis('square')"
   ]
  },
  {
   "cell_type": "markdown",
   "metadata": {},
   "source": [
    "### vector field by `quiver( )`"
   ]
  },
  {
   "cell_type": "code",
   "execution_count": null,
   "metadata": {},
   "outputs": [],
   "source": [
    "x = np.linspace(-3, 3, 15)\n",
    "y = np.linspace(-3, 3, 15)\n",
    "X, Y = np.meshgrid(x, y)\n",
    "# Van del Pol model\n",
    "k = 1  # paramter\n",
    "U = Y  # dx/dt\n",
    "V = k*(1 - X**2)*Y - X  # dy/dt\n",
    "plt.quiver(X, Y, U, V)"
   ]
  },
  {
   "cell_type": "code",
   "execution_count": null,
   "metadata": {},
   "outputs": [],
   "source": []
  },
  {
   "cell_type": "markdown",
   "metadata": {},
   "source": [
    "## Saving the image\n",
    "You can save a plot as a `.png` file by right-clicking it and choosing a pop-up menu like \"save image as ...\" by the browser.\n",
    "\n",
    "You can use `plt.savefig()` function to save it in other formats."
   ]
  },
  {
   "cell_type": "code",
   "execution_count": null,
   "metadata": {},
   "outputs": [],
   "source": [
    "plt.quiver(X, Y, U, V)\n",
    "plt.title('Van der Pol model')\n",
    "plt.xlabel('u')\n",
    "plt.ylabel('v')\n",
    "plt.axis('square')\n",
    "plt.savefig('VdP.pdf')"
   ]
  },
  {
   "cell_type": "code",
   "execution_count": null,
   "metadata": {},
   "outputs": [],
   "source": [
    "!open VdP.pdf"
   ]
  },
  {
   "cell_type": "code",
   "execution_count": null,
   "metadata": {},
   "outputs": [],
   "source": []
  }
 ],
 "metadata": {
  "kernelspec": {
   "display_name": "Python 3 (ipykernel)",
   "language": "python",
   "name": "python3"
  },
  "language_info": {
   "codemirror_mode": {
    "name": "ipython",
    "version": 3
   },
   "file_extension": ".py",
   "mimetype": "text/x-python",
   "name": "python",
   "nbconvert_exporter": "python",
   "pygments_lexer": "ipython3",
   "version": "3.11.0"
  }
 },
 "nbformat": 4,
 "nbformat_minor": 4
}
