{
 "cells": [
  {
   "cell_type": "markdown",
   "metadata": {},
   "source": [
    "# 4. Functions and Classes"
   ]
  },
  {
   "cell_type": "markdown",
   "metadata": {},
   "source": [
    "Let us learn how to define your own *functions*, and further organize them into a *class* for neatness and extensibility.\n",
    "\n",
    "**References**  \n",
    "Python Tutorial (https://docs.python.org/3/tutorial/)\n",
    "* Section 4.7-4.8: Functions\n",
    "* Chapter 6: Modules\n",
    "* Chapter 9: Classes"
   ]
  },
  {
   "cell_type": "code",
   "execution_count": null,
   "metadata": {
    "scrolled": true
   },
   "outputs": [],
   "source": [
    "import numpy as np\n",
    "import matplotlib.pyplot as plt\n",
    "%matplotlib inline"
   ]
  },
  {
   "cell_type": "markdown",
   "metadata": {},
   "source": [
    "## Defining functions\n",
    "If you find yourself running the same codes again and again with different inputs, it is time to define them as a *function*.\n",
    "\n",
    "Here is a simple example:"
   ]
  },
  {
   "cell_type": "code",
   "execution_count": null,
   "metadata": {},
   "outputs": [],
   "source": [
    "def square(x):\n",
    "    \"\"\"Compute x*x\"\"\"\n",
    "    # result returned\n",
    "    return x*x"
   ]
  },
  {
   "cell_type": "code",
   "execution_count": null,
   "metadata": {},
   "outputs": [],
   "source": [
    "square(3)"
   ]
  },
  {
   "cell_type": "code",
   "execution_count": null,
   "metadata": {},
   "outputs": [],
   "source": [
    "a = np.array([1, 2, 3])\n",
    "# input `x` can be anything for which `x*x` is valid\n",
    "square(a)"
   ]
  },
  {
   "cell_type": "markdown",
   "metadata": {},
   "source": [
    "The line encosed by \"\"\" \"\"\" is called a *Docstring*, which is shown by `help( )` command."
   ]
  },
  {
   "cell_type": "code",
   "execution_count": null,
   "metadata": {},
   "outputs": [],
   "source": [
    "help(square)"
   ]
  },
  {
   "cell_type": "code",
   "execution_count": null,
   "metadata": {},
   "outputs": [],
   "source": [
    "square?"
   ]
  },
  {
   "cell_type": "markdown",
   "metadata": {},
   "source": [
    "A function does not need to return anything."
   ]
  },
  {
   "cell_type": "code",
   "execution_count": null,
   "metadata": {},
   "outputs": [],
   "source": [
    "def print_square(x):\n",
    "    \"\"\"Print x*x\"\"\"\n",
    "    print(x*x)\n",
    "# the end of indentation is the end of definition\n",
    "print_square(a)    "
   ]
  },
  {
   "cell_type": "markdown",
   "metadata": {},
   "source": [
    "A function can return multiple values."
   ]
  },
  {
   "cell_type": "code",
   "execution_count": null,
   "metadata": {},
   "outputs": [],
   "source": [
    "def square_cube(x):\n",
    "    \"\"\"Compute x**2 and x**3\"\"\"\n",
    "    # return multiple values separated by comma\n",
    "    return x**2, x**3\n",
    "# results can be assigned to variables separated by comma\n",
    "b, c = square_cube(a)\n",
    "print(b, c)"
   ]
  },
  {
   "cell_type": "code",
   "execution_count": null,
   "metadata": {},
   "outputs": [],
   "source": [
    "square_cube(3)"
   ]
  },
  {
   "cell_type": "code",
   "execution_count": null,
   "metadata": {},
   "outputs": [],
   "source": []
  },
  {
   "cell_type": "markdown",
   "metadata": {},
   "source": [
    "### Arguments and local variables\n",
    "A function can take single, multiple, or no arguments (inputs).  \n",
    "An argument can be required, or optional with a default value.  \n",
    "An argument can be specified by the position, or a keyword."
   ]
  },
  {
   "cell_type": "code",
   "execution_count": null,
   "metadata": {},
   "outputs": [],
   "source": [
    "def norm(x, p=2):\n",
    "    \"\"\"Give the L^p norm of a vector.\"\"\"\n",
    "    y = abs(x) ** p\n",
    "    return np.sum(y) ** (1/p)"
   ]
  },
  {
   "cell_type": "code",
   "execution_count": null,
   "metadata": {},
   "outputs": [],
   "source": [
    "a = np.array([1, 2, -2])\n",
    "norm(a)  # default p=2"
   ]
  },
  {
   "cell_type": "code",
   "execution_count": null,
   "metadata": {},
   "outputs": [],
   "source": [
    "norm(a, 1)  # specify by position"
   ]
  },
  {
   "cell_type": "code",
   "execution_count": null,
   "metadata": {},
   "outputs": [],
   "source": [
    "norm(p=1, x=a)  # specify by the keywords, in any oder"
   ]
  },
  {
   "cell_type": "code",
   "execution_count": null,
   "metadata": {},
   "outputs": [],
   "source": []
  },
  {
   "cell_type": "markdown",
   "metadata": {},
   "source": [
    "### Local and global variables\n",
    "Arguments and variables assigned in a function are registered in a local *namespace*."
   ]
  },
  {
   "cell_type": "code",
   "execution_count": null,
   "metadata": {},
   "outputs": [],
   "source": [
    "y = 0  # global variable\n",
    "norm(a)  # this uses `y` as local variable, y=[1, 4, 9]\n",
    "print(y)  # the global variable `y` is not affected"
   ]
  },
  {
   "cell_type": "markdown",
   "metadata": {},
   "source": [
    "Any *global* variables can be referenced within a function."
   ]
  },
  {
   "cell_type": "code",
   "execution_count": null,
   "metadata": {},
   "outputs": [],
   "source": [
    "a = 1  # global variable\n",
    "def add_a(x):\n",
    "    \"\"\"Add x and a.\"\"\"\n",
    "    return a + x\n",
    "print(add_a(1))  # 1 + 1\n",
    "a = 2\n",
    "print(add_a(1))  # 1 + 2"
   ]
  },
  {
   "cell_type": "markdown",
   "metadata": {},
   "source": [
    "To modify a global variable from inside a function, it have to be declaired as `global`."
   ]
  },
  {
   "cell_type": "code",
   "execution_count": null,
   "metadata": {},
   "outputs": [],
   "source": [
    "a = 1\n",
    "def addto_a(x):\n",
    "    \"\"\"Add x into a.\"\"\"\n",
    "    global a\n",
    "    a = a + x  # add x to a\n",
    "addto_a(1)  # a = a + 1\n",
    "print(a)\n",
    "addto_a(1)  # a = a + 1\n",
    "print(a)"
   ]
  },
  {
   "cell_type": "markdown",
   "metadata": {},
   "source": [
    "You can modify an argument in a function."
   ]
  },
  {
   "cell_type": "code",
   "execution_count": null,
   "metadata": {},
   "outputs": [],
   "source": [
    "def double(x):\n",
    "    \"\"\"Double x\"\"\"\n",
    "    x = 2 * x\n",
    "    return x\n",
    "double(1)"
   ]
  },
  {
   "cell_type": "code",
   "execution_count": null,
   "metadata": {},
   "outputs": [],
   "source": []
  },
  {
   "cell_type": "markdown",
   "metadata": {},
   "source": [
    "## Script\n",
    "Before Jupyter (iPython) notebook was created, to reuse any code, you had to store it in a text file, with `.py` extension by convention. This is called a *script*."
   ]
  },
  {
   "cell_type": "markdown",
   "metadata": {},
   "source": [
    "This magic command creates a simple script file."
   ]
  },
  {
   "cell_type": "code",
   "execution_count": null,
   "metadata": {},
   "outputs": [],
   "source": [
    "%%file hello.py\n",
    "print('Hello!')"
   ]
  },
  {
   "cell_type": "code",
   "execution_count": null,
   "metadata": {},
   "outputs": [],
   "source": [
    "%cat hello.py"
   ]
  },
  {
   "cell_type": "markdown",
   "metadata": {},
   "source": [
    "The standard way of running a script is to type in a terminal:\n",
    "```\n",
    "$ python hello.py\n",
    "```\n",
    "In a Jupyter notebook, you can use `%run` magic command."
   ]
  },
  {
   "cell_type": "code",
   "execution_count": null,
   "metadata": {},
   "outputs": [],
   "source": [
    "%run hello.py"
   ]
  },
  {
   "cell_type": "markdown",
   "metadata": {},
   "source": [
    "You can edit a python script by any text editor. \n",
    "\n",
    "In Jupyter notebook's `Files` window, you can make a new script as a Text file by `New` menu, or edit an existing script by clicking the file name."
   ]
  },
  {
   "cell_type": "code",
   "execution_count": null,
   "metadata": {},
   "outputs": [],
   "source": []
  },
  {
   "cell_type": "markdown",
   "metadata": {},
   "source": [
    "### Module\n",
    "A script with function definitions is called a *module*.  "
   ]
  },
  {
   "cell_type": "code",
   "execution_count": null,
   "metadata": {},
   "outputs": [],
   "source": [
    "%%file lpnorm.py\n",
    "\"\"\"L^p norm module\"\"\"\n",
    "\n",
    "import numpy as np\n",
    "\n",
    "def norm(x, p=2):\n",
    "    \"\"\"The L^p norm of a vector.\"\"\"\n",
    "    y = abs(x) ** p\n",
    "    return np.sum(y) ** (1/p)\n",
    "\n",
    "def normalize(x, p=2):\n",
    "    \"\"\"L^p normalization\"\"\"\n",
    "    return x/norm(x, p)"
   ]
  },
  {
   "cell_type": "code",
   "execution_count": null,
   "metadata": {},
   "outputs": [],
   "source": [
    "%cat lpnorm.py"
   ]
  },
  {
   "cell_type": "markdown",
   "metadata": {},
   "source": [
    "You can import a module and use its function by `module.function()`."
   ]
  },
  {
   "cell_type": "code",
   "execution_count": null,
   "metadata": {},
   "outputs": [],
   "source": [
    "import lpnorm"
   ]
  },
  {
   "cell_type": "code",
   "execution_count": null,
   "metadata": {},
   "outputs": [],
   "source": [
    "help(lpnorm)"
   ]
  },
  {
   "cell_type": "code",
   "execution_count": null,
   "metadata": {},
   "outputs": [],
   "source": [
    "a = np.array([-3, 4])\n",
    "lpnorm.norm(a)"
   ]
  },
  {
   "cell_type": "code",
   "execution_count": null,
   "metadata": {},
   "outputs": [],
   "source": [
    "lpnorm.norm(a,1)"
   ]
  },
  {
   "cell_type": "code",
   "execution_count": null,
   "metadata": {},
   "outputs": [],
   "source": [
    "lpnorm.normalize(a)"
   ]
  },
  {
   "cell_type": "code",
   "execution_count": null,
   "metadata": {},
   "outputs": [],
   "source": []
  },
  {
   "cell_type": "markdown",
   "metadata": {},
   "source": [
    "Caution: Python reads in a module only upon the first `import`, as popular modules like `numpy` are imported in many modules. If you modify your module, you need to restart your kernel or call `importlib.reload()`."
   ]
  },
  {
   "cell_type": "code",
   "execution_count": null,
   "metadata": {},
   "outputs": [],
   "source": [
    "import importlib\n",
    "importlib.reload(lpnorm)"
   ]
  },
  {
   "cell_type": "code",
   "execution_count": null,
   "metadata": {},
   "outputs": [],
   "source": []
  },
  {
   "cell_type": "markdown",
   "metadata": {},
   "source": [
    "### Package\n",
    "A collection of modules are put in a directory as a *package*.  "
   ]
  },
  {
   "cell_type": "code",
   "execution_count": null,
   "metadata": {},
   "outputs": [],
   "source": [
    "# see how numpy is organized\n",
    "%ls $CONDA_PREFIX/lib/python*/site-packages/numpy"
   ]
  },
  {
   "cell_type": "code",
   "execution_count": null,
   "metadata": {},
   "outputs": [],
   "source": []
  },
  {
   "cell_type": "markdown",
   "metadata": {},
   "source": [
    "## Object Oriented Programming\n",
    "Object Oriented Programming has been advocated since 1980's in order to avoid naming conflicts and to allow incremental software development by promoting modularity.\n",
    "\n",
    "Examples are: SmallTalk, Objective C, C++, Java,... and Python!  \n",
    "\n",
    "Major features of OOP is:\n",
    "* define data structure and functions together as a *Class*\n",
    "* an *instance* of a class is created as an *object*\n",
    "* the data (attributes) and functions (methods) are referenced as `instance.attribute` and `instance.method()`.\n",
    "* a new class can be created as a *subclass* of existing classes to inherit their attributes and methods."
   ]
  },
  {
   "cell_type": "markdown",
   "metadata": {},
   "source": [
    "## Defining a basic class\n",
    "Definition of a class starts with  \n",
    "```class ClassName(BaseClass):```  \n",
    "and include\n",
    "* any definition of attributes\n",
    "* `__init__()` method called when a new instance is created\n",
    "* definition of other methods\n",
    "\n",
    "The first argument of a method specifies the instance, which is named `self` by convention."
   ]
  },
  {
   "cell_type": "markdown",
   "metadata": {},
   "source": [
    "Here's a simple class for describing cells in 2D space."
   ]
  },
  {
   "cell_type": "code",
   "execution_count": null,
   "metadata": {},
   "outputs": [],
   "source": [
    "class Cell:\n",
    "    \"\"\"Class for a cell\"\"\"\n",
    "\n",
    "    def __init__(self, position = [0,0], radius=0.1, color=[1,0,0,0.5]):\n",
    "        \"\"\"Make a new cell\"\"\"\n",
    "        self.position = np.array(position)\n",
    "        self.radius = radius\n",
    "        self.color = color\n",
    "     \n",
    "    def show(self):\n",
    "        \"\"\"Visualize as a circule\"\"\"\n",
    "        c = plt.Circle(self.position,self.radius,color=self.color)\n",
    "        plt.gca().add_patch(c)\n",
    "        plt.axis('equal')"
   ]
  },
  {
   "cell_type": "markdown",
   "metadata": {},
   "source": [
    "Let's create an instance of a class by calling like a function."
   ]
  },
  {
   "cell_type": "code",
   "execution_count": null,
   "metadata": {},
   "outputs": [],
   "source": [
    "cell = Cell()"
   ]
  },
  {
   "cell_type": "markdown",
   "metadata": {},
   "source": [
    "Attributes and methods are referenced by `.`"
   ]
  },
  {
   "cell_type": "code",
   "execution_count": null,
   "metadata": {},
   "outputs": [],
   "source": [
    "cell.position"
   ]
  },
  {
   "cell_type": "code",
   "execution_count": null,
   "metadata": {
    "scrolled": false
   },
   "outputs": [],
   "source": [
    "cell.show()"
   ]
  },
  {
   "cell_type": "code",
   "execution_count": null,
   "metadata": {},
   "outputs": [],
   "source": [
    "cell.color = 'b'\n",
    "cell.show()"
   ]
  },
  {
   "cell_type": "markdown",
   "metadata": {},
   "source": [
    "You can create an array of class instances."
   ]
  },
  {
   "cell_type": "code",
   "execution_count": null,
   "metadata": {},
   "outputs": [],
   "source": [
    "n = 10\n",
    "cells = [Cell(np.random.rand(2),color=np.random.rand(4)) for i in range(n)]"
   ]
  },
  {
   "cell_type": "code",
   "execution_count": null,
   "metadata": {},
   "outputs": [],
   "source": [
    "for i in range(n):\n",
    "    cells[i].show()"
   ]
  },
  {
   "cell_type": "code",
   "execution_count": null,
   "metadata": {},
   "outputs": [],
   "source": []
  },
  {
   "cell_type": "markdown",
   "metadata": {
    "collapsed": true,
    "jupyter": {
     "outputs_hidden": true
    }
   },
   "source": [
    "A subclass can inherit attributes and methods of base class."
   ]
  },
  {
   "cell_type": "code",
   "execution_count": null,
   "metadata": {},
   "outputs": [],
   "source": [
    "class gCell(Cell):\n",
    "    \"\"\"Class of growing cell based on Cell class\"\"\"\n",
    "    \n",
    "    def grow(self, scale=2):\n",
    "        \"\"\"Grow the area of the cell\"\"\"\n",
    "        self.radius *= np.sqrt(scale)\n",
    "        \n",
    "    def duplicate(self):\n",
    "        \"\"\"Make a copy with a random shift\"\"\"\n",
    "        c = gCell(self.position+np.random.randn(2)*self.radius, self.radius, self.color)\n",
    "        return c"
   ]
  },
  {
   "cell_type": "code",
   "execution_count": null,
   "metadata": {},
   "outputs": [],
   "source": [
    "c0 = gCell()\n",
    "c0.show()\n",
    "c1 = c0.duplicate()\n",
    "c1.grow()\n",
    "c1.show()"
   ]
  },
  {
   "cell_type": "code",
   "execution_count": null,
   "metadata": {},
   "outputs": [],
   "source": []
  },
  {
   "cell_type": "markdown",
   "metadata": {},
   "source": [
    "Let us make a new class using gCell class"
   ]
  },
  {
   "cell_type": "code",
   "execution_count": null,
   "metadata": {},
   "outputs": [],
   "source": [
    "class Culture():\n",
    "    \"\"\"Class for a cell culture\"\"\"\n",
    "\n",
    "    def __init__(self, n=10, position=None, radius=0.1, color=None):\n",
    "        \"\"\"Make a cell culture with n cells\"\"\"\n",
    "        self.number = n  # nuber of cells\n",
    "        if position == None:  # random position if not specified\n",
    "            position = np.random.rand(n,2)\n",
    "        if color == None:  # random colors if not specified\n",
    "            color = np.random.rand(n,4)\n",
    "        self.cells = [gCell(position[i],radius=radius,color=color[i]) for i in range(n)]\n",
    "\n",
    "    def show(self):\n",
    "        \"\"\"Visualize as a circules\"\"\"\n",
    "        for i in range(self.number):\n",
    "            self.cells[i].show()\n",
    "\n",
    "    def grow(self, scale=2):\n",
    "        \"\"\"Grow the area of each cell\"\"\"\n",
    "        for i in range(self.number):\n",
    "            self.cells[i].grow(scale)\n",
    "        \n",
    "    def duplicate(self):\n",
    "        \"\"\"Make a copy of each cell\"\"\"\n",
    "        for i in range(self.number):\n",
    "            c = self.cells[i].duplicate()\n",
    "            self.cells.append(c)\n",
    "        self.number *= 2"
   ]
  },
  {
   "cell_type": "code",
   "execution_count": null,
   "metadata": {},
   "outputs": [],
   "source": [
    "culture = Culture()"
   ]
  },
  {
   "cell_type": "code",
   "execution_count": null,
   "metadata": {},
   "outputs": [],
   "source": [
    "culture.cells[0].position"
   ]
  },
  {
   "cell_type": "code",
   "execution_count": null,
   "metadata": {},
   "outputs": [],
   "source": [
    "culture.show()"
   ]
  },
  {
   "cell_type": "code",
   "execution_count": null,
   "metadata": {},
   "outputs": [],
   "source": [
    "culture.grow()\n",
    "culture.show()"
   ]
  },
  {
   "cell_type": "code",
   "execution_count": null,
   "metadata": {},
   "outputs": [],
   "source": [
    "culture.duplicate()\n",
    "culture.grow(0.5)\n",
    "culture.show()"
   ]
  },
  {
   "cell_type": "code",
   "execution_count": null,
   "metadata": {},
   "outputs": [],
   "source": []
  },
  {
   "cell_type": "code",
   "execution_count": null,
   "metadata": {},
   "outputs": [],
   "source": []
  }
 ],
 "metadata": {
  "kernelspec": {
   "display_name": "Python 3 (ipykernel)",
   "language": "python",
   "name": "python3"
  },
  "language_info": {
   "codemirror_mode": {
    "name": "ipython",
    "version": 3
   },
   "file_extension": ".py",
   "mimetype": "text/x-python",
   "name": "python",
   "nbconvert_exporter": "python",
   "pygments_lexer": "ipython3",
   "version": "3.12.2"
  }
 },
 "nbformat": 4,
 "nbformat_minor": 4
}
