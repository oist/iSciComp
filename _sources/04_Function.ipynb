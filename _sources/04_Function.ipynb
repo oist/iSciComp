{
 "cells": [
  {
   "cell_type": "markdown",
   "metadata": {},
   "source": [
    "# 4. Functions and Classes"
   ]
  },
  {
   "cell_type": "markdown",
   "metadata": {},
   "source": [
    "Let us learn how to define your own *functions*, and further organize them into a *class* for neatness and extensibility.\n",
    "\n",
    "References: Python Tutorial (https://docs.python.org/3/tutorial/)\n",
    "* Section 4.7-4.8: Functions\n",
    "* Chapter 6: Modules\n",
    "* Chapter 9: Classes"
   ]
  },
  {
   "cell_type": "code",
   "execution_count": null,
   "metadata": {
    "scrolled": true
   },
   "outputs": [],
   "source": [
    "import numpy as np\n",
    "import matplotlib.pyplot as plt\n",
    "%matplotlib inline"
   ]
  },
  {
   "cell_type": "markdown",
   "metadata": {},
   "source": [
    "## Defining functions\n",
    "If you find yourself running the same codes again and again with different inputs, it is time to define them as a *function*.\n",
    "\n",
    "Here is a simple example:"
   ]
  },
  {
   "cell_type": "code",
   "execution_count": null,
   "metadata": {},
   "outputs": [],
   "source": [
    "def square(x):\n",
    "    \"\"\"Compute x*x\"\"\"\n",
    "    # result returned\n",
    "    return x*x"
   ]
  },
  {
   "cell_type": "code",
   "execution_count": null,
   "metadata": {},
   "outputs": [],
   "source": [
    "square(3)"
   ]
  },
  {
   "cell_type": "code",
   "execution_count": null,
   "metadata": {},
   "outputs": [],
   "source": [
    "a = np.array([1, 2, 3])\n",
    "# input `x` can be anything for which `x*x` is valid\n",
    "square(a)"
   ]
  },
  {
   "cell_type": "markdown",
   "metadata": {},
   "source": [
    "The line encosed by \"\"\" \"\"\" is called a *Docstring*, which is shown by `help( )` command."
   ]
  },
  {
   "cell_type": "code",
   "execution_count": null,
   "metadata": {},
   "outputs": [],
   "source": [
    "help(square)"
   ]
  },
  {
   "cell_type": "code",
   "execution_count": null,
   "metadata": {},
   "outputs": [],
   "source": [
    "square?"
   ]
  },
  {
   "cell_type": "markdown",
   "metadata": {},
   "source": [
    "A function does not need to return anything."
   ]
  },
  {
   "cell_type": "code",
   "execution_count": null,
   "metadata": {},
   "outputs": [],
   "source": [
    "def print_square(x):\n",
    "    \"\"\"Print x*x\"\"\"\n",
    "    print(x*x)\n",
    "# the end of indentation is the end of definition\n",
    "print_square(a)    "
   ]
  },
  {
   "cell_type": "markdown",
   "metadata": {},
   "source": [
    "A function can return multiple values."
   ]
  },
  {
   "cell_type": "code",
   "execution_count": null,
   "metadata": {},
   "outputs": [],
   "source": [
    "def square_cube(x):\n",
    "    \"\"\"Compute x**2 and x**3\"\"\"\n",
    "    # return multiple values separated by comma\n",
    "    return x**2, x**3\n",
    "# results can be assigned to variables separated by comma\n",
    "b, c = square_cube(a)\n",
    "print(b, c)"
   ]
  },
  {
   "cell_type": "code",
   "execution_count": null,
   "metadata": {},
   "outputs": [],
   "source": [
    "square_cube(3)"
   ]
  },
  {
   "cell_type": "code",
   "execution_count": null,
   "metadata": {},
   "outputs": [],
   "source": []
  },
  {
   "cell_type": "markdown",
   "metadata": {},
   "source": [
    "### Arguments and local variables\n",
    "A function can take single, multiple, or no arguments (inputs).  \n",
    "An argumet can be required, or optional with a default value.  \n",
    "An argument can be specified by the position, or a keyword."
   ]
  },
  {
   "cell_type": "code",
   "execution_count": null,
   "metadata": {},
   "outputs": [],
   "source": [
    "def norm(x, p=2):\n",
    "    \"\"\"Give the L^p norm of a vector.\"\"\"\n",
    "    y = abs(x) ** p\n",
    "    return np.sum(y) ** (1/p)"
   ]
  },
  {
   "cell_type": "code",
   "execution_count": null,
   "metadata": {},
   "outputs": [],
   "source": [
    "a = np.array([1, 2, -2])\n",
    "norm(a)  # default p=2"
   ]
  },
  {
   "cell_type": "code",
   "execution_count": null,
   "metadata": {},
   "outputs": [],
   "source": [
    "norm(a, 1)  # specify by position"
   ]
  },
  {
   "cell_type": "code",
   "execution_count": null,
   "metadata": {},
   "outputs": [],
   "source": [
    "norm(p=1, x=a)  # specify by the keywords, in any oder"
   ]
  },
  {
   "cell_type": "code",
   "execution_count": null,
   "metadata": {},
   "outputs": [],
   "source": []
  },
  {
   "cell_type": "markdown",
   "metadata": {},
   "source": [
    "### Local and global variables\n",
    "Arguments and variables assigned in a function are registered in a local *namespace*."
   ]
  },
  {
   "cell_type": "code",
   "execution_count": null,
   "metadata": {},
   "outputs": [],
   "source": [
    "y = 0  # global variable\n",
    "norm(a)  # this uses `y` as local variable, y=[1, 4, 9]\n",
    "print(y)  # the global variable `y` is not affected"
   ]
  },
  {
   "cell_type": "markdown",
   "metadata": {},
   "source": [
    "Any *global* variables can be referenced within a function."
   ]
  },
  {
   "cell_type": "code",
   "execution_count": null,
   "metadata": {},
   "outputs": [],
   "source": [
    "a = 1  # global variable\n",
    "def add_a(x):\n",
    "    \"\"\"Add x and a.\"\"\"\n",
    "    return a + x\n",
    "print(add_a(1))  # 1 + 1\n",
    "a = 2\n",
    "print(add_a(1))  # 1 + 2"
   ]
  },
  {
   "cell_type": "markdown",
   "metadata": {},
   "source": [
    "To modify a global variable from inside a function, it have to be declaired as `global`."
   ]
  },
  {
   "cell_type": "code",
   "execution_count": null,
   "metadata": {},
   "outputs": [],
   "source": [
    "a = 1\n",
    "def addto_a(x):\n",
    "    \"\"\"Add x into a.\"\"\"\n",
    "    global a\n",
    "    a = a + x  # add x to a\n",
    "addto_a(1)  # a = a + 1\n",
    "print(a)\n",
    "addto_a(1)  # a = a + 1\n",
    "print(a)"
   ]
  },
  {
   "cell_type": "markdown",
   "metadata": {},
   "source": [
    "You can modify an argument in a function."
   ]
  },
  {
   "cell_type": "code",
   "execution_count": null,
   "metadata": {},
   "outputs": [],
   "source": [
    "def double(x):\n",
    "    \"\"\"Double x\"\"\"\n",
    "    x = 2 * x\n",
    "    return x\n",
    "double(1)"
   ]
  },
  {
   "cell_type": "code",
   "execution_count": null,
   "metadata": {},
   "outputs": [],
   "source": []
  },
  {
   "cell_type": "markdown",
   "metadata": {},
   "source": [
    "## Scripts, modules, and packages\n",
    "Before Jupyter (iPython) notebook was created, to reuse any code, you had to store it in a text file, with `.py` extension by convention. This is called a *script*."
   ]
  },
  {
   "cell_type": "code",
   "execution_count": null,
   "metadata": {},
   "outputs": [],
   "source": [
    "%cat haisai.py"
   ]
  },
  {
   "cell_type": "markdown",
   "metadata": {},
   "source": [
    "The standard way of running a script is to type in a terminal:\n",
    "```\n",
    "$ python haisai.py\n",
    "```\n",
    "In a Jupyter notebook, you can use `%run` magic command."
   ]
  },
  {
   "cell_type": "code",
   "execution_count": null,
   "metadata": {},
   "outputs": [],
   "source": [
    "%run haisai.py"
   ]
  },
  {
   "cell_type": "markdown",
   "metadata": {},
   "source": [
    "You can edit a python script by any text editor. \n",
    "\n",
    "In Jupyter notebook's `Files` window, you can make a new script as a Text file by `New` menu, or edit an existing script by clicking the file name."
   ]
  },
  {
   "cell_type": "code",
   "execution_count": null,
   "metadata": {},
   "outputs": [],
   "source": []
  },
  {
   "cell_type": "markdown",
   "metadata": {},
   "source": [
    "A script with function definitions is called a *module*.  "
   ]
  },
  {
   "cell_type": "code",
   "execution_count": null,
   "metadata": {},
   "outputs": [],
   "source": [
    "%cat lp.py"
   ]
  },
  {
   "cell_type": "markdown",
   "metadata": {},
   "source": [
    "You can import a module and use its function by `module.function()`."
   ]
  },
  {
   "cell_type": "code",
   "execution_count": null,
   "metadata": {},
   "outputs": [],
   "source": [
    "import lp"
   ]
  },
  {
   "cell_type": "code",
   "execution_count": null,
   "metadata": {},
   "outputs": [],
   "source": [
    "help(lp)"
   ]
  },
  {
   "cell_type": "code",
   "execution_count": null,
   "metadata": {},
   "outputs": [],
   "source": [
    "a = np.array([-3, 4])\n",
    "lp.norm(a)"
   ]
  },
  {
   "cell_type": "code",
   "execution_count": null,
   "metadata": {},
   "outputs": [],
   "source": [
    "lp.normalize(a, 1)"
   ]
  },
  {
   "cell_type": "markdown",
   "metadata": {},
   "source": [
    "Caution: Python reads in a module only upon the first `import`, as popular modules like `numpy` are imorted in many modules. If you modify your module, you need to restart your kernel or call `importlib.reload()`."
   ]
  },
  {
   "cell_type": "code",
   "execution_count": null,
   "metadata": {},
   "outputs": [],
   "source": [
    "import importlib\n",
    "importlib.reload(lp)"
   ]
  },
  {
   "cell_type": "markdown",
   "metadata": {},
   "source": [
    "A collection of modules are put in a directory as a *package*.  "
   ]
  },
  {
   "cell_type": "code",
   "execution_count": null,
   "metadata": {},
   "outputs": [],
   "source": [
    "# see how numpy is organized\n",
    "%ls $CONDA_PREFIX/lib/python3.9/site-packages/numpy"
   ]
  },
  {
   "cell_type": "code",
   "execution_count": null,
   "metadata": {},
   "outputs": [],
   "source": []
  },
  {
   "cell_type": "markdown",
   "metadata": {},
   "source": [
    "## Object Oriented Programming\n",
    "Object Oriented Programming has been advocated since 1980's in order to avoid naming coflicts and to allow incremental software development by promoting modularity.\n",
    "\n",
    "Examples are: SmallTalk, Objective C, C++, Java,... and Python!  \n",
    "\n",
    "Major features of OOP is:\n",
    "* define data structure and functions together as a *Class*\n",
    "* an *instance* of a class is created as an *object*\n",
    "* the data (attributes) and functions (methods) are referenced as `instance.attribute` and `instance.method()`.\n",
    "* a new class can be created as a *subclass* of existing classes to inherit their attributes and methods."
   ]
  },
  {
   "cell_type": "markdown",
   "metadata": {},
   "source": [
    "## Defining a basic class\n",
    "Definition of a class starts with  \n",
    "```class ClassName(BaseClass):```  \n",
    "and include\n",
    "* definition of attributes\n",
    "* `__init__()` method called when a new instance is created\n",
    "* definition of other methods\n",
    "\n",
    "The first argument of a method specifies the instance, which is named `self` by convention."
   ]
  },
  {
   "cell_type": "code",
   "execution_count": null,
   "metadata": {},
   "outputs": [],
   "source": [
    "class Vector:\n",
    "    \"\"\"A class for vector calculation.\"\"\"\n",
    "    default_p = 2\n",
    "    \n",
    "    def __init__(self, arr):  # make a new instance\n",
    "        self.vector = np.array(arr)     # array is registered as a vector\n",
    "    \n",
    "    def norm(self, p=None):\n",
    "        \"\"\"Give the L^p norm of a vector.\"\"\"\n",
    "        if p == None:\n",
    "            p = self.default_p\n",
    "        y = abs(self.vector) ** p\n",
    "        return np.sum(y) ** (1/p)\n",
    "    \n",
    "    def normalize(self):\n",
    "        \"\"\"normalize the vector\"\"\"\n",
    "        u = self.vector/self.norm()\n",
    "        self.vector = u\n",
    "    "
   ]
  },
  {
   "cell_type": "markdown",
   "metadata": {},
   "source": [
    "A new instance is created by calling the class like a function."
   ]
  },
  {
   "cell_type": "code",
   "execution_count": null,
   "metadata": {},
   "outputs": [],
   "source": [
    "x = Vector([0, 1, 2])"
   ]
  },
  {
   "cell_type": "markdown",
   "metadata": {},
   "source": [
    "Attributes and methods are referenced by `.`"
   ]
  },
  {
   "cell_type": "code",
   "execution_count": null,
   "metadata": {},
   "outputs": [],
   "source": [
    "x.vector"
   ]
  },
  {
   "cell_type": "code",
   "execution_count": null,
   "metadata": {},
   "outputs": [],
   "source": [
    "x.norm()"
   ]
  },
  {
   "cell_type": "code",
   "execution_count": null,
   "metadata": {},
   "outputs": [],
   "source": [
    "x.norm(3)"
   ]
  },
  {
   "cell_type": "code",
   "execution_count": null,
   "metadata": {},
   "outputs": [],
   "source": [
    "x.default_p = 1"
   ]
  },
  {
   "cell_type": "code",
   "execution_count": null,
   "metadata": {},
   "outputs": [],
   "source": [
    "x.norm()"
   ]
  },
  {
   "cell_type": "code",
   "execution_count": null,
   "metadata": {},
   "outputs": [],
   "source": [
    "x.normalize()\n",
    "x.vector"
   ]
  },
  {
   "cell_type": "code",
   "execution_count": null,
   "metadata": {},
   "outputs": [],
   "source": [
    "# another instance\n",
    "y = Vector([0, 1, 2, 3])"
   ]
  },
  {
   "cell_type": "code",
   "execution_count": null,
   "metadata": {},
   "outputs": [],
   "source": [
    "y.norm()"
   ]
  },
  {
   "cell_type": "markdown",
   "metadata": {
    "collapsed": true
   },
   "source": [
    "A subclass can inherit attributes and methods of base class."
   ]
  },
  {
   "cell_type": "code",
   "execution_count": null,
   "metadata": {},
   "outputs": [],
   "source": [
    "class Vector2(Vector):\n",
    "    \"\"\"For more vector calculation.\"\"\"\n",
    "    \n",
    "    def double(self):\n",
    "        u = 2*self.vector\n",
    "        self.vector = u\n",
    "        "
   ]
  },
  {
   "cell_type": "code",
   "execution_count": null,
   "metadata": {},
   "outputs": [],
   "source": [
    "z = Vector2([1, 2, 3])\n",
    "z.vector"
   ]
  },
  {
   "cell_type": "code",
   "execution_count": null,
   "metadata": {},
   "outputs": [],
   "source": [
    "z.double()\n",
    "z.vector"
   ]
  },
  {
   "cell_type": "code",
   "execution_count": null,
   "metadata": {},
   "outputs": [],
   "source": []
  },
  {
   "cell_type": "code",
   "execution_count": null,
   "metadata": {},
   "outputs": [],
   "source": []
  }
 ],
 "metadata": {
  "kernelspec": {
   "display_name": "Python 3 (ipykernel)",
   "language": "python",
   "name": "python3"
  },
  "language_info": {
   "codemirror_mode": {
    "name": "ipython",
    "version": 3
   },
   "file_extension": ".py",
   "mimetype": "text/x-python",
   "name": "python",
   "nbconvert_exporter": "python",
   "pygments_lexer": "ipython3",
   "version": "3.9.16"
  }
 },
 "nbformat": 4,
 "nbformat_minor": 1
}
