{
 "cells": [
  {
   "cell_type": "markdown",
   "metadata": {},
   "source": [
    "# 6. Ordinary Differential Equations"
   ]
  },
  {
   "cell_type": "markdown",
   "metadata": {},
   "source": [
    "A differential equation is an equation that includes a derivative $f\\frac{df(x)}{dx}$ of a function $f(x)$.  \n",
    "\n",
    "> The derivative of a function $f(x)$ means its slope, mathematically defined as the limit:\n",
    "$$\n",
    "\\frac{df(x)}{dx} = \\lim_{\\Delta x \\rightarrow 0} \\frac{f(x+\\Delta x) - f(x)}{\\Delta x}\n",
    "$$\n",
    "\n",
    "If the independent variable $x$ is single, such as time, it is called an *ordinary differential equation (ODE)*. \n",
    "\n",
    "If there are multiple independent variables, such as space and time, the equation includes *partial derivatives* and called a *partial differential equation (PDE)*."
   ]
  },
  {
   "cell_type": "markdown",
   "metadata": {},
   "source": [
    "Here we consider ODEs of the form\n",
    "$$ \\frac{dy}{dt} = f(y, t) $$\n",
    "which describes the temporal dynamics of a varibale $y$ over time $t$.  It is also called a continuous-time *dynamical system*.\n",
    "\n",
    "Finding the variable as an explicit function of time $y(t)$ is called *solving* or *integrating* the ODE. \n",
    "When it is done numerically, it is aslo called *simulating*.\n",
    "\n",
    "References:\n",
    "* Stephen Wiggins: Introduction to Applied Nonlinear Dynamical Systems and Chaos, 2nd ed., Springer (2003).\n",
    "* Scipy Lecture Notes: Section 6.7 Numerical Integration"
   ]
  },
  {
   "cell_type": "markdown",
   "metadata": {},
   "source": [
    "Here are some basic properties of the deriative $f'(x)=\\frac{df(x)}{dx}$\n",
    "\n",
    "* The derivative of exponential is itself: $ \\frac{d e^x}{dx} = e^x $\n",
    "\n",
    "* Derivatives of sine and cosine: $\\sin'(x)=\\cos(x)$, $\\cos'(x)=-\\sin(x)$\n",
    "\n",
    "* Linearity: $ \\frac{d af(x)+bg(x)}{dx} = af'(x)+bg'(x) $\n",
    "\n",
    "* Chain rule: $ \\frac{d f(g(x))}{dx} = f'(g(x))g'(x) $\n"
   ]
  },
  {
   "cell_type": "markdown",
   "metadata": {},
   "source": [
    "## Analytic Solutions\n",
    "Solving a differential equation is an inverse problem of differentiation, for which analytic solution may not be available.  \n",
    "\n",
    "The simplest case where analytic solutions are available is *linear* differential equations \n",
    "$$ \\frac{dy}{dt} = A y $$\n",
    "where $y$ is a real variable or a real vector, and $A$ is a constant coefficient or a matrix.  "
   ]
  },
  {
   "cell_type": "markdown",
   "metadata": {},
   "source": [
    "### Linear ODEs\n",
    "In general, a differential equation can have multiple solutions. For example, for a scalar linear ODE\n",
    "$$ \\frac{dy}{dt} = a y, $$\n",
    "the solution is given by\n",
    "$$ y(t) = C e^{at}, $$\n",
    "where $C$ can be any real value.\n",
    "* Verify that by differentiating both sides of the equaiton above.\n",
    "\n",
    "When the value of $y$ at a certain time is specified, the solution becomes unique.  \n",
    "For example, by specifying an initial condition \n",
    "$$ y(0)=3, $$\n",
    "from $e^{a0}=e^0=1$, we have $C=3$ and a particular solution $$ y(t)=3e^{at}. $$"
   ]
  },
  {
   "cell_type": "markdown",
   "metadata": {},
   "source": [
    "Another example is a second-order linear ODE\n",
    "$$ \\frac{d^2y}{dt^2} = -a^2 y. $$ \n",
    "\n",
    "> The second-order derivative $\\frac{d^2y}{dt^2}$ of a function $y(t)$ is the devative of the derivative\n",
    "$$ \\frac{d^2y}{dt^2} = \\frac{d \\frac{dy}{dt}}{dt} =  \\frac{d}{dt} \\frac{dy}{dt} $$\n",
    ">representing the curvature.\n",
    "\n",
    "In this case, the solution is given by\n",
    "$$ y(t) = C_1 \\sin at + C_2 \\cos at $$\n",
    "where $C_1$ and $C_2$ are determined by spedifying $y$ and $dy/dt$ at certain time.\n",
    "* Also verify the above."
   ]
  },
  {
   "cell_type": "markdown",
   "metadata": {},
   "source": [
    "### Analytically solvable ODEs\n",
    "Other cases where analytic solutions are well known are:\n",
    "\n",
    "* Linear time-varying coefficient:\n",
    "$$ \\frac{dy}{dt} = a(t)y $$\n",
    "> $at$ replaced by time integral\n",
    "$$ y(t) = C e^{\\int a(t)dt} $$\n",
    "\n",
    "* Linear time-varying input: \n",
    "$$\\frac{dy}{dt} = a(t)y + b(t)$$\n",
    "> using the above solution $y_0(t)$ for $b(t)=0$\n",
    "$$ y(t) = Cy_0(t) + y_0(t) \\int \\frac{b(t)}{y_0(t)}dt $$\n",
    "\n",
    "* Separation of variables: \n",
    "$$\\frac{dy}{dt} = a(y)b(t)$$\n",
    "> two related integrals \n",
    "$$\\int \\frac{1}{a(y)}dy = \\int b(t)dt + C $$\n",
    "\n",
    "* Other cases that can be reduced to above by change of variables, etc.\n",
    "\n",
    "You can use `dsolve()` function of `SymPy` to find some analitic solutions.  See Scipy Tutorial, Chapter 16 if you are interested."
   ]
  },
  {
   "cell_type": "markdown",
   "metadata": {},
   "source": [
    "## Euler Method\n",
    "The most basic way of sovling an ODE numerically is *Euler Method*.  \n",
    "For an ODE\n",
    "$$ \\frac{dy}{dt} = f(y,t) $$\n",
    "with an initial condition $y(t_0)=y_0$, the solution is iteratively approximated by\n",
    "$$ y(t+\\Delta t) = y(t) + f(y,t) \\Delta t $$\n",
    "with a small time step $\\Delta t$."
   ]
  },
  {
   "cell_type": "code",
   "execution_count": null,
   "metadata": {},
   "outputs": [],
   "source": [
    "import numpy as np\n",
    "import matplotlib.pyplot as plt\n",
    "%matplotlib inline"
   ]
  },
  {
   "cell_type": "code",
   "execution_count": null,
   "metadata": {},
   "outputs": [],
   "source": [
    "def euler(f, y0, dt, n, *args):\n",
    "    \"\"\"f: righthand side of ODE dy/dt=f(y,t)\n",
    "        y0: initial condition y(0)=y0\n",
    "        dt: time step\n",
    "        n: iteratons\n",
    "        args: parameter for f(y,t,*args)\"\"\"\n",
    "    d = np.array([y0]).size  ## state dimension\n",
    "    y = np.zeros((n+1, d))\n",
    "    y[0] = y0\n",
    "    t = 0\n",
    "    for k in range(n):\n",
    "        y[k+1] = y[k] + f(y[k], t, *args)*dt\n",
    "        t = t + dt\n",
    "    return y"
   ]
  },
  {
   "cell_type": "markdown",
   "metadata": {},
   "source": [
    "Let us test this with a first-order linear ODE."
   ]
  },
  {
   "cell_type": "code",
   "execution_count": null,
   "metadata": {},
   "outputs": [],
   "source": [
    "def first(y, t, a):\n",
    "    \"\"\"first-order linear ODE dy/dt = a*y\"\"\"\n",
    "    return a*y"
   ]
  },
  {
   "cell_type": "code",
   "execution_count": null,
   "metadata": {},
   "outputs": [],
   "source": [
    "y = euler(first, 1, 0.1, 100, -1)\n",
    "plt.plot(y, '.-');"
   ]
  },
  {
   "cell_type": "markdown",
   "metadata": {},
   "source": [
    "A second-order ODE \n",
    "$$ \\frac{d^2y}{dt^2} = a_2 \\frac{dy}{dt} + a_1 y + a_0 $$\n",
    "can be converted into a first-order ODE of a 2-dimensional vector \n",
    "${\\bf y} = \\pmatrix{y_1 \\\\ y_2} =\\pmatrix{y \\\\ \\frac{dy}{dt}}$ as \n",
    "$$ \\frac{dy_1}{dt} = y_2 $$\n",
    "$$ \\frac{dy_2}{dt} = a_2 y_2 + a_1 y_1 + a_0 $$\n",
    "or in a vector-matrix form\n",
    "$$ \\frac{d}{dt}{\\bf y} = A{\\bf y} + {\\bf b}$$\n",
    "where\n",
    "$$ A = \\pmatrix{0 & 1 \\\\ a_1 & a_2} \\mbox{ and } {\\bf b} = \\pmatrix{0 \\\\ a_0}$$"
   ]
  },
  {
   "cell_type": "code",
   "execution_count": null,
   "metadata": {},
   "outputs": [],
   "source": [
    "def second(y, t, a):\n",
    "    \"\"\"second-order linear ODE \"\"\"\n",
    "    y1, y2 = y\n",
    "    return np.array([y2, a[2]*y2 + a[1]*y1 + a[0]])"
   ]
  },
  {
   "cell_type": "code",
   "execution_count": null,
   "metadata": {},
   "outputs": [],
   "source": [
    "y = euler(second, [0, 1], 0.01, 2000, [0, -1, 0])\n",
    "plt.plot(y);"
   ]
  },
  {
   "cell_type": "code",
   "execution_count": null,
   "metadata": {},
   "outputs": [],
   "source": [
    "y = euler(second, [0, 1], 0.01, 2000, [0, -1, -0.5])\n",
    "plt.plot(y);"
   ]
  },
  {
   "cell_type": "code",
   "execution_count": null,
   "metadata": {},
   "outputs": [],
   "source": [
    "# phase plot\n",
    "plt.plot(y[:,0], y[:,1]);"
   ]
  },
  {
   "cell_type": "code",
   "execution_count": null,
   "metadata": {},
   "outputs": [],
   "source": []
  },
  {
   "cell_type": "markdown",
   "metadata": {},
   "source": [
    "Let us see how the time step affects the accuracy of the solution."
   ]
  },
  {
   "cell_type": "code",
   "execution_count": null,
   "metadata": {},
   "outputs": [],
   "source": [
    "steps = [0.01, 0.05, 0.1, 0.2, 0.3, 0.4, 0.5]\n",
    "tend = 2\n",
    "a = -5\n",
    "for dt in steps:\n",
    "    y = euler(first, 1, dt, int(tend/dt), a)\n",
    "    plt.plot(np.linspace(0, tend, len(y)), y)"
   ]
  },
  {
   "cell_type": "code",
   "execution_count": null,
   "metadata": {},
   "outputs": [],
   "source": []
  },
  {
   "cell_type": "markdown",
   "metadata": {},
   "source": [
    "## Scipy's Integrate package\n",
    "To avoid numerical instability and to improve accuracy and efficiency, there are advanced methods for ODE solutions.\n",
    "* Backward Euler method: solve\n",
    "$$ y(t+\\Delta t) = y(t) + f(y(t+\\Delta t)) \\Delta t$$\n",
    "\n",
    "* Mixture of forward and backward (Crank-Nicolson): \n",
    "$$ y(t+\\Delta t) = y(t) + \\frac{1}{2}\\{f(y(t))+f(y(t+\\Delta t))\\} \\Delta t$$\n",
    "\n",
    "* Runge-Kutta method: minimize higher-order erros by Taylor expansion\n",
    "$$ y(t+\\Delta t) = y(t) + f(y(t))\\Delta t + \\frac{1}{2} \\frac{d}{dt}f(y(t))\\Delta t^2 + ...$$\n",
    "\n",
    "* Adative time step: adjust $\\Delta t$ depending on the scale of $\\frac{df(y(t))}{dt}$.\n",
    "\n",
    "The implementation and choice of these methods require a good expertise, but fortunately `scipy` includes `integrate` package which has been well tested and optimized.  \n",
    "`odeint()` implements automatic method switching and time step adaptation.  \n",
    "`ode()` is a class interface for multiple methods."
   ]
  },
  {
   "cell_type": "code",
   "execution_count": null,
   "metadata": {},
   "outputs": [],
   "source": [
    "from scipy.integrate import odeint"
   ]
  },
  {
   "cell_type": "code",
   "execution_count": null,
   "metadata": {},
   "outputs": [],
   "source": [
    "help(odeint)"
   ]
  },
  {
   "cell_type": "markdown",
   "metadata": {},
   "source": [
    "Here is an example of first-order linear ODE."
   ]
  },
  {
   "cell_type": "code",
   "execution_count": null,
   "metadata": {},
   "outputs": [],
   "source": [
    "t = np.arange(0, 10, 0.5)  # time points\n",
    "y = odeint(first, 1, t, args=(1,))\n",
    "plt.plot(t, y, '.-');"
   ]
  },
  {
   "cell_type": "markdown",
   "metadata": {},
   "source": [
    "Here's another example of second-order linear ODE."
   ]
  },
  {
   "cell_type": "code",
   "execution_count": null,
   "metadata": {},
   "outputs": [],
   "source": [
    "t = np.arange(0, 10, 0.2)  # time points\n",
    "y = odeint(second, [1, 1], t, args=([0, -1, -1],))\n",
    "plt.plot(t, y, '.-');"
   ]
  },
  {
   "cell_type": "markdown",
   "metadata": {},
   "source": [
    "`odeint()` internally uses adaptive time steps, and returns values of `y` for time points specified in `t` by interpolation."
   ]
  },
  {
   "cell_type": "code",
   "execution_count": null,
   "metadata": {},
   "outputs": [],
   "source": [
    "# If you are interested in the internal time steps used...\n",
    "t = np.arange(0, 10, 0.5)  # time points\n",
    "y, info = odeint(first, 1, t, args=(-1,), full_output=1)\n",
    "plt.plot(t, y, '.-')\n",
    "# the crosses show the time points actually used\n",
    "plt.plot(info['tcur'], np.zeros_like(info['tcur']), '+');"
   ]
  },
  {
   "cell_type": "markdown",
   "metadata": {},
   "source": [
    "## Fixed Point and Stability\n",
    "A point $y$ that satisfy $\\frac{d}{dt}{\\bf y}=f({\\bf y})={\\bf 0}$ is called a *fixed point*.\n",
    "\n",
    "A fixed point is characterized by its *stability*."
   ]
  },
  {
   "cell_type": "code",
   "execution_count": null,
   "metadata": {},
   "outputs": [],
   "source": [
    "def expos(a, b):\n",
    "    \"\"\"Exponentials exp(a*t), exp(b*t)\"\"\"\n",
    "    u = np.array(np.exp(a*t))\n",
    "    v = np.array(np.exp(b*t))\n",
    "    x = np.array([u, -u, -u, u]).T\n",
    "    y = np.array([v, v, -v, -v]).T\n",
    "    return x, y\n",
    "\n",
    "def spirals(a, b):\n",
    "    \"\"\"Spirals: exp(a*t)*cos(b*t), exp(a*t)*sin(b*t) \"\"\"\n",
    "    u = np.array(np.exp(a*t)*np.cos(b*t))\n",
    "    v = np.array(np.exp(a*t)*np.sin(b*t))\n",
    "    x = np.array([u, v, -u, -v]).T\n",
    "    y = np.array([v, -u, -v, u]).T\n",
    "    return x, y\n",
    "\n",
    "def arrowcurves(x, y, s=0.1):\n",
    "    \"\"\"curves with an arrowhead\n",
    "    x, y: time courses in columns\n",
    "    s: arrowhead size\"\"\"\n",
    "    plt.plot(x, y)\n",
    "    n = x.shape[1]  # columns\n",
    "    for i in range(n):\n",
    "        plt.arrow(x[-2,i], y[-2,i], x[-1,i]-x[-2,i], y[-1,i]-y[-2,i],\n",
    "                 head_width=s, head_length=s)\n",
    "    plt.axis('equal')\n",
    "    "
   ]
  },
  {
   "cell_type": "code",
   "execution_count": null,
   "metadata": {},
   "outputs": [],
   "source": [
    "t = np.linspace(0, 1)  # time points"
   ]
  },
  {
   "cell_type": "markdown",
   "metadata": {},
   "source": [
    "* Stable\n",
    "    - Attractor\n",
    "    - Neutrally stable"
   ]
  },
  {
   "cell_type": "code",
   "execution_count": null,
   "metadata": {},
   "outputs": [],
   "source": [
    "plt.figure(figsize=(12,4))\n",
    "plt.subplot(1,3,1)\n",
    "plt.title('Attractor')\n",
    "plt.plot(0, 0, 'o')\n",
    "x, y = expos(-2, -3)\n",
    "arrowcurves(x, y)\n",
    "plt.subplot(1,3,2)\n",
    "plt.title('Attractor (spiral)')\n",
    "plt.plot(0, 0, 'o')\n",
    "x, y = spirals(-1, 3)\n",
    "arrowcurves(x,y)\n",
    "plt.subplot(1,3,3)\n",
    "plt.title('Neutrally Stable')\n",
    "plt.plot(0, 0, 'o')\n",
    "x, y = spirals(0, 2)\n",
    "arrowcurves(x,y)"
   ]
  },
  {
   "cell_type": "markdown",
   "metadata": {},
   "source": [
    "* Unstable\n",
    "    - repellor\n",
    "    - Saddle"
   ]
  },
  {
   "cell_type": "code",
   "execution_count": null,
   "metadata": {},
   "outputs": [],
   "source": [
    "plt.figure(figsize=(12,4))\n",
    "plt.subplot(1,3,1)\n",
    "plt.title('Repellor')\n",
    "plt.plot(0, 0, 'o')\n",
    "x, y = expos(2, 2.5)\n",
    "arrowcurves(x, y, s=1)\n",
    "arrowcurves(x, y)\n",
    "plt.subplot(1,3,2)\n",
    "plt.title('Repellor (spiral)')\n",
    "plt.plot(0, 0, 'o')\n",
    "x, y = spirals(1, 3)\n",
    "arrowcurves(x, y, s=0.3)\n",
    "plt.subplot(1,3,3)\n",
    "plt.title('Saddle')\n",
    "plt.plot(0, 0, 'o')\n",
    "x, y = expos(-3, 1.1)\n",
    "arrowcurves(x, y, s=0.3)"
   ]
  },
  {
   "cell_type": "code",
   "execution_count": null,
   "metadata": {},
   "outputs": [],
   "source": []
  },
  {
   "cell_type": "markdown",
   "metadata": {},
   "source": [
    "## Linear dynamical system\n",
    "\n",
    "For a linear dynamical system\n",
    "$$ \\frac{d}{dt}{\\bf y} = A {\\bf y} $$\n",
    "where ${\\bf y}$ is an $n$ dimensional vector and $A$ is an $n\\times n$ matrix, the origin ${\\bf y}={\\bf 0}$ is always a fixed point. \n",
    "Its stability is determined by the eigenvalues of $A$.\n",
    "\n",
    "* If the real part of all the eigenvalues are negative or zero, the system is stable.\n",
    "\n",
    "* If any of the real part of the eigenvalues is positive, the system is unstable.\n",
    "\n",
    "* If there are complex eigenvalues, the solution is oscillatory."
   ]
  },
  {
   "cell_type": "code",
   "execution_count": null,
   "metadata": {},
   "outputs": [],
   "source": [
    "def linear(y, t, A):\n",
    "    \"\"\"Linear dynamcal system dy/dt = Ay\n",
    "    y: n-dimensional state vector\n",
    "    t: time (not used, for compatibility with odeint())\n",
    "    A: n*n matrix\"\"\"\n",
    "    # y is an array (row vector), A is a matrix\n",
    "    return A@y\n",
    "\n",
    "def lode_plot(A, y0=[1,0]):\n",
    "    \"\"\"Plot the trajectory and eiven values of linear ode\"\"\"\n",
    "    ev,_ = np.linalg.eig(A)\n",
    "    print('A =', A, '\\nev =', ev)\n",
    "    t=np.arange(0, 10, 0.1)\n",
    "    y = odeint(linear, y0, t, args=(A,))\n",
    "    plt.plot(y[0,0], y[0,1], 'o')   # starting point\n",
    "    plt.plot(y[:,0], y[:,1], '.-')  # trajectory\n",
    "    plt.plot(y[-1,0], y[-1,1], '*')  # end point\n",
    "    plt.axis('equal')"
   ]
  },
  {
   "cell_type": "markdown",
   "metadata": {},
   "source": [
    "Try different settings of A."
   ]
  },
  {
   "cell_type": "code",
   "execution_count": null,
   "metadata": {},
   "outputs": [],
   "source": [
    "# spiral in\n",
    "lode_plot([[-1, 1], [-1, 0]])"
   ]
  },
  {
   "cell_type": "code",
   "execution_count": null,
   "metadata": {},
   "outputs": [],
   "source": [
    "# spiral out\n",
    "lode_plot([[1, 1], [-1, 0]])"
   ]
  },
  {
   "cell_type": "code",
   "execution_count": null,
   "metadata": {},
   "outputs": [],
   "source": [
    "# saddle point\n",
    "lode_plot([[-1, 0], [0, 1]], [1,0.0001])"
   ]
  },
  {
   "cell_type": "code",
   "execution_count": null,
   "metadata": {},
   "outputs": [],
   "source": []
  },
  {
   "cell_type": "markdown",
   "metadata": {},
   "source": [
    "## Nonlinear ODEs\n",
    "While the dynamics of a linear ODE can show only convergence, divergence, or neutrally stable oscillations, nonlinear ODEs can show limit-cycle oscillation and chaos."
   ]
  },
  {
   "cell_type": "markdown",
   "metadata": {},
   "source": [
    "### Van der Pol oscillator\n",
    "This is a classic equation describing an oscillator circuit with a vacuume tube:\n",
    "$$ \\frac{d^2y}{dt^2} - \\mu(1-y^2)\\frac{dy}{dt} + y = 0 $$"
   ]
  },
  {
   "cell_type": "code",
   "execution_count": null,
   "metadata": {},
   "outputs": [],
   "source": [
    "def vdp(y, t, mu):\n",
    "    \"\"\"Van der Pol equation\"\"\"\n",
    "    y1, y2 = y\n",
    "    return np.array([y2, mu*(1 - y1**2)*y2 - y1])"
   ]
  },
  {
   "cell_type": "code",
   "execution_count": null,
   "metadata": {},
   "outputs": [],
   "source": [
    "t = np.arange(0, 50, 0.1)\n",
    "y = odeint(vdp, [0.1, 0], t, args=(1,))\n",
    "plt.plot(t, y);"
   ]
  },
  {
   "cell_type": "code",
   "execution_count": null,
   "metadata": {},
   "outputs": [],
   "source": [
    "# phase plot\n",
    "plt.plot(y[:,0], y[:,1]);"
   ]
  },
  {
   "cell_type": "code",
   "execution_count": null,
   "metadata": {},
   "outputs": [],
   "source": [
    "# from outside\n",
    "y = odeint(vdp, [3, 0], t, args=(1,))\n",
    "plt.plot(y[:,0], y[:,1]);"
   ]
  },
  {
   "cell_type": "code",
   "execution_count": null,
   "metadata": {},
   "outputs": [],
   "source": []
  },
  {
   "cell_type": "markdown",
   "metadata": {},
   "source": [
    "### Periodic orbit and Limit cycle\n",
    "If a trajectry comes back to itself $y(t+T) = y(t)$ after some period $T$, it is called a *periodic orbit*.  \n",
    "If trajectories around it converges to a periodic orbit, it is called a *limit cycle*.\n",
    "\n",
    "*Poincaré-Bendixon theorem*: In a continuous 2D dynamical system, if a solution stay within a closed set with no fixed point, it converges to a periodic orbit.  \n",
    "It implies that there is no chaos in a continuous 2D dynamic system."
   ]
  },
  {
   "cell_type": "markdown",
   "metadata": {},
   "source": [
    "### Lorenz attractor\n",
    "Edward Lorenz derived a simplified equation describing the convection of atmosphere and found that it shows non-periodic oscillation.\n",
    "$$ \\frac{dx}{dt} = p(y - x) $$\n",
    "$$ \\frac{dy}{dt} = -xz + rx - y $$\n",
    "$$ \\frac{dz}{dt} = xy - bz $$"
   ]
  },
  {
   "cell_type": "code",
   "execution_count": null,
   "metadata": {},
   "outputs": [],
   "source": [
    "def lorenz(xyz, t, p=10., r=28., b=8./3):\n",
    "    \"\"\"Lorenz equation\"\"\"\n",
    "    x, y, z = xyz\n",
    "    dxdt = p*(y - x)\n",
    "    dydt = -x*z + r*x - y\n",
    "    dzdt = x*y - b*z\n",
    "    return np.array([dxdt, dydt, dzdt])"
   ]
  },
  {
   "cell_type": "code",
   "execution_count": null,
   "metadata": {},
   "outputs": [],
   "source": [
    "y0 = np.array([0.1, 0, 0])\n",
    "t = np.arange(0, 50, 0.01)\n",
    "y = odeint(lorenz, y0, t, args=(10., 30., 8./3))\n",
    "plt.plot(t, y);"
   ]
  },
  {
   "cell_type": "code",
   "execution_count": null,
   "metadata": {},
   "outputs": [],
   "source": [
    "%matplotlib notebook"
   ]
  },
  {
   "cell_type": "code",
   "execution_count": null,
   "metadata": {},
   "outputs": [],
   "source": [
    "# Plot in 3D\n",
    "fig = plt.figure(figsize=(8,8))\n",
    "ax = fig.add_subplot(projection='3d')\n",
    "ax.plot(y[:,0], y[:,1], y[:,2], lw=0.5);"
   ]
  },
  {
   "cell_type": "code",
   "execution_count": null,
   "metadata": {},
   "outputs": [],
   "source": []
  },
  {
   "cell_type": "code",
   "execution_count": null,
   "metadata": {},
   "outputs": [],
   "source": []
  }
 ],
 "metadata": {
  "kernelspec": {
   "display_name": "Python 3 (ipykernel)",
   "language": "python",
   "name": "python3"
  },
  "language_info": {
   "codemirror_mode": {
    "name": "ipython",
    "version": 3
   },
   "file_extension": ".py",
   "mimetype": "text/x-python",
   "name": "python",
   "nbconvert_exporter": "python",
   "pygments_lexer": "ipython3",
   "version": "3.9.16"
  }
 },
 "nbformat": 4,
 "nbformat_minor": 1
}
