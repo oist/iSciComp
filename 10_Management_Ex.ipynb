{
 "cells": [
  {
   "cell_type": "markdown",
   "metadata": {},
   "source": [
    "# 10. Software Management: Exercise\n",
    "\n",
    "Name: "
   ]
  },
  {
   "cell_type": "markdown",
   "metadata": {},
   "source": [
    "## GitHub\n",
    "\n",
    "Let us try collaborative software development by OIST GitHub\n",
    "https://github.com/oist\n",
    "\n",
    "For account setup, see https://groups.oist.jp/it/github-oist\n",
    "\n",
    "* Create your GitHub account if you haven't\n",
    "\n",
    "* Submit the request form: https://oist.service-now.com/sp?id=sc_cat_item&sys_id=2899d8dcdbad2f40d7c7e5951b961985&sysparm_category=332e888edb47df004a187b088c9619be\n",
    "\n",
    "Our course repository is https://github.com/oist/ComputationalMethods2022\n"
   ]
  },
  {
   "cell_type": "markdown",
   "metadata": {},
   "source": [
    "### SSH key\n",
    "For using a private repository, you need to setup a SSH key for secure connection.\n",
    "\n",
    "If you have not set up a SSH key on your computer, make a new one by\n",
    "```\n",
    "mkdir ~/.ssh\n",
    "cd ~/.ssh\n",
    "ssh-keygen -t rsa\n",
    "```\n",
    "You shuld set a passphrase, which you will be asked when using the key.\n",
    "\n",
    "On GitHub, from your account menu on the top right corner, select *Settings* and then *SSH and CPG keys* on the left side bar.\n",
    "\n",
    "Press *New SSH Key*, paste the content of `.ssh/rsa.pub`, and press *Add SSH*.\n",
    "\n",
    "You may also need to press *Configure SSO* to link it with your OIST login.\n",
    "\n",
    "If SSH doesn't work, an alternative way is to use *https* after generating a *personal access token* from *Settings/Developer settings*."
   ]
  },
  {
   "cell_type": "markdown",
   "metadata": {},
   "source": [
    "### Cloning a repository\n",
    "\n",
    "If you just use a copy of a stable software, and not going to contribute your changes, just downloading a zip file is fine.\n",
    "\n",
    "But if you would congribute to joint development, or catch up with updates, `git clone` is the better way."
   ]
  },
  {
   "cell_type": "markdown",
   "metadata": {},
   "source": [
    "### Cloning ComputationalMethods repository\n",
    "\n",
    "To download a copy of the repository, run\n",
    "\n",
    "```git clone git@github.com:oist/ComputationalMethods2022.git```\n",
    "\n",
    "You are asked to input the passphrase you set in creating your SSH Key.\n",
    "\n",
    "This should create a folder `ComputationalMethods2022`."
   ]
  },
  {
   "cell_type": "code",
   "execution_count": null,
   "metadata": {},
   "outputs": [],
   "source": [
    "%pwd"
   ]
  },
  {
   "cell_type": "code",
   "execution_count": null,
   "metadata": {},
   "outputs": [],
   "source": [
    "!git clone git@github.com:oist/ComputationalMethods2022.git"
   ]
  },
  {
   "cell_type": "code",
   "execution_count": null,
   "metadata": {},
   "outputs": [],
   "source": [
    "%ls"
   ]
  },
  {
   "cell_type": "markdown",
   "metadata": {},
   "source": [
    "Move into the folder and test `odesim.py` program."
   ]
  },
  {
   "cell_type": "code",
   "execution_count": null,
   "metadata": {},
   "outputs": [],
   "source": [
    "%cd ComputationalMethods2022"
   ]
  },
  {
   "cell_type": "code",
   "execution_count": null,
   "metadata": {},
   "outputs": [],
   "source": [
    "%ls"
   ]
  },
  {
   "cell_type": "markdown",
   "metadata": {},
   "source": [
    "From the console you can run interactively after reading the module as:\n",
    "\n",
    "`python -i odesim.py`\n",
    "\n",
    "`sim = odesim('first')`\n",
    "\n",
    "`sim.run()`"
   ]
  },
  {
   "cell_type": "code",
   "execution_count": null,
   "metadata": {},
   "outputs": [],
   "source": [
    "from odesim import *"
   ]
  },
  {
   "cell_type": "code",
   "execution_count": null,
   "metadata": {},
   "outputs": [],
   "source": [
    "sim = odesim('first')"
   ]
  },
  {
   "cell_type": "code",
   "execution_count": null,
   "metadata": {},
   "outputs": [],
   "source": [
    "sim.run()"
   ]
  },
  {
   "cell_type": "code",
   "execution_count": null,
   "metadata": {},
   "outputs": [],
   "source": []
  },
  {
   "cell_type": "markdown",
   "metadata": {},
   "source": [
    "### Your branch\n",
    "\n",
    "Now make your own branch, check it out, and add your own ODE module."
   ]
  },
  {
   "cell_type": "code",
   "execution_count": null,
   "metadata": {},
   "outputs": [],
   "source": [
    "!git branch myname\n",
    "!git checkout myname"
   ]
  },
  {
   "cell_type": "markdown",
   "metadata": {},
   "source": [
    "Make a copy of a dynamics file `first.py` or `second.py`, implement your own ODE, and save with a new name, e.g. `vdp.py`.\n",
    "\n",
    "Run odesim and confirm that your ODE runs appropriately.\n",
    "\n",
    "Then you can add and commit your change."
   ]
  },
  {
   "cell_type": "code",
   "execution_count": null,
   "metadata": {},
   "outputs": [],
   "source": [
    "!git status"
   ]
  },
  {
   "cell_type": "code",
   "execution_count": null,
   "metadata": {},
   "outputs": [],
   "source": [
    "!git add vdp.py"
   ]
  },
  {
   "cell_type": "code",
   "execution_count": null,
   "metadata": {},
   "outputs": [],
   "source": [
    "!git commit -m \"adding my model vdp.py\""
   ]
  },
  {
   "cell_type": "code",
   "execution_count": null,
   "metadata": {},
   "outputs": [],
   "source": [
    "!git log --graph --oneline --all"
   ]
  },
  {
   "cell_type": "markdown",
   "metadata": {},
   "source": [
    "Now push your branch to GitHub repository by, e.g.\n",
    "\n",
    "`git push origin myname` "
   ]
  },
  {
   "cell_type": "code",
   "execution_count": null,
   "metadata": {},
   "outputs": [],
   "source": [
    "!git push origin myname"
   ]
  },
  {
   "cell_type": "markdown",
   "metadata": {},
   "source": [
    "Check the status on GitHub:\n",
    "https://github.com/oist/ComputationalMethods2022\n",
    "\n",
    "and make a pull request for the repository administrator to check your updates.\n",
    "\n",
    "The administrator may reply back with a comment for revision or merge your change to the main branch."
   ]
  },
  {
   "cell_type": "code",
   "execution_count": null,
   "metadata": {},
   "outputs": [],
   "source": []
  },
  {
   "cell_type": "markdown",
   "metadata": {},
   "source": [
    "### Pulling updates\n",
    "While you are working on your local code, the codes on the origial repository may be updated. You may also want to check the branches other people have created.\n",
    "\n",
    "You can use `git pull` to reflect the changes in the GitHub to your local repository.\n",
    "\n",
    "You can use `git branch` to see what branches are there and `git checkout` to try with the codes in other branches."
   ]
  },
  {
   "cell_type": "code",
   "execution_count": null,
   "metadata": {},
   "outputs": [],
   "source": [
    "!git pull"
   ]
  },
  {
   "cell_type": "code",
   "execution_count": null,
   "metadata": {},
   "outputs": [],
   "source": [
    "!git branch"
   ]
  },
  {
   "cell_type": "code",
   "execution_count": null,
   "metadata": {},
   "outputs": [],
   "source": []
  },
  {
   "cell_type": "markdown",
   "metadata": {},
   "source": [
    "Optional) In addition to adding a new module, you are welcome to improve the main program `odesim.py` itself. For example,\n",
    "\n",
    "* add other visualization like a phese plot.\n",
    "\n",
    "* fix any bugs or improve error handling.\n",
    "\n",
    "* add documentation.\n",
    "\n",
    "* ..."
   ]
  },
  {
   "cell_type": "code",
   "execution_count": null,
   "metadata": {},
   "outputs": [],
   "source": []
  }
 ],
 "metadata": {
  "kernelspec": {
   "display_name": "Python 3 (ipykernel)",
   "language": "python",
   "name": "python3"
  },
  "language_info": {
   "codemirror_mode": {
    "name": "ipython",
    "version": 3
   },
   "file_extension": ".py",
   "mimetype": "text/x-python",
   "name": "python",
   "nbconvert_exporter": "python",
   "pygments_lexer": "ipython3",
   "version": "3.9.16"
  }
 },
 "nbformat": 4,
 "nbformat_minor": 1
}
