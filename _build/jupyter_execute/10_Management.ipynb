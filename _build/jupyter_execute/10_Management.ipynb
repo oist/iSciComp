{
 "cells": [
  {
   "cell_type": "markdown",
   "metadata": {},
   "source": [
    "# Software Management"
   ]
  },
  {
   "cell_type": "markdown",
   "metadata": {},
   "source": [
    "In addition to writing a program for each computing task, knowldge and skills are needed for designing and managing the entire data analysis or simulation procedure, testing and revising the codes, and sharing the data and tools among collaborators.\n",
    "\n",
    "Unlike commercial software development, research computing often starts from a simple exploratory code created by a single researcher. However, even for a single-person project, it is beneficial to follow the standard practices in software development because.\n",
    "* If your project is successful, it will be succeeded by other members of your lab or the research community world wide.\n",
    "* You, after a few months, do not remember where you put which file, what was this file, or why you wrote this code.\n",
    "\n",
    "#### Reference:\n",
    "* Greg Wilson, et al. (2017). Good enough practices in scientific computing. PLOS Computational Biology, 13(6): e1005510 (https://doi.org/10.1371/journal.pcbi.1005510)"
   ]
  },
  {
   "cell_type": "markdown",
   "metadata": {},
   "source": [
    "## Coding Style\n",
    "\n",
    "In writing programs, keep in mind:\n",
    "* Make them *modular* and aviod duplicate codes.\n",
    "* Give explanation at the beginning of each file/function.\n",
    "* Use file/function/variable names that you can comprehend a year later.\n",
    "* Never write a numeric parameter in an equation; define it as a variable/argument.\n",
    "* Give comments for significant parts/lines of codes.\n",
    "* Turn comment/uncomment into `if-else` for different modes of operation.\n",
    "* Verify your code with a simple input for which the correct output is known.\n",
    "* Prepare documentation even before somebody asks you, as you yourself will need that after a few months."
   ]
  },
  {
   "cell_type": "markdown",
   "metadata": {},
   "source": [
    "In some projects, all you need is to download pre-existing tools and apply them to the data. Even in that case, it is better to record the procedure as a *script* for\n",
    "* avioding/detecting manual errors\n",
    "* reproducibility of the result\n",
    "* re-analysis with new data, tool, or parameters\n",
    "\n",
    "### Scritping\n",
    "On Unix-like systems, the common way is a *shell script*, which is a file containing a series of commands you would type into a terminal.\n",
    "\n",
    "For a more elaborate processing, a Python script is often preferred."
   ]
  },
  {
   "cell_type": "code",
   "execution_count": null,
   "metadata": {},
   "outputs": [],
   "source": []
  },
  {
   "cell_type": "markdown",
   "metadata": {},
   "source": [
    "## Version Control System\n",
    "Software development is repetitions of coding, testing, and improving. A version control system (VCS) allows\n",
    "* parallel development of parts and re-integration\n",
    "* trace back to previous versions when a problem is detected"
   ]
  },
  {
   "cell_type": "markdown",
   "metadata": {},
   "source": [
    "## Git\n",
    "\n",
    "The most popular VCS today is *Git*, created by Linus Torvalds for developing Linux. "
   ]
  },
  {
   "cell_type": "markdown",
   "metadata": {},
   "source": [
    "After creating/editing your files, you *stage* them for management and *commit* for a certain version.\n",
    "\n",
    "![commit](figures/git_commit.png)"
   ]
  },
  {
   "cell_type": "markdown",
   "metadata": {},
   "source": [
    "If `git` has not been installed, follow one of these to install.\n",
    "\n",
    "Mac: \n",
    "* Install [XCode](https://developer.apple.com/jp/xcode/) from the *App Store*\n",
    "* or install *XCode Command Line Tools* by `xcode-select --install`\n",
    "* or install [HomeBrew](https://brew.sh) and run `brew install git`\n",
    "\n",
    "Windows: \n",
    "* Install [Git for Windows](https://gitforwindows.org)\n",
    "\n",
    "Detailed documentations can be found at https://git-scm.com/docs"
   ]
  },
  {
   "cell_type": "code",
   "execution_count": null,
   "metadata": {},
   "outputs": [],
   "source": []
  },
  {
   "cell_type": "markdown",
   "metadata": {},
   "source": [
    "## odesim\n",
    "\n",
    "As an example of version control, let us take a simple ODE simulator, *odesim*"
   ]
  },
  {
   "cell_type": "code",
   "execution_count": 1,
   "metadata": {},
   "outputs": [
    {
     "name": "stdout",
     "output_type": "stream",
     "text": [
      "\u001b[34m__pycache__\u001b[m\u001b[m/ first.py     odesim.py    odesim.py~   second.py\r\n"
     ]
    }
   ],
   "source": [
    "%ls odesim"
   ]
  },
  {
   "cell_type": "code",
   "execution_count": 2,
   "metadata": {},
   "outputs": [
    {
     "name": "stdout",
     "output_type": "stream",
     "text": [
      "/Users/doya/Dropbox (OIST)/Python/iSciComp/odesim\n"
     ]
    }
   ],
   "source": [
    "%cd odesim"
   ]
  },
  {
   "cell_type": "code",
   "execution_count": 3,
   "metadata": {},
   "outputs": [
    {
     "name": "stdout",
     "output_type": "stream",
     "text": [
      "# odesim.py\r\n",
      "# An Ordinary Differential Equation Simulator\r\n",
      "# 2022 by Kenji Doya\r\n",
      "\r\n",
      "import numpy as np\r\n",
      "from scipy.integrate import odeint\r\n",
      "\r\n",
      "import matplotlib.pyplot as plt\r\n",
      "\r\n",
      "import importlib  # import module from string\r\n",
      "\r\n",
      "class odesim():\r\n",
      "    \"\"\"An ODE Simulator\"\"\"\r\n",
      "    time = 0\r\n",
      "    trun = 10\r\n",
      "    dt = 0.1\r\n",
      "    \r\n",
      "    def __init__(self, odename):\r\n",
      "        \"\"\"create a new ODE\"\"\"\r\n",
      "        print('Importing ODE:', odename)\r\n",
      "        self.ode = importlib.import_module( odename)\r\n",
      "        importlib.reload(self.ode) # for updated module\r\n",
      "        self.state = self.ode.initial_state\r\n",
      "        #self.reset()\r\n",
      "        plt.ion()\r\n",
      "\r\n",
      "    def reset(self):\r\n",
      "        \"\"\"reset the state\"\"\"\r\n",
      "        self.time = 0\r\n",
      "        self.state = self.ode.initial_state\r\n",
      "        plt.clf()\r\n",
      "\r\n",
      "    def simulate(self):\r\n",
      "        \"\"\"simulate the ODE\"\"\"\r\n",
      "        # +dt/2 to include time+trun\r\n",
      "        self.t = np.arange(self.time, self.time+self.trun+self.dt/2, self.dt)\r\n",
      "        self.y = odeint(self.ode.dynamics, self.state, self.t, args=(self.ode.parameters,))\r\n",
      "        # update the time and state\r\n",
      "        self.time = self.t[-1]\r\n",
      "        self.state = self.y[-1,:]\r\n",
      "        print(\"t=\", self.time, \"; state=\", self.state)\r\n",
      "        \r\n",
      "    def plot(self):\r\n",
      "        \"\"\"plot in time\"\"\"\r\n",
      "        plt.plot(self.t, self.y)\r\n",
      "        plt.xlabel('t'); plt.ylabel('y')\r\n",
      "\r\n",
      "    def run(self):\r\n",
      "        \"\"\"simulate the ODE\"\"\"\r\n",
      "        self.simulate()\r\n",
      "        self.plot()\r\n"
     ]
    }
   ],
   "source": [
    "%cat odesim.py"
   ]
  },
  {
   "cell_type": "markdown",
   "metadata": {},
   "source": [
    "Here is its example usage"
   ]
  },
  {
   "cell_type": "code",
   "execution_count": 4,
   "metadata": {},
   "outputs": [],
   "source": [
    "import numpy as np\n",
    "import matplotlib.pyplot as plt\n",
    "%matplotlib inline"
   ]
  },
  {
   "cell_type": "code",
   "execution_count": 5,
   "metadata": {},
   "outputs": [],
   "source": [
    "import odesim\n",
    "import importlib\n",
    "#importlib.reload(odesim)  # when odesim.py is updated"
   ]
  },
  {
   "cell_type": "code",
   "execution_count": 6,
   "metadata": {},
   "outputs": [
    {
     "name": "stdout",
     "output_type": "stream",
     "text": [
      "Importing ODE: first\n"
     ]
    }
   ],
   "source": [
    "sim = odesim.odesim('first')"
   ]
  },
  {
   "cell_type": "code",
   "execution_count": 7,
   "metadata": {},
   "outputs": [
    {
     "name": "stdout",
     "output_type": "stream",
     "text": [
      "t= 10.0 ; state= [-0.36787947]\n"
     ]
    },
    {
     "data": {
      "image/png": "[encoded data removed]",
      "text/plain": [
       "<Figure size 640x480 with 1 Axes>"
      ]
     },
     "metadata": {
      "filenames": {
       "image/png": "/Users/doya/Dropbox (OIST)/Python/iSciComp/_build/jupyter_execute/10_Management_18_1.png"
      }
     },
     "output_type": "display_data"
    }
   ],
   "source": [
    "sim.run()"
   ]
  },
  {
   "cell_type": "code",
   "execution_count": 8,
   "metadata": {},
   "outputs": [
    {
     "name": "stdout",
     "output_type": "stream",
     "text": [
      "Importing ODE: second\n"
     ]
    }
   ],
   "source": [
    "sim2 = odesim.odesim('second')"
   ]
  },
  {
   "cell_type": "code",
   "execution_count": 9,
   "metadata": {},
   "outputs": [
    {
     "name": "stdout",
     "output_type": "stream",
     "text": [
      "t= 10.0 ; state= [ 0.52920895 -0.32397961]\n"
     ]
    },
    {
     "data": {
      "image/png": "[encoded data removed]",
      "text/plain": [
       "<Figure size 640x480 with 1 Axes>"
      ]
     },
     "metadata": {
      "filenames": {
       "image/png": "/Users/doya/Dropbox (OIST)/Python/iSciComp/_build/jupyter_execute/10_Management_20_1.png"
      }
     },
     "output_type": "display_data"
    }
   ],
   "source": [
    "sim2.run()"
   ]
  },
  {
   "cell_type": "code",
   "execution_count": null,
   "metadata": {},
   "outputs": [],
   "source": []
  },
  {
   "cell_type": "markdown",
   "metadata": {},
   "source": [
    "### Starting a repository\n",
    "\n",
    "Let us go to your working folder and start a new repository by `git init`"
   ]
  },
  {
   "cell_type": "code",
   "execution_count": 10,
   "metadata": {},
   "outputs": [
    {
     "data": {
      "text/plain": [
       "'/Users/doya/Dropbox (OIST)/Python/iSciComp/odesim'"
      ]
     },
     "execution_count": 10,
     "metadata": {},
     "output_type": "execute_result"
    }
   ],
   "source": [
    "%pwd"
   ]
  },
  {
   "cell_type": "code",
   "execution_count": 11,
   "metadata": {},
   "outputs": [
    {
     "name": "stdout",
     "output_type": "stream",
     "text": [
      "Reinitialized existing Git repository in /Users/doya/Dropbox (OIST)/Python/iSciComp/odesim/.git/\r\n"
     ]
    }
   ],
   "source": [
    "!git init"
   ]
  },
  {
   "cell_type": "markdown",
   "metadata": {},
   "source": [
    "This creates an invisible folder `.git` for book keeping."
   ]
  },
  {
   "cell_type": "code",
   "execution_count": 12,
   "metadata": {},
   "outputs": [
    {
     "name": "stdout",
     "output_type": "stream",
     "text": [
      "\u001b[34m.\u001b[m\u001b[m/           \u001b[34m.git\u001b[m\u001b[m/        \u001b[34m__pycache__\u001b[m\u001b[m/ odesim.py    second.py\r\n",
      "\u001b[34m..\u001b[m\u001b[m/          .gitignore   first.py     odesim.py~\r\n"
     ]
    }
   ],
   "source": [
    "%ls -a"
   ]
  },
  {
   "cell_type": "code",
   "execution_count": 13,
   "metadata": {},
   "outputs": [
    {
     "name": "stdout",
     "output_type": "stream",
     "text": [
      "COMMIT_EDITMSG  config          index           \u001b[34mobjects\u001b[m\u001b[m/\r\n",
      "HEAD            description     \u001b[34minfo\u001b[m\u001b[m/           \u001b[34mrefs\u001b[m\u001b[m/\r\n",
      "ORIG_HEAD       \u001b[34mhooks\u001b[m\u001b[m/          \u001b[34mlogs\u001b[m\u001b[m/\r\n"
     ]
    }
   ],
   "source": [
    "# The contents of .git folder\n",
    "%ls .git"
   ]
  },
  {
   "cell_type": "markdown",
   "metadata": {},
   "source": [
    "You can check the status by `git status`"
   ]
  },
  {
   "cell_type": "code",
   "execution_count": 14,
   "metadata": {},
   "outputs": [
    {
     "name": "stdout",
     "output_type": "stream",
     "text": [
      "On branch main\r\n",
      "Changes not staged for commit:\r\n",
      "  (use \"git add <file>...\" to update what will be committed)\r\n",
      "  (use \"git restore <file>...\" to discard changes in working directory)\r\n",
      "\t\u001b[31mmodified:   odesim.py\u001b[m\r\n",
      "\r\n",
      "no changes added to commit (use \"git add\" and/or \"git commit -a\")\r\n"
     ]
    }
   ],
   "source": [
    "!git status"
   ]
  },
  {
   "cell_type": "markdown",
   "metadata": {},
   "source": [
    "### Staging and Commiting files\n",
    "\n",
    "Use `git add` to add files for tracking.\n",
    "\n",
    "And then `git commit` to save a version.\n",
    "\n",
    "![commit](figures/git_commit.png)"
   ]
  },
  {
   "cell_type": "code",
   "execution_count": 15,
   "metadata": {},
   "outputs": [
    {
     "name": "stdout",
     "output_type": "stream",
     "text": [
      "On branch main\r\n",
      "Changes to be committed:\r\n",
      "  (use \"git restore --staged <file>...\" to unstage)\r\n",
      "\t\u001b[32mmodified:   odesim.py\u001b[m\r\n",
      "\r\n"
     ]
    }
   ],
   "source": [
    "!git add *.py\n",
    "!git status"
   ]
  },
  {
   "cell_type": "markdown",
   "metadata": {},
   "source": [
    "Register the current version by `git commit` with a message by `-m`."
   ]
  },
  {
   "cell_type": "code",
   "execution_count": 16,
   "metadata": {},
   "outputs": [
    {
     "name": "stdout",
     "output_type": "stream",
     "text": [
      "[main a121e1f] first version\r\n",
      " 1 file changed, 7 insertions(+), 5 deletions(-)\r\n"
     ]
    },
    {
     "name": "stdout",
     "output_type": "stream",
     "text": [
      "On branch main\r\n",
      "nothing to commit, working tree clean\r\n"
     ]
    }
   ],
   "source": [
    "!git commit -m \"first version\"\n",
    "!git status"
   ]
  },
  {
   "cell_type": "markdown",
   "metadata": {},
   "source": [
    "You can list files that need not to be tracked in `.gitigonore` file"
   ]
  },
  {
   "cell_type": "code",
   "execution_count": 17,
   "metadata": {},
   "outputs": [
    {
     "name": "stdout",
     "output_type": "stream",
     "text": [
      ".*\r\n",
      "__*\r\n",
      "*~\r\n",
      "\r\n"
     ]
    },
    {
     "name": "stdout",
     "output_type": "stream",
     "text": [
      "On branch main\r\n",
      "nothing to commit, working tree clean\r\n"
     ]
    }
   ],
   "source": [
    "!echo '.*\\n__*\\n*~\\n' > .gitignore\n",
    "!cat .gitignore\n",
    "!git status"
   ]
  },
  {
   "cell_type": "code",
   "execution_count": null,
   "metadata": {},
   "outputs": [],
   "source": []
  },
  {
   "cell_type": "markdown",
   "metadata": {},
   "source": [
    "### Registering changes\n",
    "After editing a file, you can register a new version by `git commit`.\n",
    "\n",
    "Try changing a parameter or initial state, e.g., in `dynamics/first.py`"
   ]
  },
  {
   "cell_type": "code",
   "execution_count": 18,
   "metadata": {},
   "outputs": [
    {
     "name": "stdout",
     "output_type": "stream",
     "text": [
      "On branch main\r\n",
      "nothing to commit, working tree clean\r\n"
     ]
    }
   ],
   "source": [
    "!git status"
   ]
  },
  {
   "cell_type": "markdown",
   "metadata": {},
   "source": [
    "Use `git add` to stage updated files."
   ]
  },
  {
   "cell_type": "code",
   "execution_count": 19,
   "metadata": {},
   "outputs": [
    {
     "name": "stdout",
     "output_type": "stream",
     "text": [
      "On branch main\r\n",
      "nothing to commit, working tree clean\r\n"
     ]
    }
   ],
   "source": [
    "!git add first.py\n",
    "!git status"
   ]
  },
  {
   "cell_type": "markdown",
   "metadata": {},
   "source": [
    "And the `git commit` the changes"
   ]
  },
  {
   "cell_type": "code",
   "execution_count": 20,
   "metadata": {},
   "outputs": [
    {
     "name": "stdout",
     "output_type": "stream",
     "text": [
      "On branch main\r\n",
      "nothing to commit, working tree clean\r\n"
     ]
    },
    {
     "name": "stdout",
     "output_type": "stream",
     "text": [
      "On branch main\r\n",
      "nothing to commit, working tree clean\r\n"
     ]
    }
   ],
   "source": [
    "!git commit first.py -m \"first.py updated\"\n",
    "!git status"
   ]
  },
  {
   "cell_type": "markdown",
   "metadata": {},
   "source": [
    "You can see what was changed by `git show`."
   ]
  },
  {
   "cell_type": "code",
   "execution_count": 21,
   "metadata": {},
   "outputs": [
    {
     "name": "stdout",
     "output_type": "stream",
     "text": [
      "\u001b[33mcommit a121e1fa5fe692dec10c125390d633b23d42a6d9\u001b[m\u001b[33m (\u001b[m\u001b[1;36mHEAD -> \u001b[m\u001b[1;32mmain\u001b[m\u001b[33m)\u001b[m\r\n",
      "Author: Kenji Doya <doya@oist.jp>\r\n",
      "Date:   Wed Aug 16 22:36:50 2023 +0200\r\n",
      "\r\n",
      "    first version\r\n",
      "\r\n",
      "\u001b[1mdiff --git a/odesim.py b/odesim.py\u001b[m\r\n",
      "\u001b[1mindex 02e7d0e..4d5391b 100644\u001b[m\r\n",
      "\u001b[1m--- a/odesim.py\u001b[m\r\n",
      "\u001b[1m+++ b/odesim.py\u001b[m\r\n",
      "\u001b[36m@@ -20,13 +20,16 @@\u001b[m \u001b[mclass odesim():\u001b[m\r\n",
      "         print('Importing ODE:', odename)\u001b[m\r\n",
      "         self.ode = importlib.import_module( odename)\u001b[m\r\n",
      "         importlib.reload(self.ode) # for updated module\u001b[m\r\n",
      "\u001b[31m-        self.reset()\u001b[m\r\n",
      "\u001b[31m-        \u001b[m\r\n",
      "\u001b[32m+\u001b[m\u001b[32m        self.state = self.ode.initial_state\u001b[m\r\n",
      "\u001b[32m+\u001b[m\u001b[32m        #self.reset()\u001b[m\r\n",
      "\u001b[32m+\u001b[m\u001b[32m        plt.ion()\u001b[m\r\n",
      "\u001b[32m+\u001b[m\r\n",
      "     def reset(self):\u001b[m\r\n",
      "         \"\"\"reset the state\"\"\"\u001b[m\r\n",
      "         self.time = 0\u001b[m\r\n",
      "\u001b[31m-        self.state = self.ode.initial_state        \u001b[m\r\n",
      "\u001b[31m-    \u001b[m\r\n",
      "\u001b[32m+\u001b[m\u001b[32m        self.state = self.ode.initial_state\u001b[m\r\n",
      "\u001b[32m+\u001b[m\u001b[32m        plt.clf()\u001b[m\r\n",
      "\u001b[32m+\u001b[m\r\n",
      "     def simulate(self):\u001b[m\r\n",
      "         \"\"\"simulate the ODE\"\"\"\u001b[m\r\n",
      "         # +dt/2 to include time+trun\u001b[m\r\n",
      "\u001b[36m@@ -41,7 +44,6 @@\u001b[m \u001b[mclass odesim():\u001b[m\r\n",
      "         \"\"\"plot in time\"\"\"\u001b[m\r\n",
      "         plt.plot(self.t, self.y)\u001b[m\r\n",
      "         plt.xlabel('t'); plt.ylabel('y')\u001b[m\r\n",
      "\u001b[31m-        plt.show()\u001b[m\r\n",
      " \u001b[m\r\n",
      "     def run(self):\u001b[m\r\n",
      "         \"\"\"simulate the ODE\"\"\"\u001b[m\r\n"
     ]
    }
   ],
   "source": [
    "!git show"
   ]
  },
  {
   "cell_type": "markdown",
   "metadata": {},
   "source": [
    "You can check the revision history by `git log`"
   ]
  },
  {
   "cell_type": "code",
   "execution_count": 22,
   "metadata": {},
   "outputs": [
    {
     "name": "stdout",
     "output_type": "stream",
     "text": [
      "\u001b[33mcommit a121e1fa5fe692dec10c125390d633b23d42a6d9\u001b[m\u001b[33m (\u001b[m\u001b[1;36mHEAD -> \u001b[m\u001b[1;32mmain\u001b[m\u001b[33m)\u001b[m\r\n",
      "Author: Kenji Doya <doya@oist.jp>\r\n",
      "Date:   Wed Aug 16 22:36:50 2023 +0200\r\n",
      "\r\n",
      "    first version\r\n",
      "\r\n",
      "\u001b[33mcommit 9b97d69bb5a0872bf342a2cba9e53a6ec6c5f590\u001b[m\u001b[33m (\u001b[m\u001b[1;32mmyBranch\u001b[m\u001b[33m)\u001b[m\r\n",
      "Author: Kenji Doya <doya@oist.jp>\r\n",
      "Date:   Tue Dec 6 12:24:44 2022 +0900\r\n",
      "\r\n",
      "    second.py updated\r\n",
      "\r\n",
      "\u001b[33mcommit 8b01220bd8dfe78f71297e62e962758e4977caa4\u001b[m\r\n",
      "Author: Kenji Doya <doya@oist.jp>\r\n",
      "Date:   Tue Dec 6 12:24:17 2022 +0900\r\n",
      "\r\n",
      "    first.py updated\r\n",
      "\r\n",
      "\u001b[33mcommit 9a1b45a6daceb403255b30febd3b0dc8fb3f58ee\u001b[m\r\n",
      "Author: Kenji Doya <doya@oist.jp>\r\n",
      "Date:   Tue Dec 6 12:22:25 2022 +0900\r\n",
      "\r\n",
      "    first version\r\n"
     ]
    }
   ],
   "source": [
    "!git log"
   ]
  },
  {
   "cell_type": "code",
   "execution_count": null,
   "metadata": {},
   "outputs": [],
   "source": []
  },
  {
   "cell_type": "markdown",
   "metadata": {},
   "source": [
    "### Branch\n",
    "\n",
    "You can create a new *branch* and *checkout* a particular branch."
   ]
  },
  {
   "cell_type": "code",
   "execution_count": 23,
   "metadata": {},
   "outputs": [
    {
     "name": "stdout",
     "output_type": "stream",
     "text": [
      "fatal: a branch named 'myBranch' already exists\r\n"
     ]
    },
    {
     "name": "stdout",
     "output_type": "stream",
     "text": [
      "Switched to branch 'myBranch'\r\n"
     ]
    }
   ],
   "source": [
    "!git branch myBranch\n",
    "!git checkout myBranch"
   ]
  },
  {
   "cell_type": "markdown",
   "metadata": {},
   "source": [
    "Make a change, e.g., editing `second.py`.\n",
    "\n",
    "And then `git add` and `git commit`."
   ]
  },
  {
   "cell_type": "code",
   "execution_count": 24,
   "metadata": {},
   "outputs": [
    {
     "name": "stdout",
     "output_type": "stream",
     "text": [
      "On branch myBranch\r\n",
      "nothing to commit, working tree clean\r\n"
     ]
    },
    {
     "name": "stdout",
     "output_type": "stream",
     "text": [
      "On branch myBranch\r\n",
      "nothing to commit, working tree clean\r\n"
     ]
    }
   ],
   "source": [
    "!git add second.py\n",
    "!git commit -m \"second.py updated\"\n",
    "!git status"
   ]
  },
  {
   "cell_type": "code",
   "execution_count": 25,
   "metadata": {},
   "outputs": [
    {
     "name": "stdout",
     "output_type": "stream",
     "text": [
      "\u001b[33mcommit 9b97d69bb5a0872bf342a2cba9e53a6ec6c5f590\u001b[m\u001b[33m (\u001b[m\u001b[1;36mHEAD -> \u001b[m\u001b[1;32mmyBranch\u001b[m\u001b[33m)\u001b[m\r\n",
      "Author: Kenji Doya <doya@oist.jp>\r\n",
      "Date:   Tue Dec 6 12:24:44 2022 +0900\r\n",
      "\r\n",
      "    second.py updated\r\n",
      "\r\n",
      "\u001b[1mdiff --git a/second.py b/second.py\u001b[m\r\n",
      "\u001b[1mindex 785645a..2c8638b 100644\u001b[m\r\n",
      "\u001b[1m--- a/second.py\u001b[m\r\n",
      "\u001b[1m+++ b/second.py\u001b[m\r\n",
      "\u001b[36m@@ -15,4 +15,4 @@\u001b[m \u001b[mdef dynamics(y, t, a):\u001b[m\r\n",
      " parameters = [-0.1, -1, 0]\u001b[m\r\n",
      " \u001b[m\r\n",
      " # Default initial state\u001b[m\r\n",
      "\u001b[31m-initial_state = [1, 0]\u001b[m\r\n",
      "\u001b[32m+\u001b[m\u001b[32minitial_state = [-1, 0]\u001b[m\r\n"
     ]
    }
   ],
   "source": [
    "!git show"
   ]
  },
  {
   "cell_type": "code",
   "execution_count": 26,
   "metadata": {},
   "outputs": [
    {
     "name": "stdout",
     "output_type": "stream",
     "text": [
      "* \u001b[33mcommit a121e1fa5fe692dec10c125390d633b23d42a6d9\u001b[m\u001b[33m (\u001b[m\u001b[1;32mmain\u001b[m\u001b[33m)\u001b[m\r\n",
      "\u001b[31m|\u001b[m Author: Kenji Doya <doya@oist.jp>\r\n",
      "\u001b[31m|\u001b[m Date:   Wed Aug 16 22:36:50 2023 +0200\r\n",
      "\u001b[31m|\u001b[m \r\n",
      "\u001b[31m|\u001b[m     first version\r\n",
      "\u001b[31m|\u001b[m \r\n",
      "* \u001b[33mcommit 9b97d69bb5a0872bf342a2cba9e53a6ec6c5f590\u001b[m\u001b[33m (\u001b[m\u001b[1;36mHEAD -> \u001b[m\u001b[1;32mmyBranch\u001b[m\u001b[33m)\u001b[m\r\n",
      "\u001b[31m|\u001b[m Author: Kenji Doya <doya@oist.jp>\r\n",
      "\u001b[31m|\u001b[m Date:   Tue Dec 6 12:24:44 2022 +0900\r\n",
      "\u001b[31m|\u001b[m \r\n",
      "\u001b[31m|\u001b[m     second.py updated\r\n",
      "\u001b[31m|\u001b[m \r\n",
      "* \u001b[33mcommit 8b01220bd8dfe78f71297e62e962758e4977caa4\u001b[m\r\n",
      "\u001b[31m|\u001b[m Author: Kenji Doya <doya@oist.jp>\r\n",
      "\u001b[31m|\u001b[m Date:   Tue Dec 6 12:24:17 2022 +0900\r\n",
      "\u001b[31m|\u001b[m \r\n",
      "\u001b[31m|\u001b[m     first.py updated\r\n",
      "\u001b[31m|\u001b[m \r\n",
      "* \u001b[33mcommit 9a1b45a6daceb403255b30febd3b0dc8fb3f58ee\u001b[m\r\n",
      "  Author: Kenji Doya <doya@oist.jp>\r\n",
      "  Date:   Tue Dec 6 12:22:25 2022 +0900\r\n",
      "  \r\n",
      "      first version\r\n"
     ]
    }
   ],
   "source": [
    "!git log --all --graph"
   ]
  },
  {
   "cell_type": "markdown",
   "metadata": {},
   "source": [
    "You can go back to a previous branch by *checkout*."
   ]
  },
  {
   "cell_type": "code",
   "execution_count": 27,
   "metadata": {},
   "outputs": [
    {
     "name": "stdout",
     "output_type": "stream",
     "text": [
      "Switched to branch 'main'\r\n"
     ]
    },
    {
     "name": "stdout",
     "output_type": "stream",
     "text": [
      "* \u001b[33mcommit a121e1fa5fe692dec10c125390d633b23d42a6d9\u001b[m\u001b[33m (\u001b[m\u001b[1;36mHEAD -> \u001b[m\u001b[1;32mmain\u001b[m\u001b[33m)\u001b[m\r\n",
      "\u001b[31m|\u001b[m Author: Kenji Doya <doya@oist.jp>\r\n",
      "\u001b[31m|\u001b[m Date:   Wed Aug 16 22:36:50 2023 +0200\r\n",
      "\u001b[31m|\u001b[m \r\n",
      "\u001b[31m|\u001b[m     first version\r\n",
      "\u001b[31m|\u001b[m \r\n",
      "* \u001b[33mcommit 9b97d69bb5a0872bf342a2cba9e53a6ec6c5f590\u001b[m\u001b[33m (\u001b[m\u001b[1;32mmyBranch\u001b[m\u001b[33m)\u001b[m\r\n",
      "\u001b[31m|\u001b[m Author: Kenji Doya <doya@oist.jp>\r\n",
      "\u001b[31m|\u001b[m Date:   Tue Dec 6 12:24:44 2022 +0900\r\n",
      "\u001b[31m|\u001b[m \r\n",
      "\u001b[31m|\u001b[m     second.py updated\r\n",
      "\u001b[31m|\u001b[m \r\n",
      "* \u001b[33mcommit 8b01220bd8dfe78f71297e62e962758e4977caa4\u001b[m\r\n",
      "\u001b[31m|\u001b[m Author: Kenji Doya <doya@oist.jp>\r\n",
      "\u001b[31m|\u001b[m Date:   Tue Dec 6 12:24:17 2022 +0900\r\n",
      "\u001b[31m|\u001b[m \r\n",
      "\u001b[31m|\u001b[m     first.py updated\r\n",
      "\u001b[31m|\u001b[m \r\n",
      "* \u001b[33mcommit 9a1b45a6daceb403255b30febd3b0dc8fb3f58ee\u001b[m\r\n",
      "  Author: Kenji Doya <doya@oist.jp>\r\n",
      "  Date:   Tue Dec 6 12:22:25 2022 +0900\r\n",
      "  \r\n",
      "      first version\r\n"
     ]
    }
   ],
   "source": [
    "!git checkout main\n",
    "!git log --all --graph"
   ]
  },
  {
   "cell_type": "code",
   "execution_count": 28,
   "metadata": {},
   "outputs": [
    {
     "name": "stdout",
     "output_type": "stream",
     "text": [
      "* \u001b[32mmain\u001b[m\r\n",
      "  myBranch\u001b[m\r\n"
     ]
    }
   ],
   "source": [
    "!git branch"
   ]
  },
  {
   "cell_type": "markdown",
   "metadata": {},
   "source": [
    "You can merge another branche to the current branch by `git merge`"
   ]
  },
  {
   "cell_type": "code",
   "execution_count": 29,
   "metadata": {},
   "outputs": [
    {
     "name": "stdout",
     "output_type": "stream",
     "text": [
      "Already up to date.\r\n"
     ]
    },
    {
     "name": "stdout",
     "output_type": "stream",
     "text": [
      "* \u001b[33mcommit a121e1fa5fe692dec10c125390d633b23d42a6d9\u001b[m\u001b[33m (\u001b[m\u001b[1;36mHEAD -> \u001b[m\u001b[1;32mmain\u001b[m\u001b[33m)\u001b[m\r\n",
      "\u001b[31m|\u001b[m Author: Kenji Doya <doya@oist.jp>\r\n",
      "\u001b[31m|\u001b[m Date:   Wed Aug 16 22:36:50 2023 +0200\r\n",
      "\u001b[31m|\u001b[m \r\n",
      "\u001b[31m|\u001b[m     first version\r\n",
      "\u001b[31m|\u001b[m \r\n",
      "* \u001b[33mcommit 9b97d69bb5a0872bf342a2cba9e53a6ec6c5f590\u001b[m\u001b[33m (\u001b[m\u001b[1;32mmyBranch\u001b[m\u001b[33m)\u001b[m\r\n",
      "\u001b[31m|\u001b[m Author: Kenji Doya <doya@oist.jp>\r\n",
      "\u001b[31m|\u001b[m Date:   Tue Dec 6 12:24:44 2022 +0900\r\n",
      "\u001b[31m|\u001b[m \r\n",
      "\u001b[31m|\u001b[m     second.py updated\r\n",
      "\u001b[31m|\u001b[m \r\n",
      "* \u001b[33mcommit 8b01220bd8dfe78f71297e62e962758e4977caa4\u001b[m\r\n",
      "\u001b[31m|\u001b[m Author: Kenji Doya <doya@oist.jp>\r\n",
      "\u001b[31m|\u001b[m Date:   Tue Dec 6 12:24:17 2022 +0900\r\n",
      "\u001b[31m|\u001b[m \r\n",
      "\u001b[31m|\u001b[m     first.py updated\r\n",
      "\u001b[31m|\u001b[m \r\n",
      "* \u001b[33mcommit 9a1b45a6daceb403255b30febd3b0dc8fb3f58ee\u001b[m\r\n",
      "  Author: Kenji Doya <doya@oist.jp>\r\n",
      "  Date:   Tue Dec 6 12:22:25 2022 +0900\r\n",
      "  \r\n",
      "      first version\r\n"
     ]
    }
   ],
   "source": [
    "!git merge myBranch\n",
    "!git log --all --graph"
   ]
  },
  {
   "cell_type": "code",
   "execution_count": null,
   "metadata": {},
   "outputs": [],
   "source": []
  },
  {
   "cell_type": "markdown",
   "metadata": {},
   "source": [
    "## GitHub\n",
    "\n",
    "*GitHub* is currently the most popular cloud service for sharing software. It is free for open software. \n",
    "\n",
    "This is a good platform for sharing programs, or in some cases text data and manuscripts, among collaborators. It is also helpful for a single-person project, for succession by a future member of your lab, for open access after publication, or for yourself after some time.\n",
    "\n",
    "These are typical steps in contributing to a project in GitHub.\n",
    "* Join as a member of a repository.\n",
    "* Copy the existing files and see how they work.\n",
    "* Make a new *branch* and add or modify the codes.\n",
    "* After tesing locally, *commit* the new version.\n",
    "* Open a *pull request* for other members to test your revision.\n",
    "* Your pull request is merged into the *master* branch.\n",
    "\n",
    "![from Hello World](https://docs.github.com/assets/cb-23923/images/help/repository/branching.png)\n",
    "\n",
    "See \"Hello World\" in GitHub Guide for details (https://guides.github.com)."
   ]
  },
  {
   "cell_type": "markdown",
   "metadata": {},
   "source": [
    "### Cloning a repository\n",
    "\n",
    "If you just use a copy of a stable software, and not going to contribute your changes, just downloading a zip file is fine.\n",
    "\n",
    "But if you would congribute to joint development, or catch up with updates, `git clone` is the better way."
   ]
  },
  {
   "cell_type": "markdown",
   "metadata": {},
   "source": [
    "### Cloning ComputationalMethods repository\n",
    "\n",
    "To download a copy of the repository, run\n",
    "\n",
    "```git clone git@github.com:oist/ComputationalMethods2022.git```\n",
    "\n",
    "You are asked to input the passphrase you set in creating your SSH Key.\n",
    "\n",
    "This should create a folder `ComputationalMethods2022`."
   ]
  },
  {
   "cell_type": "code",
   "execution_count": 30,
   "metadata": {},
   "outputs": [
    {
     "data": {
      "text/plain": [
       "'/Users/doya/Dropbox (OIST)/Python/iSciComp/odesim'"
      ]
     },
     "execution_count": 30,
     "metadata": {},
     "output_type": "execute_result"
    }
   ],
   "source": [
    "%pwd"
   ]
  },
  {
   "cell_type": "code",
   "execution_count": 31,
   "metadata": {},
   "outputs": [
    {
     "name": "stdout",
     "output_type": "stream",
     "text": [
      "Cloning into 'ComputationalMethods2022'...\r\n"
     ]
    },
    {
     "name": "stdout",
     "output_type": "stream",
     "text": [
      "\r",
      "Enter passphrase for key '/Users/doya/.ssh/id_ed25519': "
     ]
    },
    {
     "name": "stdout",
     "output_type": "stream",
     "text": [
      "\r\n"
     ]
    }
   ],
   "source": [
    "!git clone git@github.com:oist/ComputationalMethods2022.git"
   ]
  },
  {
   "cell_type": "code",
   "execution_count": null,
   "metadata": {},
   "outputs": [],
   "source": [
    "%ls"
   ]
  },
  {
   "cell_type": "markdown",
   "metadata": {},
   "source": [
    "Move into the folder and test `odesim.py` program."
   ]
  },
  {
   "cell_type": "code",
   "execution_count": null,
   "metadata": {},
   "outputs": [],
   "source": [
    "%cd ComputationalMethods2022"
   ]
  },
  {
   "cell_type": "code",
   "execution_count": null,
   "metadata": {},
   "outputs": [],
   "source": [
    "%ls"
   ]
  },
  {
   "cell_type": "markdown",
   "metadata": {},
   "source": [
    "From the console you can run interactively after reading the module as:\n",
    "\n",
    "`python -i odesim.py`\n",
    "\n",
    "`sim = odesim('first')`\n",
    "\n",
    "`sim.run()`"
   ]
  },
  {
   "cell_type": "code",
   "execution_count": null,
   "metadata": {},
   "outputs": [],
   "source": [
    "from odesim import *"
   ]
  },
  {
   "cell_type": "code",
   "execution_count": null,
   "metadata": {},
   "outputs": [],
   "source": [
    "sim = odesim('first')"
   ]
  },
  {
   "cell_type": "code",
   "execution_count": null,
   "metadata": {},
   "outputs": [],
   "source": [
    "sim.run()"
   ]
  },
  {
   "cell_type": "code",
   "execution_count": null,
   "metadata": {},
   "outputs": [],
   "source": []
  },
  {
   "cell_type": "markdown",
   "metadata": {},
   "source": [
    "### Your branch\n",
    "\n",
    "Now make your own branch, check it out, and add your own ODE module."
   ]
  },
  {
   "cell_type": "code",
   "execution_count": null,
   "metadata": {},
   "outputs": [],
   "source": [
    "!git branch myname\n",
    "!git checkout myname"
   ]
  },
  {
   "cell_type": "markdown",
   "metadata": {},
   "source": [
    "Make a copy of a dynamics file `first.py` or `second.py`, implement your own ODE, and save with a new name, e.g. `vdp.py`.\n",
    "\n",
    "Run odesim and confirm that your ODE runs appropriately.\n",
    "\n",
    "Then you can add and commit your change."
   ]
  },
  {
   "cell_type": "code",
   "execution_count": null,
   "metadata": {},
   "outputs": [],
   "source": [
    "!git status"
   ]
  },
  {
   "cell_type": "code",
   "execution_count": null,
   "metadata": {},
   "outputs": [],
   "source": [
    "!git add vdp.py"
   ]
  },
  {
   "cell_type": "code",
   "execution_count": null,
   "metadata": {},
   "outputs": [],
   "source": [
    "!git commit -m \"adding my model vdp.py\""
   ]
  },
  {
   "cell_type": "code",
   "execution_count": null,
   "metadata": {},
   "outputs": [],
   "source": [
    "!git log --graph --oneline --all"
   ]
  },
  {
   "cell_type": "markdown",
   "metadata": {},
   "source": [
    "Now push your branch to GitHub repository by, e.g.\n",
    "\n",
    "`git push origin myname` "
   ]
  },
  {
   "cell_type": "code",
   "execution_count": null,
   "metadata": {},
   "outputs": [],
   "source": [
    "!git push origin myname"
   ]
  },
  {
   "cell_type": "markdown",
   "metadata": {},
   "source": [
    "Check the status on GitHub:\n",
    "https://github.com/oist/ComputationalMethods2022\n",
    "\n",
    "and make a pull request for the repository administrator to check your updates.\n",
    "\n",
    "The administrator may reply back with a comment for revision or merge your change to the main branch."
   ]
  },
  {
   "cell_type": "code",
   "execution_count": null,
   "metadata": {},
   "outputs": [],
   "source": []
  },
  {
   "cell_type": "markdown",
   "metadata": {},
   "source": [
    "### Pulling updates\n",
    "While you are working on your local code, the codes on the origial repository may be updated. You may also want to check the branches other people have created.\n",
    "\n",
    "You can use `git pull` to reflect the changes in the GitHub to your local repository.\n",
    "\n",
    "You can use `git branch` to see what branches are there and `git checkout` to try with the codes in other branches."
   ]
  },
  {
   "cell_type": "code",
   "execution_count": null,
   "metadata": {},
   "outputs": [],
   "source": [
    "!git pull"
   ]
  },
  {
   "cell_type": "code",
   "execution_count": null,
   "metadata": {},
   "outputs": [],
   "source": [
    "!git branch"
   ]
  },
  {
   "cell_type": "code",
   "execution_count": null,
   "metadata": {},
   "outputs": [],
   "source": []
  },
  {
   "cell_type": "markdown",
   "metadata": {},
   "source": [
    "Optional) In addition to adding a new module, you are welcome to improve the main program `odesim.py` itself. For example,\n",
    "\n",
    "* add other visualization like a phese plot.\n",
    "\n",
    "* fix any bugs or improve error handling.\n",
    "\n",
    "* add documentation.\n",
    "\n",
    "* ..."
   ]
  },
  {
   "cell_type": "code",
   "execution_count": null,
   "metadata": {},
   "outputs": [],
   "source": []
  },
  {
   "cell_type": "code",
   "execution_count": null,
   "metadata": {},
   "outputs": [],
   "source": []
  },
  {
   "cell_type": "markdown",
   "metadata": {},
   "source": [
    "## Software/Data Licenses\n",
    "Today, increasingly more journals and agencies request that you make the data and programs publicly accessible for\n",
    "* reproducibility of research results\n",
    "* enable meta-analysis\n",
    "* facilitate reuse of data and programs\n",
    "\n",
    "You should set an appropriate condition in making your data or program public, to facillitate their use and to keep your (and your organization's) intellectural property. Points of consideration in making your data/programs public include:\n",
    "* copyright\n",
    "* acknowledgement\n",
    "* revision\n",
    "* re-distribution\n",
    "* commercial use\n",
    "\n",
    "It is also important to know the licenses of the software you use for your development, as that can limit the way you can use/distribute your programs."
   ]
  },
  {
   "cell_type": "markdown",
   "metadata": {},
   "source": [
    "### Creative Commons\n",
    "\n",
    "Creative Commons (https://creativecommons.org) is an emerging standard using combination of three aspects:\n",
    "\n",
    "* Attribution (BY): request aknowldgement, e.g., citing a paper\n",
    "\n",
    "* NonCommercial (NC): no commercial use\n",
    "\n",
    "* ShareAlike (SA) or NoDerivs (ND): allow modification and re-distribution  or not\n",
    "\n",
    "See https://creativecommons.org/licenses/?lang=en for typical combinations."
   ]
  },
  {
   "cell_type": "markdown",
   "metadata": {},
   "source": [
    "### GPL, BSD, MIT, Apache, etc.\n",
    "In open software community, several types of licensing have been commonly used:\n",
    "* Gnu General Public Licence (GPL): redistribution requires access to source codes in the same license. Called *copy left*.\n",
    "* BSD and MIT license: do not require source code access or succession of the same license.\n",
    "* Apache License: does not even require the license terms.\n",
    "* Public Domain (CC0): no copyright insisted. Free to use/modify/distribute.\n",
    "\n",
    "See https://en.wikipedia.org/wiki/Comparison_of_free_and_open-source_software_licenses for further details."
   ]
  },
  {
   "cell_type": "code",
   "execution_count": null,
   "metadata": {},
   "outputs": [],
   "source": []
  },
  {
   "cell_type": "markdown",
   "metadata": {},
   "source": [
    "## Data Management\n",
    "Most research start with obtaining *raw* data, continues on with a series of pre-processing, visualization and analyses, and complete with paper writing. Handling all different files without confusion and corruption takes some good thoughts and habits.\n",
    "* Keep the raw data and *metadata* and take back up.\n",
    "* Store data as you wish to see when receiving.\n",
    "* Record all the steps of processing, better with a script.\n",
    "\n",
    "### References:\n",
    "\n",
    "* Hart EM, et al. (2016). Ten simple rules for digital data storage. PLoS Comput Biol, 12, e1005097. https://doi.org/10.1371/journal.pcbi.1005097\n",
    "\n",
    "* Ouellette F, et al. (2018). A FAIR guide for data providers to maximise sharing of human genomic data. PLoS Comput Biol, 14. https://doi.org/10.1371/journal.pcbi.1005873\n",
    "\n",
    "* Eke DO, Bernard A, Bjaalie JG, Chavarriaga R, Hanakawa T, Hannan AJ, Hill SL, Martone ME, McMahon A, Ruebel O, Crook S, Thiels E, Pestilli F (2021). International data governance for neuroscience. Neuron, 10.1016/j.neuron.2021.11.017. https://doi.org/10.1016/j.neuron.2021.11.017"
   ]
  },
  {
   "cell_type": "markdown",
   "metadata": {},
   "source": [
    "### Always Backup\n",
    "\n",
    "As soon as you obtain data, don't forget to take a backup with appropriate documentation.\n",
    "\n",
    "For a small scale data, *DropBox* is an easy solution for data backup and sharing.\n",
    "\n",
    "At OIST, for storing large scale data, you can use the *bucket* drive. See:\n",
    "https://groups.oist.jp/it/research-storage\n",
    "\n",
    "In a Unix like system, `rsync` is the basic command to take a backup of a folder. \n",
    "There are options for incremental backup, by searching for new files in the folder and copy them."
   ]
  },
  {
   "cell_type": "markdown",
   "metadata": {},
   "source": [
    "## Data sharing\n",
    "\n",
    "Data sharing is an important emerging issue in the scientific community, as science today is becoming more and more data intensive. \n",
    "In good old days, each researcher did an experiment, gathered data, wrote a paper, and that was the end of the story.\n",
    "Nowadays, each experiment can produce Giga to Tera bytes of data, which are much more than just one researcher to analyze by him/herself.\n",
    "We nee efficient and reliable methods to share data within each lab, across collaboration labs, and the entire research community.\n",
    "\n",
    "### Data Governance\n",
    "\n",
    "When making data public, especially human subject data, a good care has to be taken for the privacy. In general\n",
    "\n",
    "* data should be anonymized so that the identity of subject cannot be obtained or inferred.\n",
    "\n",
    "* prior consent must be obtained from the subject regarding the way their data are made public."
   ]
  },
  {
   "cell_type": "markdown",
   "metadata": {
    "collapsed": true
   },
   "source": [
    "### Metadata\n",
    "*Metadata* is data about data. It usually includes:\n",
    "\n",
    "* Time and date of creation\n",
    "* Creator or author of the data\n",
    "* Method for creating the data\n",
    "* File format\n",
    "* File size\n",
    "* ...\n",
    "\n",
    "Different research communities have their own standards of metadata, such as \n",
    "\n",
    "* ISO-TC211 for geographic data: https://www.isotc211.org\n",
    "\n",
    "* ISA for biomedical data: https://www.isacommons.org\n",
    "\n",
    "Following such a standard can help you using common data processing tools, and your data to be found and utilized by more people.\n"
   ]
  },
  {
   "cell_type": "markdown",
   "metadata": {},
   "source": [
    "## Data File Formats\n",
    "It is always better to save your data in a common file format so that they can be read by many data processing tools.\n",
    "\n",
    "### CSV, TSV\n",
    "Values separated by comma or tab, in multiple lines like a table.\n",
    "These are still commonly used for simplicity.\n",
    "\n",
    "### XML\n",
    "https://www.xml.org\n",
    "Keys and values stored in a form similar to html.\n",
    "Often used to store metadata.\n",
    "\n",
    "### JSON\n",
    "https://www.json.org/json-en.html\n",
    "Common in exchanging large data with multiple compnents.\n",
    "\n",
    "### HDF5\n",
    "https://www.hdfgroup.org\n",
    "Hierarchical datar format that can also store binary data.\n",
    "\n",
    "Some domain-specific data formats are based HDF5, such as Neurodata Without Borders (NWB)  https://www.nwb.org"
   ]
  },
  {
   "cell_type": "markdown",
   "metadata": {},
   "source": [
    "## Pipeline Tools\n",
    "Once your procedures for data processing is determined, such as filtering, visualization, and statistical tests, the sequence should be defined as a *script* with folders, filenames, and parameters.\n",
    "\n",
    "A classic way in Unix-like system is *shell script*, but you can use Python for data processing scripts. There are dedicated packages for data processing pipelines, such as:\n",
    "\n",
    "* scikit-learn.pipeline: https://scikit-learn.org/stable/modules/compose.html\n",
    "* Luigi: https://github.com/spotify/luigi\n",
    "* Prefect: https://www.prefect.io\n",
    "* Snakemake: https://snakemake.github.io\n"
   ]
  },
  {
   "cell_type": "code",
   "execution_count": null,
   "metadata": {},
   "outputs": [],
   "source": []
  },
  {
   "cell_type": "code",
   "execution_count": null,
   "metadata": {},
   "outputs": [],
   "source": []
  }
 ],
 "metadata": {
  "kernelspec": {
   "display_name": "Python 3 (ipykernel)",
   "language": "python",
   "name": "python3"
  },
  "language_info": {
   "codemirror_mode": {
    "name": "ipython",
    "version": 3
   },
   "file_extension": ".py",
   "mimetype": "text/x-python",
   "name": "python",
   "nbconvert_exporter": "python",
   "pygments_lexer": "ipython3",
   "version": "3.9.16"
  }
 },
 "nbformat": 4,
 "nbformat_minor": 1
}