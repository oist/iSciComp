{
 "cells": [
  {
   "cell_type": "markdown",
   "metadata": {},
   "source": [
    "# 2. Visualization"
   ]
  },
  {
   "cell_type": "markdown",
   "metadata": {},
   "source": [
    "Visualizatin is vital in data analysis and scientific computing, to\n",
    "\n",
    "* get intuitive understanding\n",
    "* come up with a new hypothesis\n",
    "* detect a bug or data anormaly\n",
    "\n",
    "That is why we'll cover this topic at the beginning of this course."
   ]
  },
  {
   "cell_type": "markdown",
   "metadata": {},
   "source": [
    "# Matplotlib\n",
    "Matplotlib is the standard graphics package for Python. \n",
    "It mimics many graphics functions of MATLAB.  \n",
    "The Matplotlib gallery (http://matplotlib.org/stable/gallery) illustrates variety of plots."
   ]
  },
  {
   "cell_type": "code",
   "execution_count": null,
   "metadata": {},
   "outputs": [],
   "source": [
    "import numpy as np\n",
    "import matplotlib.pyplot as plt"
   ]
  },
  {
   "cell_type": "markdown",
   "metadata": {},
   "source": [
    "Usually matplotlib opens a window for a new plot.\n",
    "\n",
    "A nice feature of Jupyter notebook is that you can embed the figures produced by your program within the notebook by the following *magic* command  \n",
    "`%matplotlib inline`  \n",
    "(It may be a default setting in recent jupyter notebook)."
   ]
  },
  {
   "cell_type": "code",
   "execution_count": null,
   "metadata": {},
   "outputs": [],
   "source": [
    "%matplotlib inline"
   ]
  },
  {
   "cell_type": "markdown",
   "metadata": {},
   "source": [
    "## Plotting functions\n",
    "The standard way is to prepare an array for x values, compute y values, and call `plot( )` function."
   ]
  },
  {
   "cell_type": "code",
   "execution_count": null,
   "metadata": {},
   "outputs": [],
   "source": [
    "# make an array from 0 to 10, the default is 50 points\n",
    "x = np.linspace(0, 10)"
   ]
  },
  {
   "cell_type": "code",
   "execution_count": null,
   "metadata": {},
   "outputs": [],
   "source": [
    "# comupute a function for each point\n",
    "y = x*np.sin(x)\n",
    "# plot the points\n",
    "plt.plot(y)  # x is the index of y"
   ]
  },
  {
   "cell_type": "markdown",
   "metadata": {},
   "source": [
    "There are multiple ways to pass variables to plot():\n",
    "* `plot(y)`: x is assumed as the indices of y \n",
    "* `plot(x, y)`: specify both x and y values\n",
    "* `plot(x1, y1, x2, y2,...)`: multiple lines\n",
    "* `plot(x, Y)`: lines for columns of matrix Y"
   ]
  },
  {
   "cell_type": "code",
   "execution_count": null,
   "metadata": {},
   "outputs": [],
   "source": [
    "# specify both x and y values\n",
    "plt.plot(x, y)"
   ]
  },
  {
   "cell_type": "code",
   "execution_count": null,
   "metadata": {},
   "outputs": [],
   "source": [
    "# take another function of x\n",
    "y2 = x*np.cos(x)"
   ]
  },
  {
   "cell_type": "code",
   "execution_count": null,
   "metadata": {},
   "outputs": [],
   "source": [
    "# plot two lines\n",
    "plt.plot(x, y, x, y2)"
   ]
  },
  {
   "cell_type": "code",
   "execution_count": null,
   "metadata": {},
   "outputs": [],
   "source": [
    "# phase plot\n",
    "plt.plot(y, y2);\n",
    "# you can supress <matplotlib...> output by ;"
   ]
  },
  {
   "cell_type": "code",
   "execution_count": null,
   "metadata": {},
   "outputs": [],
   "source": [
    "# plot multiple lines by a matrix\n",
    "Y = np.array([y, y2])  # stack data in two rows\n",
    "plt.plot(x, Y.T); # transpose to give data in two columns"
   ]
  },
  {
   "cell_type": "code",
   "execution_count": null,
   "metadata": {},
   "outputs": [],
   "source": [
    "# plot multiple lines by a matrix\n",
    "Y = np.array([np.sin(k*x) for k in range(4)])\n",
    "plt.plot(x, Y.T);"
   ]
  },
  {
   "cell_type": "code",
   "execution_count": null,
   "metadata": {},
   "outputs": [],
   "source": []
  },
  {
   "cell_type": "markdown",
   "metadata": {},
   "source": [
    "## Options for plotting\n",
    "Line styles can be specified by\n",
    "* `color=` (or `c=` )  for color by code, name, RGB or RGBA  \n",
    "    - code: 'r', 'g', 'b', 'y', 'c', 'm', 'k', 'w'\n",
    "\n",
    "\n",
    "* `marker=` for marker style\n",
    "    - code: '.', 'o', '+', '*', '^', ...\n",
    "\n",
    "\n",
    "* `linestyle=` (or `ls=` ) for line style\n",
    "    - code: '-', '--', ':', '-.', ...\n",
    "    \n",
    "    \n",
    "* `linewidth=` (or `lw=` ) for line width\n",
    "* a string of color, marker and line sytel codes, e.g. 'ro:'"
   ]
  },
  {
   "cell_type": "code",
   "execution_count": null,
   "metadata": {},
   "outputs": [],
   "source": [
    "# using code string\n",
    "plt.plot(x, y, 'm:', x, y2, 'c*');  # magenta dash-dot, cyan circle"
   ]
  },
  {
   "cell_type": "code",
   "execution_count": null,
   "metadata": {},
   "outputs": [],
   "source": [
    "# using keyword=value\n",
    "plt.plot(x, y, c=[0.2,0.5,0.8,0.5], marker='o', markersize=10, ls='-.', lw=2);"
   ]
  },
  {
   "cell_type": "code",
   "execution_count": null,
   "metadata": {},
   "outputs": [],
   "source": []
  },
  {
   "cell_type": "markdown",
   "metadata": {},
   "source": [
    "It's a good practice to add axis lables and plot title."
   ]
  },
  {
   "cell_type": "code",
   "execution_count": null,
   "metadata": {},
   "outputs": [],
   "source": [
    "plt.plot(x, y)\n",
    "plt.title('oscillation')\n",
    "plt.xlabel('time ($\\mu s$)')\n",
    "plt.ylabel('amplitude')"
   ]
  },
  {
   "cell_type": "markdown",
   "metadata": {},
   "source": [
    "It is also nice to add a legend box."
   ]
  },
  {
   "cell_type": "code",
   "execution_count": null,
   "metadata": {},
   "outputs": [],
   "source": [
    "ax = plt.plot(x, y, x, y2)\n",
    "plt.legend(('x sin x','x cos x'))"
   ]
  },
  {
   "cell_type": "markdown",
   "metadata": {},
   "source": [
    "You can control axis ranges and scaling."
   ]
  },
  {
   "cell_type": "code",
   "execution_count": null,
   "metadata": {},
   "outputs": [],
   "source": [
    "plt.plot(x, y)\n",
    "plt.xlim(-1, 5)\n",
    "plt.ylim(-4, 4)"
   ]
  },
  {
   "cell_type": "code",
   "execution_count": null,
   "metadata": {},
   "outputs": [],
   "source": [
    "plt.plot(y, y2)\n",
    "plt.axis('equal')  # equal scaling for x and y"
   ]
  },
  {
   "cell_type": "code",
   "execution_count": null,
   "metadata": {},
   "outputs": [],
   "source": [
    "plt.plot(y, y2)\n",
    "plt.axis('square')  # in square plot area"
   ]
  },
  {
   "cell_type": "markdown",
   "metadata": {},
   "source": [
    "You can create a fiure of your preferred size by `plt.figure()` function"
   ]
  },
  {
   "cell_type": "code",
   "execution_count": null,
   "metadata": {},
   "outputs": [],
   "source": [
    "fig = plt.figure(figsize=(6, 6))\n",
    "plt.plot(y, y2)"
   ]
  },
  {
   "cell_type": "code",
   "execution_count": null,
   "metadata": {},
   "outputs": [],
   "source": []
  },
  {
   "cell_type": "markdown",
   "metadata": {},
   "source": [
    "## Bar plot and histogram"
   ]
  },
  {
   "cell_type": "code",
   "execution_count": null,
   "metadata": {},
   "outputs": [],
   "source": [
    "i = np.arange(10)\n",
    "j = i**2\n",
    "plt.bar(i, j)"
   ]
  },
  {
   "cell_type": "markdown",
   "metadata": {},
   "source": [
    "`np.random.randn()` gives random numbers from the normal distribution"
   ]
  },
  {
   "cell_type": "code",
   "execution_count": null,
   "metadata": {},
   "outputs": [],
   "source": [
    "z = np.random.randn(100)\n",
    "plt.hist(z)"
   ]
  },
  {
   "cell_type": "code",
   "execution_count": null,
   "metadata": {},
   "outputs": [],
   "source": []
  },
  {
   "cell_type": "markdown",
   "metadata": {},
   "source": [
    "## Subplot and axes\n",
    "You can create multiple *axes* in a figure by subplot(rows, columns, index).   \n",
    "It uses a MATLAB legacy for index starting from 1.  "
   ]
  },
  {
   "cell_type": "code",
   "execution_count": null,
   "metadata": {},
   "outputs": [],
   "source": [
    "plt.subplot(2, 2, 1)\n",
    "plt.plot(x, y)\n",
    "plt.subplot(2, 2, 2)\n",
    "plt.plot(y, x)\n",
    "plt.subplot(2, 2, 3)\n",
    "plt.plot(x, y2)\n",
    "plt.subplot(2, 2, 4)\n",
    "plt.plot(y, y2)"
   ]
  },
  {
   "cell_type": "code",
   "execution_count": null,
   "metadata": {},
   "outputs": [],
   "source": []
  },
  {
   "cell_type": "markdown",
   "metadata": {},
   "source": [
    "## Figure and axes\n",
    "When you make a plot, matplotlib creates a *figure* object with an *axes* object.  \n",
    "You can use `gcf()` and `gca()` to identify them and `getp()` and `setp()` to access their parameters."
   ]
  },
  {
   "cell_type": "code",
   "execution_count": null,
   "metadata": {},
   "outputs": [],
   "source": [
    "plt.plot(x, y)\n",
    "fig = plt.gcf()  # get current figure\n",
    "plt.getp(fig)  # show all parameters"
   ]
  },
  {
   "cell_type": "code",
   "execution_count": null,
   "metadata": {},
   "outputs": [],
   "source": [
    "plt.plot(x, y)\n",
    "fig = plt.gcf()\n",
    "plt.setp(fig, size_inches=(8,4), facecolor=[0.5,0.5,0.5])"
   ]
  },
  {
   "cell_type": "code",
   "execution_count": null,
   "metadata": {},
   "outputs": [],
   "source": [
    "plt.plot(x, y)\n",
    "ax = plt.gca()  # get current axes\n",
    "plt.getp(ax)\n",
    "plt.setp(ax, facecolor='y')  # change parameters"
   ]
  },
  {
   "cell_type": "code",
   "execution_count": null,
   "metadata": {},
   "outputs": [],
   "source": []
  },
  {
   "cell_type": "markdown",
   "metadata": {},
   "source": [
    "## Visualizing data in 2D\n",
    "A standard way for visualizing pariwise data is a scatter plot."
   ]
  },
  {
   "cell_type": "code",
   "execution_count": null,
   "metadata": {},
   "outputs": [],
   "source": [
    "n = 100\n",
    "x = np.random.uniform(-1, 1, n)  # n points in [-1,1]\n",
    "y = 2*x + np.random.randn(n)  # scale and add noise\n",
    "plt.plot(x, y, 'o')"
   ]
  },
  {
   "cell_type": "markdown",
   "metadata": {},
   "source": [
    "By `scatterplot( )` you can specify the size and the color of each point to visualize higher dimension information."
   ]
  },
  {
   "cell_type": "code",
   "execution_count": null,
   "metadata": {},
   "outputs": [],
   "source": [
    "z = x**2 + y**2\n",
    "c = y - 2*x\n",
    "# z for size, c for color\n",
    "plt.scatter(x, y, z, c)\n",
    "plt.colorbar()"
   ]
  },
  {
   "cell_type": "code",
   "execution_count": null,
   "metadata": {},
   "outputs": [],
   "source": []
  },
  {
   "cell_type": "markdown",
   "metadata": {},
   "source": [
    "## Visualizing a matrix or a function in 2D space"
   ]
  },
  {
   "cell_type": "markdown",
   "metadata": {},
   "source": [
    "meshgrid() is for preparing x and y values in a grid."
   ]
  },
  {
   "cell_type": "code",
   "execution_count": null,
   "metadata": {},
   "outputs": [],
   "source": [
    "x = np.linspace(-4, 4, 9)\n",
    "y = np.linspace(-3, 3, 7)\n",
    "print(x, y)\n",
    "X, Y = np.meshgrid(x, y)\n",
    "print(X, Y)"
   ]
  },
  {
   "cell_type": "markdown",
   "metadata": {},
   "source": [
    "We can use imshow() to visualize a matrix as an image."
   ]
  },
  {
   "cell_type": "code",
   "execution_count": null,
   "metadata": {},
   "outputs": [],
   "source": [
    "Z = X**2 * Y\n",
    "print(Z)\n",
    "plt.imshow(Z)"
   ]
  },
  {
   "cell_type": "code",
   "execution_count": null,
   "metadata": {},
   "outputs": [],
   "source": [
    "# some more options\n",
    "plt.imshow(Z, origin='lower', extent=(-4.5, 4.5, -3.5, 3.5))\n",
    "plt.colorbar()"
   ]
  },
  {
   "cell_type": "markdown",
   "metadata": {},
   "source": [
    "### color maps\n",
    "`imshow( )` maps a scalar Z value to color by a colormap. The standard color map *viridis* is friedly to color blindness and monochrome printing. You can also choose other color maps."
   ]
  },
  {
   "cell_type": "code",
   "execution_count": null,
   "metadata": {},
   "outputs": [],
   "source": [
    "plt.imshow(Z, cmap='jet')"
   ]
  },
  {
   "cell_type": "markdown",
   "metadata": {},
   "source": [
    "### contour plot"
   ]
  },
  {
   "cell_type": "code",
   "execution_count": null,
   "metadata": {
    "scrolled": true
   },
   "outputs": [],
   "source": [
    "x = np.linspace(-4, 4, 25)\n",
    "y = np.linspace(-4, 4, 25)\n",
    "X, Y = np.meshgrid(x, y)\n",
    "Z = X**2 + 2*Y**2\n",
    "plt.contour(X, Y, Z)\n",
    "plt.axis('square')"
   ]
  },
  {
   "cell_type": "markdown",
   "metadata": {},
   "source": [
    "### vector field by `quiver( )`"
   ]
  },
  {
   "cell_type": "code",
   "execution_count": null,
   "metadata": {},
   "outputs": [],
   "source": [
    "x = np.linspace(-3, 3, 15)\n",
    "y = np.linspace(-3, 3, 15)\n",
    "X, Y = np.meshgrid(x, y)\n",
    "# Van del Pol model\n",
    "k = 1  # paramter\n",
    "U = Y  # dx/dt\n",
    "V = k*(1 - X**2)*Y - X  # dy/dt\n",
    "plt.quiver(X, Y, U, V)"
   ]
  },
  {
   "cell_type": "code",
   "execution_count": null,
   "metadata": {},
   "outputs": [],
   "source": []
  },
  {
   "cell_type": "markdown",
   "metadata": {},
   "source": [
    "## 3D Visualization\n",
    "You can create a 3D axis by `projection='3d'` option."
   ]
  },
  {
   "cell_type": "markdown",
   "metadata": {},
   "source": [
    "### lines and points in 3D"
   ]
  },
  {
   "cell_type": "code",
   "execution_count": null,
   "metadata": {
    "scrolled": true
   },
   "outputs": [],
   "source": [
    "# spiral data\n",
    "x = np.linspace(0, 20, 100)\n",
    "y = x*np.sin(x)\n",
    "z = x*np.cos(x)"
   ]
  },
  {
   "cell_type": "code",
   "execution_count": null,
   "metadata": {
    "scrolled": true
   },
   "outputs": [],
   "source": [
    "# create a figure and 3D axes\n",
    "fig = plt.figure()\n",
    "ax = fig.add_subplot(projection='3d')\n",
    "ax.plot(x, y, z)"
   ]
  },
  {
   "cell_type": "code",
   "execution_count": null,
   "metadata": {},
   "outputs": [],
   "source": [
    "ax = plt.figure().add_subplot(projection='3d')\n",
    "# scatter plot with x value mapped to color\n",
    "ax.scatter(x, y, z, c=x)"
   ]
  },
  {
   "cell_type": "code",
   "execution_count": null,
   "metadata": {},
   "outputs": [],
   "source": []
  },
  {
   "cell_type": "markdown",
   "metadata": {},
   "source": [
    "### surface plot"
   ]
  },
  {
   "cell_type": "code",
   "execution_count": null,
   "metadata": {},
   "outputs": [],
   "source": [
    "x = np.linspace(-5, 5, 25)\n",
    "y = np.linspace(-5, 5, 25)\n",
    "X, Y = np.meshgrid(x, y)\n",
    "Z = X*Y"
   ]
  },
  {
   "cell_type": "code",
   "execution_count": null,
   "metadata": {},
   "outputs": [],
   "source": [
    "ax = plt.figure().add_subplot(projection='3d')\n",
    "ax.plot_surface(X, Y, Z)"
   ]
  },
  {
   "cell_type": "markdown",
   "metadata": {},
   "source": [
    "You may want to use `notebook` option of the magic command to rotate the figure to pick the best viewpoint.\n",
    "```\n",
    "%matplotlib notebook\n",
    "```\n",
    "(You may have to run the magic command twice to take effect.)"
   ]
  },
  {
   "cell_type": "code",
   "execution_count": null,
   "metadata": {},
   "outputs": [],
   "source": [
    "%matplotlib notebook"
   ]
  },
  {
   "cell_type": "markdown",
   "metadata": {},
   "source": [
    "You can color the surface by the height."
   ]
  },
  {
   "cell_type": "code",
   "execution_count": null,
   "metadata": {},
   "outputs": [],
   "source": [
    "fig = plt.figure()\n",
    "ax = fig.add_subplot(111, projection='3d')\n",
    "# map Z value to 'viridis' colormap\n",
    "ax.plot_surface(X, Y, Z, cmap='viridis');"
   ]
  },
  {
   "cell_type": "code",
   "execution_count": null,
   "metadata": {},
   "outputs": [],
   "source": []
  },
  {
   "cell_type": "markdown",
   "metadata": {},
   "source": [
    "### surface by wire frame"
   ]
  },
  {
   "cell_type": "code",
   "execution_count": null,
   "metadata": {},
   "outputs": [],
   "source": [
    "# make a 3D axis in one line\n",
    "ax = plt.figure().add_subplot(111, projection='3d')\n",
    "# wireframe plot\n",
    "ax.plot_wireframe(X, Y, Z)"
   ]
  },
  {
   "cell_type": "code",
   "execution_count": null,
   "metadata": {},
   "outputs": [],
   "source": []
  },
  {
   "cell_type": "markdown",
   "metadata": {},
   "source": [
    "### 3D vector field by `quiver( )`"
   ]
  },
  {
   "cell_type": "code",
   "execution_count": null,
   "metadata": {},
   "outputs": [],
   "source": [
    "## Lorenz equation\n",
    "x = np.linspace(-10, 10, 9)\n",
    "y = np.linspace(-20, 20, 9)\n",
    "z = np.linspace(-20, 20, 5)\n",
    "X, Y, Z = np.meshgrid(x, y, z)\n",
    "#print(X)\n",
    "# parameters\n",
    "p, r, b = 10, 28, 8/3\n",
    "U = Y  # dx/dt\n",
    "V = -X # dy/dt\n",
    "W = - Z   # dz/dt\n",
    "ax = plt.figure().add_subplot(111, projection='3d')\n",
    "ax.quiver(X, Y, Z, U, V, W, length=0.1)"
   ]
  },
  {
   "cell_type": "markdown",
   "metadata": {},
   "source": [
    "For more advanced 3D visualization, you may want to use a specialized library like `mayavi` \n",
    "https://docs.enthought.com/mayavi/mayavi/"
   ]
  },
  {
   "cell_type": "code",
   "execution_count": null,
   "metadata": {},
   "outputs": [],
   "source": []
  },
  {
   "cell_type": "markdown",
   "metadata": {},
   "source": [
    "## Animation\n",
    "It is often helpful to visualize the result while it is computed, rather than after all computation.  \n",
    "The simplest way is to repeat computing, drawing, and a short pause."
   ]
  },
  {
   "cell_type": "markdown",
   "metadata": {},
   "source": [
    "It does not work well with embedded figures, so open a figure window."
   ]
  },
  {
   "cell_type": "code",
   "execution_count": null,
   "metadata": {},
   "outputs": [],
   "source": [
    "# list options of %matplotlib\n",
    "%matplotlib -l"
   ]
  },
  {
   "cell_type": "code",
   "execution_count": null,
   "metadata": {},
   "outputs": [],
   "source": [
    "%matplotlib tk"
   ]
  },
  {
   "cell_type": "markdown",
   "metadata": {},
   "source": [
    "You may need to restart the kernel to chage the setting."
   ]
  },
  {
   "cell_type": "code",
   "execution_count": null,
   "metadata": {},
   "outputs": [],
   "source": [
    "import numpy as np\n",
    "import matplotlib.pyplot as plt"
   ]
  },
  {
   "cell_type": "code",
   "execution_count": null,
   "metadata": {
    "scrolled": true
   },
   "outputs": [],
   "source": [
    "# set parameter\n",
    "v = 0.2\n",
    "# prepare x axis\n",
    "x = np.linspace(0, 10)\n",
    "for t in range(50):\n",
    "    # compute the new result\n",
    "    y = np.sin(x - v*t)\n",
    "    # clear previous plot\n",
    "    plt.cla()\n",
    "    # draw a new plot\n",
    "    plt.plot(x, y)\n",
    "    # puase 0.01 sec\n",
    "    plt.pause(0.01)"
   ]
  },
  {
   "cell_type": "markdown",
   "metadata": {},
   "source": [
    "You can also use `animation` package to store the frames and play them back."
   ]
  },
  {
   "cell_type": "code",
   "execution_count": null,
   "metadata": {},
   "outputs": [],
   "source": [
    "from matplotlib import animation"
   ]
  },
  {
   "cell_type": "code",
   "execution_count": null,
   "metadata": {},
   "outputs": [],
   "source": [
    "fig = plt.figure()\n",
    "frames = []  # prepare frame\n",
    "\n",
    "# traveling wave velocity\n",
    "v = 0.2  # velocity\n",
    "# prepare x axis\n",
    "x = np.linspace(0, 10)\n",
    "for t in range(50):\n",
    "    # compute the new result\n",
    "    y = np.sin(x - v*t)\n",
    "    # draw a new plot\n",
    "    artists = plt.plot(x, y)\n",
    "    # append to the frame\n",
    "    frames.append(artists)\n",
    "\n",
    "anim = animation.ArtistAnimation(fig, frames, interval = 10)"
   ]
  },
  {
   "cell_type": "markdown",
   "metadata": {},
   "source": [
    "You can save the movie in a gif file."
   ]
  },
  {
   "cell_type": "code",
   "execution_count": null,
   "metadata": {},
   "outputs": [],
   "source": [
    "anim.save(\"anim.gif\", writer='pillow')"
   ]
  },
  {
   "cell_type": "code",
   "execution_count": null,
   "metadata": {},
   "outputs": [],
   "source": []
  }
 ],
 "metadata": {
  "kernelspec": {
   "display_name": "Python 3 (ipykernel)",
   "language": "python",
   "name": "python3"
  },
  "language_info": {
   "codemirror_mode": {
    "name": "ipython",
    "version": 3
   },
   "file_extension": ".py",
   "mimetype": "text/x-python",
   "name": "python",
   "nbconvert_exporter": "python",
   "pygments_lexer": "ipython3",
   "version": "3.9.16"
  }
 },
 "nbformat": 4,
 "nbformat_minor": 4
}
