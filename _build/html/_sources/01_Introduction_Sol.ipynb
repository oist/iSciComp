{
 "cells": [
  {
   "cell_type": "markdown",
   "metadata": {},
   "source": [
    "# 1. Introduction to Python: Exercise Solutions"
   ]
  },
  {
   "cell_type": "code",
   "execution_count": 1,
   "metadata": {},
   "outputs": [],
   "source": [
    "import numpy as np"
   ]
  },
  {
   "cell_type": "markdown",
   "metadata": {},
   "source": [
    "##  Lists and loops\n",
    "Create the following lists, possibly in multiple ways.\n",
    "\n",
    "1) odd positive integers below 20."
   ]
  },
  {
   "cell_type": "code",
   "execution_count": 2,
   "metadata": {},
   "outputs": [
    {
     "name": "stdout",
     "output_type": "stream",
     "text": [
      "[1, 3, 5, 7, 9, 11, 13, 15, 17, 19]\n"
     ]
    }
   ],
   "source": [
    "N = 20\n",
    "j = 0\n",
    "y = []\n",
    "x = [x + 1 for x in range(N)]\n",
    "for i in range (N): \n",
    "    if x[i]%2!=0: \n",
    "        y.append(x[i])\n",
    "\n",
    "print (y)"
   ]
  },
  {
   "cell_type": "code",
   "execution_count": 3,
   "metadata": {},
   "outputs": [
    {
     "name": "stdout",
     "output_type": "stream",
     "text": [
      "[1, 3, 5, 7, 9, 11, 13, 15, 17, 19]\n"
     ]
    }
   ],
   "source": [
    "odd = []\n",
    "for i in range(20):\n",
    "    if i % 2 == 1:\n",
    "        odd = odd + [i]\n",
    "print(odd)"
   ]
  },
  {
   "cell_type": "code",
   "execution_count": 4,
   "metadata": {},
   "outputs": [
    {
     "name": "stdout",
     "output_type": "stream",
     "text": [
      "[1, 3, 5, 7, 9, 11, 13, 15, 17, 19]\n"
     ]
    }
   ],
   "source": [
    "A = []\n",
    "for i in range(0,10):\n",
    "    A = A + [2*i+1]\n",
    "print(A)"
   ]
  },
  {
   "cell_type": "code",
   "execution_count": 5,
   "metadata": {},
   "outputs": [
    {
     "name": "stdout",
     "output_type": "stream",
     "text": [
      "[1, 3, 5, 7, 9, 11, 13, 15, 17, 19]\n"
     ]
    }
   ],
   "source": [
    "odd = [i for i in range (1,21,2)]\n",
    "print(odd)"
   ]
  },
  {
   "cell_type": "code",
   "execution_count": 6,
   "metadata": {},
   "outputs": [
    {
     "name": "stdout",
     "output_type": "stream",
     "text": [
      "[1, 3, 5, 7, 9, 11, 13, 15, 17, 19]\n"
     ]
    }
   ],
   "source": [
    "print(list(range(1,21,2)))"
   ]
  },
  {
   "cell_type": "code",
   "execution_count": null,
   "metadata": {},
   "outputs": [],
   "source": []
  },
  {
   "cell_type": "markdown",
   "metadata": {},
   "source": [
    "2) sums from 1 to n, for up to n=10."
   ]
  },
  {
   "cell_type": "code",
   "execution_count": 7,
   "metadata": {},
   "outputs": [
    {
     "name": "stdout",
     "output_type": "stream",
     "text": [
      "[1, 3, 6, 10, 15, 21, 28, 36, 45, 55]\n"
     ]
    }
   ],
   "source": [
    "n = 10 \n",
    "a = [a+1 for a in range (n)]\n",
    "for i in range (1,n):\n",
    "    a[i] = a[i-1] + a[i]\n",
    "print(a)"
   ]
  },
  {
   "cell_type": "code",
   "execution_count": 8,
   "metadata": {},
   "outputs": [
    {
     "name": "stdout",
     "output_type": "stream",
     "text": [
      "[1, 3, 6, 10, 15, 21, 28, 36, 45, 55]\n"
     ]
    }
   ],
   "source": [
    "sums = []\n",
    "sum_all = 0\n",
    "for i in range(1, 11):\n",
    "    sum_all += i\n",
    "    sums.append(sum_all)\n",
    "print(sums)"
   ]
  },
  {
   "cell_type": "code",
   "execution_count": 9,
   "metadata": {},
   "outputs": [
    {
     "data": {
      "text/plain": [
       "[1, 3, 6, 10, 15, 21, 28, 36, 45, 55]"
      ]
     },
     "execution_count": 9,
     "metadata": {},
     "output_type": "execute_result"
    }
   ],
   "source": [
    "k=[sum(list(range(1,i))) for i in range(2,12)]\n",
    "k"
   ]
  },
  {
   "cell_type": "code",
   "execution_count": null,
   "metadata": {},
   "outputs": [],
   "source": []
  },
  {
   "cell_type": "markdown",
   "metadata": {},
   "source": [
    "3) prime numbers below n=20."
   ]
  },
  {
   "cell_type": "code",
   "execution_count": 10,
   "metadata": {},
   "outputs": [
    {
     "name": "stdout",
     "output_type": "stream",
     "text": [
      "[2, 3, 5, 7, 11, 13, 17, 19]\n"
     ]
    }
   ],
   "source": [
    "n = 20\n",
    "A = []\n",
    "for i in range(2,n):\n",
    "    count = 0\n",
    "    for j in range(2,i):\n",
    "        if(i%j==0):\n",
    "            count = 1        \n",
    "    if(count==0):\n",
    "        A.append(i)\n",
    "print(A)"
   ]
  },
  {
   "cell_type": "code",
   "execution_count": 11,
   "metadata": {},
   "outputs": [
    {
     "name": "stdout",
     "output_type": "stream",
     "text": [
      "[2, 3, 5, 7, 11, 13, 17, 19]\n"
     ]
    }
   ],
   "source": [
    "n = 20\n",
    "y = []\n",
    "for i in range(2,n):\n",
    "    for j in range (2,i):\n",
    "        if i%j == 0:\n",
    "            break\n",
    "    else: # if the for loop doesn't break\n",
    "        y.append(i)\n",
    "print(y)"
   ]
  },
  {
   "cell_type": "code",
   "execution_count": 12,
   "metadata": {},
   "outputs": [
    {
     "name": "stdout",
     "output_type": "stream",
     "text": [
      "[2, 3, 5, 7, 11, 13, 17, 19]\n"
     ]
    }
   ],
   "source": [
    "n = 20\n",
    "list_d = list()\n",
    "for i in range(2,n):\n",
    "    if all(i%j!=0 for j in range(2,i)):\n",
    "        list_d.append(i)\n",
    "print(list_d)"
   ]
  },
  {
   "cell_type": "code",
   "execution_count": 13,
   "metadata": {},
   "outputs": [
    {
     "data": {
      "text/plain": [
       "[2, 3, 5, 7, 11, 13, 17, 19]"
      ]
     },
     "execution_count": 13,
     "metadata": {},
     "output_type": "execute_result"
    }
   ],
   "source": [
    "import sympy\n",
    "list(sympy.primerange(0, 20))"
   ]
  },
  {
   "cell_type": "code",
   "execution_count": null,
   "metadata": {},
   "outputs": [],
   "source": []
  },
  {
   "cell_type": "markdown",
   "metadata": {},
   "source": [
    "4) n=10 random numbers between 0 and k=5.  \n",
    "(use np.random.randint())"
   ]
  },
  {
   "cell_type": "code",
   "execution_count": 14,
   "metadata": {},
   "outputs": [
    {
     "data": {
      "text/plain": [
       "[3, 3, 3, 3, 2, 1, 3, 0, 3, 2]"
      ]
     },
     "execution_count": 14,
     "metadata": {},
     "output_type": "execute_result"
    }
   ],
   "source": [
    "n = 10\n",
    "k = 5\n",
    "r = []\n",
    "for i in range(n):\n",
    "    r.append(np.random.randint(k))\n",
    "r"
   ]
  },
  {
   "cell_type": "code",
   "execution_count": 15,
   "metadata": {},
   "outputs": [
    {
     "data": {
      "text/plain": [
       "[1, 0, 2, 0, 4, 3, 4, 1, 0, 0]"
      ]
     },
     "execution_count": 15,
     "metadata": {},
     "output_type": "execute_result"
    }
   ],
   "source": [
    "n = 10\n",
    "k = 5\n",
    "[ np.random.randint(k) for i in range(n)]"
   ]
  },
  {
   "cell_type": "code",
   "execution_count": 16,
   "metadata": {},
   "outputs": [
    {
     "data": {
      "text/plain": [
       "array([1, 1, 1, 1, 3, 0, 1, 3, 2, 4])"
      ]
     },
     "execution_count": 16,
     "metadata": {},
     "output_type": "execute_result"
    }
   ],
   "source": [
    "np.random.randint(0, 5, 10)"
   ]
  },
  {
   "cell_type": "code",
   "execution_count": 17,
   "metadata": {},
   "outputs": [
    {
     "data": {
      "text/plain": [
       "array([1, 3, 1, 4, 3, 0, 2, 4, 4, 0])"
      ]
     },
     "execution_count": 17,
     "metadata": {},
     "output_type": "execute_result"
    }
   ],
   "source": [
    "np.random.randint(5, size=10)"
   ]
  },
  {
   "cell_type": "code",
   "execution_count": null,
   "metadata": {},
   "outputs": [],
   "source": []
  },
  {
   "cell_type": "markdown",
   "metadata": {},
   "source": [
    "5) from two lists of the same length, make a list with the larger of the items at the same position."
   ]
  },
  {
   "cell_type": "code",
   "execution_count": 18,
   "metadata": {},
   "outputs": [
    {
     "name": "stdout",
     "output_type": "stream",
     "text": [
      "[3 1 2 1 2 3 4 2 2 2] [0 4 4 1 3 0 2 4 2 4]\n",
      "[3. 4. 4. 1. 3. 3. 4. 4. 2. 4.]\n"
     ]
    }
   ],
   "source": [
    "n = 10 \n",
    "min = 0\n",
    "max = 5\n",
    "x = np.random.randint(min, max, n)\n",
    "y = np.random.randint(min, max, n)\n",
    "print(x, y)\n",
    "z = np.zeros(n)\n",
    "for i in range(n):\n",
    "    if x[i] > y[i]:\n",
    "        z[i] = x[i]\n",
    "    else:\n",
    "        z[i] = y[i] \n",
    "print(z)"
   ]
  },
  {
   "cell_type": "code",
   "execution_count": 19,
   "metadata": {},
   "outputs": [
    {
     "data": {
      "text/plain": [
       "array([10,  9,  8,  7,  6,  5,  6,  7,  8,  9])"
      ]
     },
     "execution_count": 19,
     "metadata": {},
     "output_type": "execute_result"
    }
   ],
   "source": [
    "n = 10\n",
    "x = np.arange(n) # 0 to n-1\n",
    "y = np.arange(n,0,-1)  # n to 1\n",
    "z = [ np.max((x[i], y[i])) for i in range(n)]\n",
    "np.array(z)"
   ]
  },
  {
   "cell_type": "code",
   "execution_count": 20,
   "metadata": {},
   "outputs": [
    {
     "data": {
      "text/plain": [
       "array([10,  9,  8,  7,  6,  5,  6,  7,  8,  9])"
      ]
     },
     "execution_count": 20,
     "metadata": {},
     "output_type": "execute_result"
    }
   ],
   "source": [
    "np.max([x,y], axis=0)"
   ]
  },
  {
   "cell_type": "code",
   "execution_count": null,
   "metadata": {},
   "outputs": [],
   "source": []
  },
  {
   "cell_type": "markdown",
   "metadata": {},
   "source": [
    "6) from a random list with 7 items, find the median "
   ]
  },
  {
   "cell_type": "code",
   "execution_count": 21,
   "metadata": {},
   "outputs": [
    {
     "name": "stdout",
     "output_type": "stream",
     "text": [
      "[2 8 3 9 0 2 7]\n",
      "[0, 2, 2, 3, 7, 8, 9]\n"
     ]
    },
    {
     "data": {
      "text/plain": [
       "3"
      ]
     },
     "execution_count": 21,
     "metadata": {},
     "output_type": "execute_result"
    }
   ],
   "source": [
    "n = 7\n",
    "a = np.random.randint(0, 10, n)\n",
    "print(a)\n",
    "sorted_a = sorted(a)\n",
    "print(sorted_a)\n",
    "i = int((len(a))/2)\n",
    "sorted_a[i]"
   ]
  },
  {
   "cell_type": "code",
   "execution_count": 22,
   "metadata": {},
   "outputs": [
    {
     "name": "stdout",
     "output_type": "stream",
     "text": [
      "[8 3 5 7 7 2 8]\n",
      "[2 3 5 7 7 8 8]\n"
     ]
    },
    {
     "data": {
      "text/plain": [
       "7"
      ]
     },
     "execution_count": 22,
     "metadata": {},
     "output_type": "execute_result"
    }
   ],
   "source": [
    "a = np.random.randint(0, 10, n)\n",
    "print(a)\n",
    "a.sort()\n",
    "print(a)\n",
    "a[int((len(a))/2)]"
   ]
  },
  {
   "cell_type": "code",
   "execution_count": 23,
   "metadata": {},
   "outputs": [
    {
     "data": {
      "text/plain": [
       "7.0"
      ]
     },
     "execution_count": 23,
     "metadata": {},
     "output_type": "execute_result"
    }
   ],
   "source": [
    "np.median(a)"
   ]
  },
  {
   "cell_type": "code",
   "execution_count": null,
   "metadata": {},
   "outputs": [],
   "source": []
  },
  {
   "cell_type": "markdown",
   "metadata": {},
   "source": [
    "## Arrays and matrices"
   ]
  },
  {
   "cell_type": "markdown",
   "metadata": {},
   "source": [
    "1) an m-by-n matrix with random integers from 0 to k."
   ]
  },
  {
   "cell_type": "code",
   "execution_count": 24,
   "metadata": {},
   "outputs": [
    {
     "name": "stdout",
     "output_type": "stream",
     "text": [
      "[[8. 1. 0. 5.]\n",
      " [8. 7. 5. 0.]\n",
      " [0. 0. 0. 0.]]\n"
     ]
    }
   ],
   "source": [
    "# for example\n",
    "m = 3\n",
    "n = 4\n",
    "k = 10\n",
    "matrix = np.zeros((m,n))\n",
    "for i in range(m):\n",
    "    for j in range(n):\n",
    "        matrix[i,j] = np.random.randint(k)\n",
    "print(matrix)"
   ]
  },
  {
   "cell_type": "code",
   "execution_count": 25,
   "metadata": {},
   "outputs": [
    {
     "data": {
      "text/plain": [
       "array([[6, 6, 8, 5],\n",
       "       [7, 9, 0, 4],\n",
       "       [6, 6, 1, 4]])"
      ]
     },
     "execution_count": 25,
     "metadata": {},
     "output_type": "execute_result"
    }
   ],
   "source": [
    "m, n, k = 3, 4, 10\n",
    "A = [[np.random.randint(0,k) for j in range(n)] for i in range(m)]\n",
    "np.array(A)"
   ]
  },
  {
   "cell_type": "code",
   "execution_count": 26,
   "metadata": {},
   "outputs": [
    {
     "data": {
      "text/plain": [
       "array([[1, 2, 0, 7],\n",
       "       [9, 9, 5, 8],\n",
       "       [0, 5, 0, 2]])"
      ]
     },
     "execution_count": 26,
     "metadata": {},
     "output_type": "execute_result"
    }
   ],
   "source": [
    "m = 3\n",
    "n = 4\n",
    "k = 10\n",
    "np.random.randint(0, k, (m,n))"
   ]
  },
  {
   "cell_type": "code",
   "execution_count": null,
   "metadata": {},
   "outputs": [],
   "source": []
  },
  {
   "cell_type": "markdown",
   "metadata": {},
   "source": [
    "2) from a matrix, make a sub matrix of items in odd rows and even columns."
   ]
  },
  {
   "cell_type": "code",
   "execution_count": 27,
   "metadata": {},
   "outputs": [
    {
     "name": "stdout",
     "output_type": "stream",
     "text": [
      "[[5 4 9 8]\n",
      " [1 0 0 3]\n",
      " [6 1 3 7]]\n",
      "[[4 8]\n",
      " [1 7]]\n"
     ]
    }
   ],
   "source": [
    "m = 3\n",
    "n = 4\n",
    "k = 10\n",
    "A = np.random.randint(0, k, (m,n))\n",
    "print(A)\n",
    "B = []\n",
    "for i in range(0, m, 2):\n",
    "    b = []\n",
    "    for j in range(1, n, 2):\n",
    "        b.append(A[i,j])\n",
    "    B.append(b)\n",
    "print(np.array(B))"
   ]
  },
  {
   "cell_type": "code",
   "execution_count": 28,
   "metadata": {},
   "outputs": [
    {
     "name": "stdout",
     "output_type": "stream",
     "text": [
      "[[4 8 7 4]\n",
      " [3 3 6 7]\n",
      " [9 6 2 3]]\n",
      "[[8 4]\n",
      " [6 3]]\n"
     ]
    }
   ],
   "source": [
    "m, n, k = 3, 4, 10\n",
    "A = np.random.randint(0, k, (m,n))\n",
    "print(A)\n",
    "B = A[::2, 1::2]\n",
    "print(B)"
   ]
  },
  {
   "cell_type": "code",
   "execution_count": null,
   "metadata": {},
   "outputs": [],
   "source": []
  },
  {
   "cell_type": "markdown",
   "metadata": {},
   "source": [
    "3) make a m-by-n matrix with (i,j) component as i/j."
   ]
  },
  {
   "cell_type": "code",
   "execution_count": 29,
   "metadata": {},
   "outputs": [
    {
     "name": "stdout",
     "output_type": "stream",
     "text": [
      "[[1.         0.5        0.33333333 0.25      ]\n",
      " [2.         1.         0.66666667 0.5       ]\n",
      " [3.         1.5        1.         0.75      ]]\n"
     ]
    }
   ],
   "source": [
    "m = 3\n",
    "n = 4\n",
    "A = np.zeros((m,n))\n",
    "for i in range(m):\n",
    "    for j in range(n):\n",
    "        A[i,j] = (i+1)/(j+1)\n",
    "print(A)"
   ]
  },
  {
   "cell_type": "code",
   "execution_count": 30,
   "metadata": {},
   "outputs": [
    {
     "data": {
      "text/plain": [
       "array([[1.        , 0.5       , 0.33333333, 0.25      ],\n",
       "       [2.        , 1.        , 0.66666667, 0.5       ],\n",
       "       [3.        , 1.5       , 1.        , 0.75      ]])"
      ]
     },
     "execution_count": 30,
     "metadata": {},
     "output_type": "execute_result"
    }
   ],
   "source": [
    "A = [[(i+1)/(j+1) for j in range(n)] for i in range(m)]\n",
    "np.array(A)"
   ]
  },
  {
   "cell_type": "code",
   "execution_count": null,
   "metadata": {},
   "outputs": [],
   "source": []
  },
  {
   "cell_type": "markdown",
   "metadata": {},
   "source": [
    "4) for a n-by-n matrix $A$, compute the k-th power $A^k$."
   ]
  },
  {
   "cell_type": "code",
   "execution_count": 31,
   "metadata": {},
   "outputs": [
    {
     "name": "stdout",
     "output_type": "stream",
     "text": [
      "[[2 0]\n",
      " [0 3]]\n",
      "[[ 8  0]\n",
      " [ 0 27]]\n"
     ]
    }
   ],
   "source": [
    "A = np.array([[2,0],[0,3]])\n",
    "print(A)\n",
    "k = 3\n",
    "B = A\n",
    "if k>1:\n",
    "    for i in range(k-1):\n",
    "        B = B @ A\n",
    "print(B)"
   ]
  },
  {
   "cell_type": "code",
   "execution_count": 32,
   "metadata": {},
   "outputs": [
    {
     "name": "stdout",
     "output_type": "stream",
     "text": [
      "[[ 0.21492797  0.          0.        ]\n",
      " [ 0.         -2.40175617  0.        ]\n",
      " [ 0.          0.          0.87200628]]\n",
      "[[0.04619403 0.         0.        ]\n",
      " [0.         5.76843271 0.        ]\n",
      " [0.         0.         0.76039496]]\n"
     ]
    }
   ],
   "source": [
    "n = 3\n",
    "A = np.diag(np.random.randn(n))\n",
    "print(A)\n",
    "k = 2\n",
    "B = np.eye(len(A))\n",
    "for i in range(k):\n",
    "    B = B @ A\n",
    "print(B)"
   ]
  },
  {
   "cell_type": "code",
   "execution_count": null,
   "metadata": {},
   "outputs": [],
   "source": []
  }
 ],
 "metadata": {
  "kernelspec": {
   "display_name": "Python 3 (ipykernel)",
   "language": "python",
   "name": "python3"
  },
  "language_info": {
   "codemirror_mode": {
    "name": "ipython",
    "version": 3
   },
   "file_extension": ".py",
   "mimetype": "text/x-python",
   "name": "python",
   "nbconvert_exporter": "python",
   "pygments_lexer": "ipython3",
   "version": "3.9.16"
  }
 },
 "nbformat": 4,
 "nbformat_minor": 4
}
