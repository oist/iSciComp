{
 "cells": [
  {
   "cell_type": "markdown",
   "metadata": {},
   "source": [
    "# Introduction to Scientific Computing\n",
    "\n",
    "Kenji Doya  \n",
    "August 2023 in Paris"
   ]
  },
  {
   "cell_type": "markdown",
   "metadata": {},
   "source": [
    "## Aim of this Book\n",
    "\n",
    "This book aims to provide students from non-computational backgrounds with the basic knowledge and practical skills of computing that are required in almost all fields of science today.\n",
    "\n",
    "It also tries help students' intuitive understanding of basic mathamatical concepts like eigenvalues and stability through computation and visualization.\n",
    "\n",
    "Python is used as the standard programming language, but the concepts covered can be helpful also in using other computing tools for data analysis and simulation.\n",
    "\n",
    "### Jupyter Book\n",
    "\n",
    "This book is made by *Jupyter Book* (https://jupyterbook.org).\n",
    "An important feature is that you can download the source codes as Jupyter Notebook by the Download icon on the top right corner of each chapter.\n",
    "\n",
    "Rather than just reading the html or pdf text, please run the codes, change parameters, apply your own data, and modify the codes to see how the algorithms really work (or fails)."
   ]
  },
  {
   "cell_type": "markdown",
   "metadata": {},
   "source": [
    "## Book Contents\n",
    "\n",
    "Chapter             | Topic | Items covered\n",
    ":------------|:-----------|:------------\n",
    "1 | Introduction to Python | python, jupyter; data types, for loop\n",
    "2 | Visualization | matplotlib\n",
    "3 | Vectors and matrices | numpy; eigenvalue/vector\n",
    "4 | Functions and classes | name space, object oriented programming\n",
    "5 | Iterative computation | Newton method, discrete-time dynamics\n",
    "6 | Ordinary differential equation | scipy; Euler method, stability\n",
    "7 | Partial differential equation | finite-difference method\n",
    "8 | Optimization | gradient descent, Gauss-Newton method\n",
    "9 | Sampling methods | Monte Carlo methods, evolutionary algorithms\n",
    "10 | Software management | version control system, GitHub"
   ]
  },
  {
   "cell_type": "markdown",
   "metadata": {},
   "source": [
    "## Why Computation?\n",
    "* Theoretical analysis often requires simplifying assumptions.  \n",
    "* Thought experiment is limited/biased by the experimenter's thinking.\n",
    "* Huge data set is impossible to comprehend withtout numerical processing.\n",
    "* ..."
   ]
  },
  {
   "cell_type": "markdown",
   "metadata": {},
   "source": [
    "## Which Tools to Use\n",
    "There are a bunch to programming languages and tools to choose from.  \n",
    "### General programming languages\n",
    "* Fortran\n",
    "* C\n",
    "* C++\n",
    "* Java\n",
    "* MATLAB\n",
    "* Python\n",
    "\n",
    "### Special purpose tools\n",
    "* Statistics: SPSS, S, R,...\n",
    "* Genomics: BLAST,...\n",
    "* MRI: SPM, VBM,...\n",
    "* Neuroscience: NEURON, NEST,...\n",
    "\n",
    "### How to select?\n",
    "- Satifsy your present need?\n",
    "- Future usability\n",
    "- User community"
   ]
  },
  {
   "cell_type": "markdown",
   "metadata": {},
   "source": [
    "## How to Learn?\n",
    "* Textbooks\n",
    "* Online documents\n",
    "* Online courses\n",
    "* Read experts' codes!\n",
    "* Modify for your needs\n",
    "* Try coding from scratch\n",
    "* ..."
   ]
  },
  {
   "cell_type": "markdown",
   "metadata": {},
   "source": [
    "## References\n",
    "\n",
    "### Python\n",
    "* Python Tutorial {cite}`PythonTutorial` (https://docs.python.org/3/tutorial)\n",
    "* Scientific Python Lectures {cite}`SciPyLectures` (http://www.scipy-lectures.org)\n",
    "\n",
    "### Scientific Computing\n",
    "* Programming for Computation - Python {cite}`Linge2016` (https://doi.org/10.1007/978-3-319-32428-9}\n",
    "* Good enough practices in scientific computing {cite}`Wilson2017` (https://doi.org/10.1371/journal.pcbi.1005510)"
   ]
  },
  {
   "cell_type": "markdown",
   "metadata": {
    "collapsed": true
   },
   "source": [
    "# Table of Contents\n",
    "\n",
    "```{tableofcontents}\n",
    "```"
   ]
  },
  {
   "cell_type": "code",
   "execution_count": null,
   "metadata": {},
   "outputs": [],
   "source": []
  }
 ],
 "metadata": {
  "kernelspec": {
   "display_name": "Python 3 (ipykernel)",
   "language": "python",
   "name": "python3"
  },
  "language_info": {
   "codemirror_mode": {
    "name": "ipython",
    "version": 3
   },
   "file_extension": ".py",
   "mimetype": "text/x-python",
   "name": "python",
   "nbconvert_exporter": "python",
   "pygments_lexer": "ipython3",
   "version": "3.9.16"
  },
  "toc": {
   "base_numbering": 1,
   "nav_menu": {},
   "number_sections": false,
   "sideBar": true,
   "skip_h1_title": false,
   "title_cell": "Table of Contents",
   "title_sidebar": "Contents",
   "toc_cell": true,
   "toc_position": {},
   "toc_section_display": true,
   "toc_window_display": false
  },
  "varInspector": {
   "cols": {
    "lenName": 16,
    "lenType": 16,
    "lenVar": 40
   },
   "kernels_config": {
    "python": {
     "delete_cmd_postfix": "",
     "delete_cmd_prefix": "del ",
     "library": "var_list.py",
     "varRefreshCmd": "print(var_dic_list())"
    },
    "r": {
     "delete_cmd_postfix": ") ",
     "delete_cmd_prefix": "rm(",
     "library": "var_list.r",
     "varRefreshCmd": "cat(var_dic_list()) "
    }
   },
   "types_to_exclude": [
    "module",
    "function",
    "builtin_function_or_method",
    "instance",
    "_Feature"
   ],
   "window_display": false
  }
 },
 "nbformat": 4,
 "nbformat_minor": 2
}
