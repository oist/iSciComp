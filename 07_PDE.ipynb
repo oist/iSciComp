{
 "cells": [
  {
   "cell_type": "markdown",
   "metadata": {},
   "source": [
    "# 7. Partial Differential Equations\n",
    "\n",
    "References:\n",
    "* Svein Linge & Hans Petter Langtangen: Programming for Computations – Python. Springer (2016). \n",
    "    - Chapter 5: Solving Partial Differential Equations"
   ]
  },
  {
   "cell_type": "code",
   "execution_count": null,
   "metadata": {},
   "outputs": [],
   "source": [
    "import numpy as np\n",
    "import matplotlib.pyplot as plt\n",
    "%matplotlib inline"
   ]
  },
  {
   "cell_type": "markdown",
   "metadata": {},
   "source": [
    "### Partial derivative\n",
    "For a function with multiple inputs $f(x_1,...,x_n)$, a *partial derivative* is the derivative with respect to an input $x_i$ while other inputs are held constant.\n",
    "\n",
    "$$\\frac{\\partial f(x_1,...,x_n)}{\\partial x_i}\n",
    " = \\lim_{\\Delta x \\rightarrow 0} \\frac{f(x_1,...,x_i+\\Delta x,...,x_n) - f(x_1,...,x_i,...,x_n)}{\\Delta x}$$\n",
    " \n",
    "For example, for \n",
    "\n",
    "$$ f(x,y) = e^{x} \\sin y, $$\n",
    "\n",
    "partial derivatives are\n",
    "\n",
    "$$ \\frac{\\partial f(x,y)}{\\partial x} = e^{x} \\sin y $$\n",
    "\n",
    "$$ \\frac{\\partial f(x,y)}{\\partial y} = e^{x} \\cos y $$"
   ]
  },
  {
   "cell_type": "code",
   "execution_count": null,
   "metadata": {},
   "outputs": [],
   "source": [
    "x, y = np.meshgrid(np.linspace(0, 2, 20), np.linspace(-3, 3, 20))\n",
    "f = np.exp(x) * np.sin(y)\n",
    "dfdx = np.exp(x) * np.sin(y)\n",
    "dfdy = np.exp(x) * np.cos(y)\n",
    "# 3D plot\n",
    "fig = plt.figure(figsize=(8, 8))\n",
    "ax = fig.add_subplot(projection='3d')\n",
    "ax.plot_surface(x, y, f, cmap='viridis')\n",
    "x0 = np.zeros_like(x)\n",
    "x1 = np.ones_like(x)\n",
    "ax.quiver(x, y, f, x1, x0, dfdx, color='g', length=0.2)\n",
    "ax.quiver(x, y, f, x0, x1, dfdy, color='r', length=0.2)\n",
    "plt.xlabel('x'); plt.ylabel('y');"
   ]
  },
  {
   "cell_type": "code",
   "execution_count": null,
   "metadata": {},
   "outputs": [],
   "source": []
  },
  {
   "cell_type": "markdown",
   "metadata": {},
   "source": [
    "## Partial Differential Equation (PDE)\n",
    "A *partial differential equation (PDE)* is an equation that includes partial derivatives\n",
    "\n",
    "$$\\frac{\\partial f(x_1,...,x_n)}{\\partial x_i}$$\n",
    "\n",
    "of an unknown function $f(x_1,...,x_n)$.\n",
    "\n",
    "A typical case is a function in space and time $y(x,t).$\n",
    "\n",
    "A simple example is the *diffusion equation* (or heat equation)\n",
    "\n",
    "$$ \\frac{\\partial y(x,t)}{\\partial t} = D \\frac{\\partial^2 y(x,t)}{\\partial x^2} + g(y,x,t)  $$\n",
    "\n",
    "that describes the evolution of concentration (or temperature) $y$ in space $x$ and time $t$ with input $g(y,x,t)$ and the diffusion coefficient $D$."
   ]
  },
  {
   "cell_type": "markdown",
   "metadata": {},
   "source": [
    "## Analytic Solution of PDE\n",
    "For a diffusion equation without input\n",
    "\n",
    "$$ \\frac{\\partial y}{\\partial t} = D \\frac{\\partial^2 y}{\\partial x^2}, $$\n",
    "\n",
    "the solution is given by *separation of variables*.\n",
    "\n",
    "By assuming that the solution is a product of temporal and spatial components $y(x,t) = u(t) v(x)$, the PDE becomes \n",
    "\n",
    "$$ \\frac{\\partial u(t)}{\\partial t} v(x)= D u(t) \\frac{\\partial^2 v(x)}{\\partial x^2} $$\n",
    "\n",
    "$$ \\frac{1}{Du(t)}\\frac{\\partial u(t)}{\\partial t} = \\frac{1}{v(x)}\\frac{\\partial^2 v(x)}{\\partial x^2} $$\n",
    "\n",
    "For this equation to hold for any $t$ and $x$, a possible solution is for both sides to be a constant $C$. Then we have two separate ODEs:\n",
    "\n",
    "$$ \\frac{du(t)}{dt} = C D u(t) $$\n",
    "\n",
    "$$ \\frac{d^2v(x)}{dx^2} = C v(x) $$\n",
    "\n",
    "for which we know analitic solutions.  \n",
    "\n",
    "By setting $C=-b^2\\le 0$, we have\n",
    "\n",
    "$$ u(t) = C_0 e^{-b^2 Dt}, $$\n",
    "\n",
    "$$ v(x) = C_1 \\sin bx + C_2 \\cos bx. $$\n",
    "\n",
    "Thus we have a solution\n",
    "\n",
    "$$ y(x,t) = e^{-b^2 Dt}( C_1 \\sin bx + C_2 \\cos bx) $$\n",
    "\n",
    "where $b$, $C_1$ and $C_2$ are determined by the initial condition $y(x,0)$.  \n",
    "The equation tells us that higher spatial frequency components decay quiker."
   ]
  },
  {
   "cell_type": "markdown",
   "metadata": {
    "collapsed": true
   },
   "source": [
    "### Boundary condition\n",
    "For uniquely specifying a solution of a PDE in a bounded area, e.g., $x_0<x<x_1$, we need to specify either \n",
    "* the value $y(x,t)$ (Dirichlet boundary condition) \n",
    "* or the derivative $\\frac{\\partial y(x,t)}{\\partial x}$ (Neumann boundary condition)  \n",
    "\n",
    "at the boundary $x_0$ and $x_1$ to uniquely determine the solution."
   ]
  },
  {
   "cell_type": "code",
   "execution_count": null,
   "metadata": {},
   "outputs": [],
   "source": []
  },
  {
   "cell_type": "markdown",
   "metadata": {},
   "source": [
    "## From PDE to ODE\n",
    "The standard way of dealing with space and time on a digital computer is to discretize them. For a PDE \n",
    "\n",
    "$$ \\frac{\\partial y}{\\partial t} = D \\frac{\\partial^2 y}{\\partial x^2} + g(y,x,t), $$\n",
    "\n",
    "defined in a range $x_0 \\le x \\le x_0+L$, we consider a spatial discretization by $\\Delta x = L/N$ \n",
    "\n",
    "$$ x_i = x_0 + i\\Delta x $$\n",
    "\n",
    "$(i=0,...,N)$ and\n",
    "\n",
    "$$ y_i(t) = y(x_i,t).$$\n",
    "\n",
    "The derivative of $y$ with respect to $x$ at $x=x_i$ can be approximated by\n",
    "\n",
    "$$ \\frac{\\partial y}{\\partial x} \\simeq \\frac{y_{i+1}-y_i}{\\Delta x} $$\n",
    "\n",
    "or \n",
    "\n",
    "$$ \\frac{\\partial y}{\\partial x} \\simeq \\frac{y_i-y_{i-1}}{\\Delta x} $$\n",
    "\n",
    "The second order derivative is approximated, to make it symmetric in both directions, as\n",
    "\n",
    "$$ \\frac{\\partial^2 y}{\\partial x^2}\n",
    "\\simeq \\frac{\\frac{y_{i+1}-y_i}{\\Delta x} - \\frac{y_i-y_{i-1}}{\\Delta x}}{\\Delta x}\n",
    "= \\frac{y_{i+1}-2y_i+y_{i-1}}{\\Delta x^2} $$\n",
    "\n",
    "Then the PDE can be approximated by a set of ODEs\n",
    "\n",
    "$$ \\frac{dy_i}{dt} = D \\frac{y_{i+1}-2y_i+y_{i-1}}{\\Delta x^2} + g(y_i,x_i,t). $$\n"
   ]
  },
  {
   "cell_type": "markdown",
   "metadata": {},
   "source": [
    "## Euler method\n",
    "First, let us solve the converted ODE by Eulre method."
   ]
  },
  {
   "cell_type": "code",
   "execution_count": null,
   "metadata": {},
   "outputs": [],
   "source": [
    "def euler(f, y0, dt, n, args=()):\n",
    "    \"\"\"f: righthand side of ODE dy/dt=f(y,t)\n",
    "        y0: initial condition y(0)=y0\n",
    "        dt: time step\n",
    "        n: iteratons\n",
    "        args: parameter for f(y,t,*args)\"\"\"\n",
    "    d = np.array([y0]).size  ## state dimension\n",
    "    y = np.zeros((n+1, d))\n",
    "    y[0] = y0\n",
    "    t = 0\n",
    "    for k in range(n):\n",
    "        y[k+1] = y[k] + f(y[k], t, *args)*dt\n",
    "        t = t + dt\n",
    "    return y"
   ]
  },
  {
   "cell_type": "markdown",
   "metadata": {},
   "source": [
    "The second order derivative can be computed by shifting the array $y$ to left and right, and subtracting double the original array."
   ]
  },
  {
   "cell_type": "code",
   "execution_count": null,
   "metadata": {},
   "outputs": [],
   "source": [
    "def diff1D(y, t, x, D, inp=None):\n",
    "    \"\"\"1D Diffusion equaiton with constant boundary condition\n",
    "    y: state vector\n",
    "    t: time\n",
    "    x: positions\n",
    "    D: diffusion coefficient\n",
    "    input: function(y,x,t)\"\"\"\n",
    "    dx = x[1] - x[0]  # space step\n",
    "    # shift to left and right and subtract, with both ends cut\n",
    "    d2ydx2 = (y[:-2] -2*y[1:-1] + y[2:])/dx**2\n",
    "    # add 0 to both ends for Dirichlet boundary condition\n",
    "    d2ydx2 = np.hstack((0, d2ydx2, 0))\n",
    "    if inp == None:\n",
    "        return D*d2ydx2\n",
    "    else:\n",
    "        return D*d2ydx2 + inp(y, x, t)"
   ]
  },
  {
   "cell_type": "markdown",
   "metadata": {},
   "source": [
    "Let us try with an initial peak somewhere in the middle."
   ]
  },
  {
   "cell_type": "code",
   "execution_count": null,
   "metadata": {},
   "outputs": [],
   "source": [
    "Lx = 5   # length\n",
    "N = 20   # division in space\n",
    "x = np.linspace(0, Lx, N+1)  # positions\n",
    "y0 = np.zeros_like(x)  # initial condition\n",
    "y0[5] = 1   # 1 at left end"
   ]
  },
  {
   "cell_type": "code",
   "execution_count": null,
   "metadata": {},
   "outputs": [],
   "source": [
    "D = 0.1  # diffusion constant\n",
    "dt = 0.1 # time step\n",
    "ts = 10.   # time for solution\n",
    "y = euler(diff1D, y0, dt, int(ts/dt), (x, D))\n",
    "# spatial pattern at different time\n",
    "plt.plot(x, y.T)\n",
    "plt.xlabel(\"x\"); plt.ylabel(\"y\");"
   ]
  },
  {
   "cell_type": "code",
   "execution_count": null,
   "metadata": {},
   "outputs": [],
   "source": [
    "# evolution of each point in time\n",
    "t = np.arange(0,ts+dt,dt)\n",
    "plt.plot(t,y)\n",
    "plt.xlabel(\"t\"); plt.ylabel(\"y\");"
   ]
  },
  {
   "cell_type": "code",
   "execution_count": null,
   "metadata": {},
   "outputs": [],
   "source": [
    "# plot in space and time\n",
    "plt.imshow(y.T, origin='lower', extent=(0, ts, 0, Lx))\n",
    "plt.xlabel(\"t\"); plt.ylabel(\"x\");"
   ]
  },
  {
   "cell_type": "code",
   "execution_count": null,
   "metadata": {},
   "outputs": [],
   "source": []
  },
  {
   "cell_type": "markdown",
   "metadata": {},
   "source": [
    "The accuracy of solution depends on the fineness of discretization in space and time.\n",
    "\n",
    "Let us try a finer spatial division."
   ]
  },
  {
   "cell_type": "code",
   "execution_count": null,
   "metadata": {},
   "outputs": [],
   "source": [
    "N = 40  # discretization in space\n",
    "x = np.linspace(0, Lx, N+1)\n",
    "y0 = np.zeros_like(x)  # initial condition\n",
    "y0[10] = 1   # initial peak at x=10/50\n",
    "y = euler(diff1D, y0, dt, int(ts/dt), (x, D))\n",
    "# evolution of spatial pattern\n",
    "plt.plot(x, y.T)\n",
    "plt.xlabel(\"x\"); plt.ylabel(\"y\");"
   ]
  },
  {
   "cell_type": "markdown",
   "metadata": {},
   "source": [
    "In the diffusion equation, peaks are pulled down and dips are pushed up, and that can cause spatial instability if the time step is too large."
   ]
  },
  {
   "cell_type": "code",
   "execution_count": null,
   "metadata": {},
   "outputs": [],
   "source": [
    "# plot in space and time\n",
    "plt.imshow(y[:10].T, origin='lower', extent=(0, ts, 0, Lx))\n",
    "plt.xlabel(\"t\"); plt.ylabel(\"x\");"
   ]
  },
  {
   "cell_type": "code",
   "execution_count": null,
   "metadata": {},
   "outputs": [],
   "source": []
  },
  {
   "cell_type": "markdown",
   "metadata": {},
   "source": [
    "### Stability\n",
    "For an accurate solution, $\\Delta x$ have to be small. But making $\\Delta x$ small can make the ODE *stiff* such that solution can be unstable.  \n",
    "It is known that stable solution by Euler method requires\n",
    "\n",
    "$$ \\Delta t \\le \\frac{\\Delta x^2}{2D}. $$\n",
    "\n",
    "In the above example, $\\Delta t=0.1$ was over the limit:"
   ]
  },
  {
   "cell_type": "code",
   "execution_count": null,
   "metadata": {},
   "outputs": [],
   "source": [
    "(Lx/N)**2/(2*D)"
   ]
  },
  {
   "cell_type": "code",
   "execution_count": null,
   "metadata": {},
   "outputs": [],
   "source": []
  },
  {
   "cell_type": "markdown",
   "metadata": {},
   "source": [
    "## By odeint\n",
    "The above stability issue can be worked around by using an ODE library that implements automatic time step adaptation, such as odeint."
   ]
  },
  {
   "cell_type": "code",
   "execution_count": null,
   "metadata": {},
   "outputs": [],
   "source": [
    "from scipy.integrate import odeint"
   ]
  },
  {
   "cell_type": "code",
   "execution_count": null,
   "metadata": {},
   "outputs": [],
   "source": [
    "Lx = 5   # length\n",
    "N = 40\n",
    "x = np.linspace(0, Lx, N+1)\n",
    "y0 = np.zeros_like(x)  # initial condition\n",
    "y0[10] = 1\n",
    "D = 0.1  # diffusion constant\n",
    "dt = 0.1\n",
    "ts = 10\n",
    "t = np.arange(0, ts, dt)\n",
    "y = odeint(diff1D, y0, t, (x, D))\n",
    "# evolution of spatial pattern\n",
    "p = plt.plot(x, y.T)\n",
    "plt.xlabel(\"x\"); plt.ylabel(\"y\");"
   ]
  },
  {
   "cell_type": "markdown",
   "metadata": {},
   "source": [
    "Let us see the case with an input."
   ]
  },
  {
   "cell_type": "code",
   "execution_count": null,
   "metadata": {},
   "outputs": [],
   "source": [
    "def pulse(y, x, t):\n",
    "    \"\"\"1 for 1<x<2 at 1<t<2\"\"\"\n",
    "    return (1<x)*(x<2)*(1<t)*(t<2)*1."
   ]
  },
  {
   "cell_type": "code",
   "execution_count": null,
   "metadata": {},
   "outputs": [],
   "source": [
    "N = 40\n",
    "x = np.linspace(0, Lx, N+1)\n",
    "y0 = np.zeros_like(x)  # initial condition\n",
    "t = np.arange(0, ts, dt)\n",
    "y = odeint(diff1D, y0, t, (x, D, pulse))\n",
    "# plot in space and time\n",
    "plt.imshow(y.T, origin='lower', extent=(0, ts, 0, Lx))\n",
    "plt.xlabel(\"t\"); plt.ylabel(\"x\");"
   ]
  },
  {
   "cell_type": "code",
   "execution_count": null,
   "metadata": {},
   "outputs": [],
   "source": []
  },
  {
   "cell_type": "markdown",
   "metadata": {},
   "source": [
    "## 3D plot and animation\n",
    "For more intuitive visualization of the space-time dynamics, you may want to use 3D plot or animation."
   ]
  },
  {
   "cell_type": "code",
   "execution_count": null,
   "metadata": {},
   "outputs": [],
   "source": [
    "# uncomment the line below for interactive graphics\n",
    "#%matplotlib notebook"
   ]
  },
  {
   "cell_type": "code",
   "execution_count": null,
   "metadata": {},
   "outputs": [],
   "source": [
    "# plot in 3D\n",
    "fig = plt.figure()\n",
    "ax = fig.add_subplot(projection='3d')\n",
    "T, X = np.meshgrid(t, x)\n",
    "ax.plot_surface(T, X, y[:,:N+1].T, cmap='viridis')\n",
    "plt.xlabel(\"t\"); plt.ylabel(\"x\"); "
   ]
  },
  {
   "cell_type": "code",
   "execution_count": null,
   "metadata": {},
   "outputs": [],
   "source": [
    "from matplotlib import animation"
   ]
  },
  {
   "cell_type": "code",
   "execution_count": null,
   "metadata": {},
   "outputs": [],
   "source": [
    "fig = plt.figure()\n",
    "frames = []  # prepare frame\n",
    "for i, ti in enumerate(t):\n",
    "    p = plt.plot(x, y[i], 'b')\n",
    "    plt.xlabel(\"x\"); plt.ylabel(\"y\");\n",
    "    frames.append(p)    \n",
    "anim = animation.ArtistAnimation(fig, frames, interval = 10)"
   ]
  },
  {
   "cell_type": "code",
   "execution_count": null,
   "metadata": {},
   "outputs": [],
   "source": [
    "%matplotlib inline"
   ]
  },
  {
   "cell_type": "code",
   "execution_count": null,
   "metadata": {},
   "outputs": [],
   "source": []
  },
  {
   "cell_type": "markdown",
   "metadata": {},
   "source": [
    "## Boundary Conditions\n",
    "\n",
    "As briefly mentioned above, there are two typical ways of specifying the *boundary condition*:\n",
    "\n",
    "* Dirichlet boundary condition: the value $y(x_0,t)=y_0$ or  $y(x_N,t)=y_N$\n",
    "    - concentration at an open end of a tube to a water bath.\n",
    "    - voltage of an electric cable attached to the ground or a strong battery.\n",
    "\n",
    "* Neumann boundary condition: the derivative $\\left.\\frac{\\partial y(x,t)}{\\partial x}\\right|_{x_0}=y'_0$ or\n",
    " $\\left.\\frac{\\partial y(x,t)}{\\partial x}\\right|_{x_N}=y'_N$\n",
    "    - concentration at a closed end of a tube (no molecular flow).\n",
    "    - voltage at a dead end of an electric cable.\n",
    "\n",
    "We already implemented Dirichlet boundary condition in `diff1D()`.\n",
    "\n",
    "Let us implement a Neumann boundary condition at the right end  $\\left.\\frac{\\partial y(x,t)}{\\partial x}\\right|_{x_N}=0$ and see the difference.\n",
    "\n",
    "A simple way is to use a one-sided differentiation\n",
    "\n",
    "$$ \\frac{\\partial y}{\\partial x} \\simeq \\frac{y_{N+1}-y_{N}}{\\Delta x}=0$$\n",
    "\n",
    "which reduces to $y_{N+1}=y_{N}$ and \n",
    "\n",
    "$$ \\frac{dy_N}{dt} = D \\frac{y_{N-1} - 2y_N + y_{N+1}}{\\Delta x^2} \n",
    "= D \\frac{y_{N-1} - y_N}{\\Delta x^2}.$$\n",
    "\n",
    "A better way is to use a symmetric differentiation\n",
    "\n",
    "$$ \\frac{\\partial y}{\\partial x} \\simeq \\frac{y_{N+1}-y_{N-1}}{2\\Delta x}=0$$\n",
    "\n",
    "which reduces to $y_{N+1}=y_{N-1}$ and \n",
    "\n",
    "$$ \\frac{dy_N}{dt} = D \\frac{y_{N-1} - 2y_N + y_{N+1}}{\\Delta x^2} \n",
    "= 2D \\frac{y_{N-1} - y_N}{\\Delta x^2}.$$"
   ]
  },
  {
   "cell_type": "code",
   "execution_count": null,
   "metadata": {},
   "outputs": [],
   "source": [
    "def diff1DN(y, t, x, D, inp=None):\n",
    "    \"\"\"1D Diffusion equaiton with boundary conditions\n",
    "    y_0=0 on the left and dy/dx|x_N=0 on the right end.\n",
    "    y: state vector\n",
    "    t: time\n",
    "    x: positions\n",
    "    D: diffusion coefficient\n",
    "    input: function(y,x,t)\"\"\"\n",
    "    # spatial step\n",
    "    dx = x[1] - x[0]\n",
    "    # shift array to left and right\n",
    "    d2ydx2 = (y[:-2] -2*y[1:-1] + y[2:])/dx**2\n",
    "    # Dirichlet on the left, Neumann on the right end\n",
    "    d2ydx2 = np.hstack((0, d2ydx2, 2*(y[-2] - y[-1])/dx**2))\n",
    "    if inp == None:\n",
    "        return(D*d2ydx2)\n",
    "    else:\n",
    "        return(D*d2ydx2 + inp(y, x, t))"
   ]
  },
  {
   "cell_type": "markdown",
   "metadata": {},
   "source": [
    "For example, from the initial bump in the center, the spreads to both sides are quite different."
   ]
  },
  {
   "cell_type": "code",
   "execution_count": null,
   "metadata": {},
   "outputs": [],
   "source": [
    "N = 40\n",
    "x = np.linspace(0, Lx, N+1)\n",
    "y0 = np.zeros_like(x)  # initial condition\n",
    "y0[16:25] = 1\n",
    "ts = 10\n",
    "t = np.arange(0, ts, dt)\n",
    "y = odeint(diff1DN, y0, t, (x, D))\n",
    "# evolution of spatial pattern\n",
    "plt.plot(x, y.T)\n",
    "plt.xlabel(\"x\"); plt.ylabel(\"y\");"
   ]
  },
  {
   "cell_type": "code",
   "execution_count": null,
   "metadata": {},
   "outputs": [],
   "source": []
  },
  {
   "cell_type": "markdown",
   "metadata": {},
   "source": [
    "## Wave Equation\n",
    "\n",
    "PDE with a second-order dynamics can represent traveling waves. The *wave equation* has the standard form\n",
    "\n",
    "$$ \\frac{\\partial^2 u}{\\partial t^2} + d\\frac{\\partial u}{\\partial t} = c^2 \\frac{\\partial^2 u}{\\partial x^2}$$\n",
    "\n",
    "where $c$ is the wave speed and $d$ is the decay rate.\n",
    "\n",
    "We convert the second-order system to a set of first order systems by consiering a vector $y=(u,v)$ representing the amplitude $u$ and its change rate $v$:\n",
    "\n",
    "$$ \\frac{\\partial u}{\\partial t} = v $$\n",
    "\n",
    "$$ \\frac{\\partial v}{\\partial t} = c^2 \\frac{\\partial^2 u}{\\partial x^2} - dv $$"
   ]
  },
  {
   "cell_type": "code",
   "execution_count": null,
   "metadata": {},
   "outputs": [],
   "source": [
    "def wave1D(y, t, x, c, d, inp=None):\n",
    "    \"\"\"1D wave equaiton with constant boundary\n",
    "    y: state vector hstack(u, v)\n",
    "    t: time\n",
    "    x: positions\n",
    "    c: wave speed\n",
    "    input: function(y,x,t)\"\"\"\n",
    "    n = int(len(y)/2)\n",
    "    u, v = y[:n], y[n:]\n",
    "    dx = x[1] - x[0]\n",
    "    # finite different approximation\n",
    "    d2udx2 = (u[:-2] -2*u[1:-1] + u[2:])/dx**2\n",
    "    d2udx2 = np.hstack((0, d2udx2, 0))  # add 0 to both ends\n",
    "    if inp == None:\n",
    "        return np.hstack((v, c**2*d2udx2 - d*v))\n",
    "    else:\n",
    "        return np.hstack((v, c**2*d2udx2 - d*v + inp(y, x, t)))"
   ]
  },
  {
   "cell_type": "code",
   "execution_count": null,
   "metadata": {},
   "outputs": [],
   "source": [
    "Lx = 10\n",
    "N = 100\n",
    "x = np.linspace(0, Lx, N+1)\n",
    "c = 1.  # wave speed\n",
    "d = 0.1\n",
    "ts = 30\n",
    "dt = 0.1\n",
    "t = np.arange(0, ts, dt)\n",
    "y0 = np.zeros(2*(N+1))  # initial condition\n",
    "#y0[20:40] = 1\n",
    "#y = odeint(wave1D, y0, t, (x, c, d))\n",
    "y = odeint(wave1D, y0, t, (x, c, d, pulse))\n",
    "# plot in space and time\n",
    "# show only first dimension\n",
    "plt.imshow(y[:,:N+1].T, origin='lower', extent=(0, ts, 0, Lx))\n",
    "plt.xlabel(\"t\"); plt.ylabel(\"x\");"
   ]
  },
  {
   "cell_type": "code",
   "execution_count": null,
   "metadata": {},
   "outputs": [],
   "source": [
    "#evolution in spatial pattern\n",
    "plt.plot(x, y[:,:N+1].T)  # only first dimension\n",
    "plt.xlabel(\"x\"); plt.ylabel(\"u\"); "
   ]
  },
  {
   "cell_type": "code",
   "execution_count": null,
   "metadata": {},
   "outputs": [],
   "source": [
    "# plot in 3D\n",
    "fig = plt.figure(figsize=(8, 8))\n",
    "ax = fig.add_subplot(projection='3d')\n",
    "T, X = np.meshgrid(t, x)\n",
    "ax.plot_surface(T, X, y[:,:N+1].T, cmap='viridis')\n",
    "plt.xlabel(\"t\"); plt.ylabel(\"x\"); "
   ]
  },
  {
   "cell_type": "code",
   "execution_count": null,
   "metadata": {},
   "outputs": [],
   "source": [
    "fig = plt.figure()\n",
    "frames = []  # prepare frame\n",
    "for i, ti in enumerate(t):\n",
    "    p = plt.plot(x, y[i,:N+1])\n",
    "    plt.xlabel(\"x\"); plt.ylabel(\"y\");\n",
    "    frames.append(p)    \n",
    "anim = animation.ArtistAnimation(fig, frames, interval = 10)"
   ]
  },
  {
   "cell_type": "code",
   "execution_count": null,
   "metadata": {},
   "outputs": [],
   "source": []
  },
  {
   "cell_type": "markdown",
   "metadata": {},
   "source": [
    "## Reaction-Diffusion Equation\n",
    "Linear waves can decay, reflect, and overlay.  \n",
    "Some nonlinear waves, like neural spike, can travel without decaying.\n",
    "FitzHugh-Nagumo model can be embedded in a diffusive axon model\n",
    "\n",
    "$$ \\frac{\\partial v}{\\partial t} = v - \\frac{v^3}{3} - w + D\\frac{\\partial^2 v}{\\partial x^2} + I $$\n",
    "\n",
    "$$ \\frac{\\partial w}{\\partial t} = \\phi (v + a - bw) $$"
   ]
  },
  {
   "cell_type": "code",
   "execution_count": null,
   "metadata": {},
   "outputs": [],
   "source": [
    "def fhnaxon(y, t, x, inp=0, D=1, a=0.7, b=0.8, phi=0.08):\n",
    "    \"\"\"FitzHugh-Nagumo axon model\n",
    "    y: state vector hstack(v, w)\n",
    "    t: time\n",
    "    x: positions\n",
    "    I: input current\n",
    "    D: diffusion coefficient\n",
    "    \"\"\"\n",
    "    n = int(len(y)/2)\n",
    "    v, w = y[:n], y[n:]\n",
    "    # finite difference approximation\n",
    "    d2vdx2 = (v[:-2] -2*v[1:-1] + v[2:])/(x[1] - x[0])**2\n",
    "    d2vdx2 = np.hstack((0, d2vdx2, 0))  # add 0 to both ends\n",
    "    I = inp(y,x,t) if callable(inp) else inp # function or constant\n",
    "    dvdt = v - v**3/3 - w + D*d2vdx2 + I\n",
    "    dwdt = phi*(v + a -b*w)\n",
    "    return(np.hstack((dvdt, dwdt)))"
   ]
  },
  {
   "cell_type": "code",
   "execution_count": null,
   "metadata": {},
   "outputs": [],
   "source": [
    "def pulse2(y, x, t):\n",
    "    \"\"\"1 for 5<x<10 at 5<t<10\"\"\"\n",
    "    return (5<x)*(x<10)*(5<t)*(t<10)"
   ]
  },
  {
   "cell_type": "code",
   "execution_count": null,
   "metadata": {},
   "outputs": [],
   "source": [
    "Lx = 30\n",
    "N = 100\n",
    "x = np.linspace(0, Lx, N+1)\n",
    "y0 = np.zeros(2*(N+1))  # initial condition\n",
    "y0[0:N+1] = -1.2  # initialize near the resting state\n",
    "ts = 50\n",
    "dt = 0.5\n",
    "t = np.arange(0, ts, dt)\n",
    "y = odeint(fhnaxon, y0, t, (x, pulse2))\n",
    "# evolution of spatial pattern in time\n",
    "p = plt.plot(x, y[:,:N+1].T) # plot in space\n",
    "plt.xlabel(\"x\"); plt.ylabel(\"v\");"
   ]
  },
  {
   "cell_type": "code",
   "execution_count": null,
   "metadata": {},
   "outputs": [],
   "source": [
    "# in space and time\n",
    "plt.imshow(y[:,:N+1].T, origin='lower', extent=(0, ts, 0, Lx))\n",
    "plt.xlabel(\"t\"); plt.ylabel(\"x\");"
   ]
  },
  {
   "cell_type": "code",
   "execution_count": null,
   "metadata": {},
   "outputs": [],
   "source": [
    "#%matplotlib notebook"
   ]
  },
  {
   "cell_type": "code",
   "execution_count": null,
   "metadata": {
    "scrolled": true
   },
   "outputs": [],
   "source": [
    "# plot in 3D\n",
    "fig = plt.figure()\n",
    "ax = fig.add_subplot(projection='3d')\n",
    "T, X = np.meshgrid(t, x)\n",
    "ax.plot_surface(T, X, y[:,:N+1].T, cmap='viridis')\n",
    "plt.xlabel(\"t\"); plt.ylabel(\"x\"); "
   ]
  },
  {
   "cell_type": "code",
   "execution_count": null,
   "metadata": {},
   "outputs": [],
   "source": [
    "fig = plt.figure()\n",
    "frames = []  # prepare frame\n",
    "for i, ti in enumerate(t):\n",
    "    p = plt.plot(x, y[i,:N+1])\n",
    "    plt.xlabel(\"x\"); plt.ylabel(\"y\");\n",
    "    frames.append(p)    \n",
    "anim = animation.ArtistAnimation(fig, frames, interval = 10)"
   ]
  },
  {
   "cell_type": "markdown",
   "metadata": {},
   "source": [
    "### Cyclic Boundary Condition\n",
    "A practical way to approximate an infinitely large space without the effect of boundaries is to use the cyclic or periodic boundary condition, in which both ends of the space is assumed to be connected, like a ring, torus, etc.\n",
    "\n",
    "You can use `np.roll` function to shift the contents of an array as a ring."
   ]
  },
  {
   "cell_type": "code",
   "execution_count": null,
   "metadata": {},
   "outputs": [],
   "source": [
    "def fhnaxon_cb(y, t, x, inp=0, D=1, a=0.7, b=0.8, phi=0.08):\n",
    "    \"\"\"FitzHugh-Nagumo axon model\n",
    "    y: state vector hstack(v, w)\n",
    "    t: time\n",
    "    x: positions\n",
    "    I: input current\n",
    "    D: diffusion coefficient\n",
    "    \"\"\"\n",
    "    n = int(len(y)/2)\n",
    "    v, w = y[:n], y[n:]\n",
    "    # cyclic boundary condition\n",
    "    d2vdx2 = (np.roll(v,-1) -2*v + np.roll(v,1))/(x[1] - x[0])**2\n",
    "    # If inp is a function, call it with arguments. Otherwise take it as a constant\n",
    "    I = inp(y,x,t) if callable(inp) else inp\n",
    "    dvdt = v - v**3/3 - w + D*d2vdx2 + I\n",
    "    dwdt = phi*(v + a -b*w)\n",
    "    return(np.hstack((dvdt, dwdt)))"
   ]
  },
  {
   "cell_type": "code",
   "execution_count": null,
   "metadata": {},
   "outputs": [],
   "source": [
    "y = odeint(fhnaxon_cb, y0, t, (x, pulse2))\n",
    "# in space and time\n",
    "plt.imshow(y[:,:N+1].T, origin='lower', extent=(0, ts, 0, Lx))\n",
    "plt.xlabel(\"t\"); plt.ylabel(\"x\");"
   ]
  },
  {
   "cell_type": "markdown",
   "metadata": {},
   "source": [
    "In this example, the propagate in both directions and the one left at the bottom reappears from the top. Then the two spikes collide and disappear."
   ]
  },
  {
   "cell_type": "code",
   "execution_count": null,
   "metadata": {},
   "outputs": [],
   "source": []
  },
  {
   "cell_type": "markdown",
   "metadata": {},
   "source": [
    "## PDE in 2D space\n",
    "We can also model dynamics in two or higher dimension spate.\n",
    "\n",
    "The diffusion equation of a variable $y(x_1,x_2,t)$ in the 2D space is given by:\n",
    "\n",
    "$$\\frac{\\partial y}{\\partial t} = D\\frac{\\partial^2 y}{\\partial x_1^2} + D\\frac{\\partial^2 y}{\\partial x_2^2} + g(y, x, t)$$\n",
    "\n",
    "Using the Laplace operator (or Laplacian):\n",
    "\n",
    "$$\\nabla^2 = \\frac{\\partial^2}{\\partial x_1^2} + \\frac{\\partial^2}{\\partial x_2^2}$$\n",
    "\n",
    "the diffusion equation is represented as\n",
    "\n",
    "$$\\frac{\\partial y}{\\partial t} = D\\nabla^2 y + g(y, x, t)$$"
   ]
  },
  {
   "cell_type": "markdown",
   "metadata": {},
   "source": [
    "### Diffusion equation in 2D space\n",
    "Like the case in 1D space, we discretize the space in a 2D grid, and covert the PDF to ODE."
   ]
  },
  {
   "cell_type": "code",
   "execution_count": null,
   "metadata": {},
   "outputs": [],
   "source": [
    "def diff2D(y, t, x, D, inp=0):\n",
    "    \"\"\"1D Diffusion equaiton with constant boundary condition\n",
    "    y: states at (x0, x1)\n",
    "    t: time\n",
    "    x: positions (x0, x1) in meshgrid format\n",
    "    D: diffusion coefficient\n",
    "    inp: function(y,x,t) or number\"\"\"\n",
    "    n = np.array(x).shape[1:]  # grid size (n0, n1)\n",
    "    nn = n[0]*n[1]  # grid points n0*n1\n",
    "    y = y.reshape(n)  # linear to 2D\n",
    "    dx = [x[0,0,1]-x[0,0,0], x[1,1,0]-x[1,0,0]]  # space step\n",
    "    # Laplacian with cyclic boundary condition\n",
    "    Ly = (np.roll(y,-1,0)+np.roll(y,1,0)-2*y)/dx[0]**2 + (np.roll(y,-1,1)+np.roll(y,1,1)-2*y)/dx[1]**2\n",
    "    # fix the boundaris to 0 for Dirichlet condition\n",
    "    Ly[0,:] = Ly[-1,:] = Ly[:,0] = Ly[:,-1] = 0\n",
    "    dydt = D*Ly + (inp(y,x,t) if callable(inp) else inp)\n",
    "    return dydt.ravel()"
   ]
  },
  {
   "cell_type": "code",
   "execution_count": null,
   "metadata": {},
   "outputs": [],
   "source": [
    "L = 5\n",
    "N = 20\n",
    "x = np.array(np.meshgrid(np.linspace(0,L,N), np.linspace(0,L,N)))\n",
    "ts = 10\n",
    "dt = 0.1\n",
    "t = np.arange(0, ts, dt)\n",
    "D = 0.1\n",
    "y0 = np.zeros((N,N))  # initial condition\n",
    "y0[5:10,10:15] = 1  # initial bump\n",
    "y = odeint(diff2D, y0.ravel(), t, (x, D))"
   ]
  },
  {
   "cell_type": "code",
   "execution_count": null,
   "metadata": {},
   "outputs": [],
   "source": [
    "plt.figure(figsize=(8,3))\n",
    "for i in range(10):\n",
    "    plt.subplot(2, 5, i+1)\n",
    "    plt.imshow(y[10*i].reshape(N,N).T, vmin=0, vmax=1, origin='lower', extent=(0,L,0,L))\n",
    "    plt.title('t={:1.1f}'.format(t[10*i]))\n",
    "plt.tight_layout()"
   ]
  },
  {
   "cell_type": "code",
   "execution_count": null,
   "metadata": {},
   "outputs": [],
   "source": [
    "# animation\n",
    "fig = plt.figure()\n",
    "frames = []  # prepare frame\n",
    "for i, ti in enumerate(t):\n",
    "    p = plt.imshow(y[i].reshape(N,N).T, vmin=0, vmax=1, origin='lower', extent=(0,L,0,L))\n",
    "    frames.append([p])    \n",
    "anim = animation.ArtistAnimation(fig, frames, interval = 10)\n",
    "plt.xlabel(\"x1\"); plt.ylabel(\"x2\");"
   ]
  },
  {
   "cell_type": "code",
   "execution_count": null,
   "metadata": {},
   "outputs": [],
   "source": []
  },
  {
   "cell_type": "markdown",
   "metadata": {},
   "source": [
    "## PDE libraries\n",
    "\n",
    "Solution of PDE is computationally intensive, especially in 2D or higher dimensional space. For practical computation, it is better to use specialized libraries for solving PDEs, such as:\n",
    "\n",
    "* py-pde: https://py-pde.readthedocs.io\n",
    "* FiPy: https://www.ctcms.nist.gov/fipy\n",
    "* FEniCS: https://fenicsproject.org\n"
   ]
  },
  {
   "cell_type": "code",
   "execution_count": null,
   "metadata": {},
   "outputs": [],
   "source": []
  }
 ],
 "metadata": {
  "kernelspec": {
   "display_name": "Python 3 (ipykernel)",
   "language": "python",
   "name": "python3"
  },
  "language_info": {
   "codemirror_mode": {
    "name": "ipython",
    "version": 3
   },
   "file_extension": ".py",
   "mimetype": "text/x-python",
   "name": "python",
   "nbconvert_exporter": "python",
   "pygments_lexer": "ipython3",
   "version": "3.12.2"
  }
 },
 "nbformat": 4,
 "nbformat_minor": 1
}
