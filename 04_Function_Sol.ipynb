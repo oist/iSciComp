{
 "cells": [
  {
   "cell_type": "markdown",
   "metadata": {},
   "source": [
    "# 4. Functions and Classes: Exercise Solutions"
   ]
  },
  {
   "cell_type": "code",
   "execution_count": 1,
   "metadata": {
    "scrolled": true
   },
   "outputs": [],
   "source": [
    "import numpy as np\n",
    "import matplotlib.pyplot as plt\n",
    "%matplotlib inline"
   ]
  },
  {
   "cell_type": "markdown",
   "metadata": {},
   "source": [
    "## 1. Functions\n",
    "Define the following functions and show some sample outputs.  \n",
    "1) Factorial of n: $1 \\times 2 \\times \\cdots \\times n$."
   ]
  },
  {
   "cell_type": "code",
   "execution_count": 2,
   "metadata": {},
   "outputs": [],
   "source": [
    "def factorial(n):\n",
    "    \"\"\"factorial of n\"\"\"\n",
    "    f = 1\n",
    "    for i in range(n):\n",
    "        f = f * (i+1)\n",
    "    return f"
   ]
  },
  {
   "cell_type": "code",
   "execution_count": 3,
   "metadata": {},
   "outputs": [],
   "source": [
    "def factorial(n:int):\n",
    "    \"\"\"factorial of n\"\"\"\n",
    "    if n < 0 or type(n)!=int:\n",
    "        print('n should be non-negative integer.')\n",
    "        return\n",
    "    elif n==0:\n",
    "        return 1\n",
    "    else:\n",
    "        return factorial(n-1)*n"
   ]
  },
  {
   "cell_type": "code",
   "execution_count": 4,
   "metadata": {},
   "outputs": [
    {
     "name": "stdout",
     "output_type": "stream",
     "text": [
      "n should be non-negative integer.\n"
     ]
    }
   ],
   "source": [
    "factorial(-1)"
   ]
  },
  {
   "cell_type": "code",
   "execution_count": 5,
   "metadata": {},
   "outputs": [
    {
     "name": "stdout",
     "output_type": "stream",
     "text": [
      "1\n",
      "1\n",
      "2\n",
      "6\n",
      "24\n",
      "120\n",
      "720\n",
      "5040\n",
      "40320\n",
      "362880\n"
     ]
    }
   ],
   "source": [
    "for n in range(10):\n",
    "    print(factorial(n))"
   ]
  },
  {
   "cell_type": "markdown",
   "metadata": {},
   "source": [
    "2) For a circle of radius r (default r=1), given x coordinate, return possible y coordinates (i.e., both positive and negative)."
   ]
  },
  {
   "cell_type": "code",
   "execution_count": 6,
   "metadata": {},
   "outputs": [],
   "source": [
    "def circley(x, r=1):\n",
    "    \"\"\"y coordinate for given x for a circle of radius r\"\"\"\n",
    "    if abs(x) > r:\n",
    "        return\n",
    "    elif abs(x) == r:\n",
    "        return 0.\n",
    "    else:\n",
    "        y = np.sqrt(r**2 - x**2)\n",
    "        return y, -y"
   ]
  },
  {
   "cell_type": "code",
   "execution_count": 7,
   "metadata": {},
   "outputs": [
    {
     "name": "stdout",
     "output_type": "stream",
     "text": [
      "None\n",
      "0.0\n",
      "(0.5999999999999999, -0.5999999999999999)\n",
      "(0.8, -0.8)\n",
      "(0.916515138991168, -0.916515138991168)\n",
      "(0.9797958971132712, -0.9797958971132712)\n",
      "(1.0, -1.0)\n",
      "(0.9797958971132712, -0.9797958971132712)\n",
      "(0.9165151389911681, -0.9165151389911681)\n",
      "(0.8, -0.8)\n",
      "(0.6000000000000003, -0.6000000000000003)\n",
      "(2.1073424255447017e-08, -2.1073424255447017e-08)\n",
      "None\n"
     ]
    }
   ],
   "source": [
    "X = np.linspace(-1.2, 1.2, 13)\n",
    "for x in X:\n",
    "    print(circley(x))"
   ]
  },
  {
   "cell_type": "code",
   "execution_count": 8,
   "metadata": {},
   "outputs": [
    {
     "name": "stdout",
     "output_type": "stream",
     "text": [
      "None\n",
      "0.0\n",
      "(0.5999999999999999, -0.5999999999999999)\n",
      "(0.7999999999999999, -0.7999999999999999)\n",
      "(0.916515138991168, -0.916515138991168)\n",
      "(0.9797958971132712, -0.9797958971132712)\n",
      "(1.0, -1.0)\n",
      "(0.9797958971132712, -0.9797958971132712)\n",
      "(0.916515138991168, -0.916515138991168)\n",
      "(0.7999999999999999, -0.7999999999999999)\n",
      "(0.5999999999999999, -0.5999999999999999)\n",
      "0.0\n",
      "None\n"
     ]
    }
   ],
   "source": [
    "for i in range(-6, 7):\n",
    "    print(circley(0.2*i))"
   ]
  },
  {
   "cell_type": "code",
   "execution_count": null,
   "metadata": {},
   "outputs": [],
   "source": []
  },
  {
   "cell_type": "markdown",
   "metadata": {},
   "source": [
    "3) Draw a star-like shape with n vertices, every m-th vertices connected, with default of n=5 and m=2."
   ]
  },
  {
   "cell_type": "code",
   "execution_count": 9,
   "metadata": {},
   "outputs": [],
   "source": [
    "def star(n=5, m=(n-1)//2, r=1):\n",
    "    \"\"\"Draw a star with n>=5 vertices.\"\"\"\n",
    "    if n < 3:\n",
    "        print('n should be 3 or more.')\n",
    "        return\n",
    "    if m == None:\n",
    "        m = (n-1)//2\n",
    "    xy = np.zeros((n+1, 2))\n",
    "    th = 2*np.pi*m/n\n",
    "    for i in range(n):\n",
    "        xy[i] = [r*np.sin(i*th), r*np.cos(i*th)]\n",
    "    xy[-1] = xy[0]\n",
    "    plt.plot(xy[:,0], xy[:,1])\n",
    "    plt.axis('square')\n",
    "    plt.axis('off')"
   ]
  },
  {
   "cell_type": "code",
   "execution_count": 10,
   "metadata": {},
   "outputs": [
    {
     "data": {
      "image/png": "[encoded data removed]",
      "text/plain": [
       "<Figure size 432x288 with 40 Axes>"
      ]
     },
     "metadata": {
      "needs_background": "light"
     },
     "output_type": "display_data"
    }
   ],
   "source": [
    "N = 10\n",
    "M = 7\n",
    "for n in range(5, 5+N):\n",
    "    for m in range(1, min((n+1)//2, M)):\n",
    "        plt.subplot(M, N, (m-1)*N + n-4)\n",
    "        star(n, m)"
   ]
  },
  {
   "cell_type": "markdown",
   "metadata": {
    "collapsed": true
   },
   "source": [
    "4) Any function of your interest"
   ]
  },
  {
   "cell_type": "code",
   "execution_count": null,
   "metadata": {},
   "outputs": [],
   "source": []
  },
  {
   "cell_type": "markdown",
   "metadata": {},
   "source": [
    "### 2. Classes\n",
    "1) Define the `Vector` class with the following methods and test that they work correctly.  \n",
    "* `norm`, `normalize`: as in the previous class (use L^p norm, with default p=2).\n",
    "* `scale(s)`: multiply each component by scalar s.\n",
    "* `dot(v)`: a dot product with another vector v."
   ]
  },
  {
   "cell_type": "code",
   "execution_count": 11,
   "metadata": {},
   "outputs": [],
   "source": [
    "class Vector:\n",
    "    \"\"\"A class for vector calculation.\"\"\"\n",
    "    default_p = 2\n",
    "    \n",
    "    def __init__(self, arr):  # make a new instance\n",
    "        self.vector = np.array(arr)     # array is registered as a vector\n",
    "    \n",
    "    def norm(self, p=None):\n",
    "        \"\"\"Give the L^p norm of a vector.\"\"\"\n",
    "        if p == None:\n",
    "            p = self.default_p\n",
    "        y = self.vector ** p\n",
    "        z = np.sum(y) ** (1/p)\n",
    "        return(z)\n",
    "    \n",
    "    def normalize(self):\n",
    "        u = self.vector/self.norm()\n",
    "        self.vector = u\n",
    "    \n",
    "    def scale(self, s):\n",
    "        u = s * self.vector\n",
    "        self.vector = u\n",
    "    \n",
    "    def dot(self, v):\n",
    "        return(np.sum(self.vector * v.vector))"
   ]
  },
  {
   "cell_type": "code",
   "execution_count": 12,
   "metadata": {},
   "outputs": [
    {
     "data": {
      "text/plain": [
       "array([0, 1, 2])"
      ]
     },
     "execution_count": 12,
     "metadata": {},
     "output_type": "execute_result"
    }
   ],
   "source": [
    "x = Vector([0, 1, 2])\n",
    "x.vector"
   ]
  },
  {
   "cell_type": "code",
   "execution_count": 13,
   "metadata": {},
   "outputs": [
    {
     "data": {
      "text/plain": [
       "array([0, 3, 6])"
      ]
     },
     "execution_count": 13,
     "metadata": {},
     "output_type": "execute_result"
    }
   ],
   "source": [
    "x.scale(3)\n",
    "x.vector"
   ]
  },
  {
   "cell_type": "code",
   "execution_count": 14,
   "metadata": {},
   "outputs": [
    {
     "data": {
      "text/plain": [
       "24"
      ]
     },
     "execution_count": 14,
     "metadata": {},
     "output_type": "execute_result"
    }
   ],
   "source": [
    "y = Vector([1, 2, 3])\n",
    "x.dot(y)"
   ]
  },
  {
   "cell_type": "markdown",
   "metadata": {},
   "source": [
    "2) Save the class Vector as a module `vector.py`."
   ]
  },
  {
   "cell_type": "markdown",
   "metadata": {},
   "source": [
    "3) Import the module and test how it works."
   ]
  },
  {
   "cell_type": "code",
   "execution_count": 15,
   "metadata": {},
   "outputs": [],
   "source": [
    "import vector"
   ]
  },
  {
   "cell_type": "code",
   "execution_count": 16,
   "metadata": {},
   "outputs": [],
   "source": [
    "import importlib"
   ]
  },
  {
   "cell_type": "code",
   "execution_count": 17,
   "metadata": {},
   "outputs": [
    {
     "data": {
      "text/plain": [
       "<module 'vector' from '/Users/doya/Dropbox (OIST)/Python/ComputationalMethods/vector.py'>"
      ]
     },
     "execution_count": 17,
     "metadata": {},
     "output_type": "execute_result"
    }
   ],
   "source": [
    "importlib.reload(vector) # This is needed after updating a module"
   ]
  },
  {
   "cell_type": "code",
   "execution_count": 18,
   "metadata": {},
   "outputs": [
    {
     "data": {
      "text/plain": [
       "array([0, 1, 2])"
      ]
     },
     "execution_count": 18,
     "metadata": {},
     "output_type": "execute_result"
    }
   ],
   "source": [
    "x = vector.Vector([0, 1, 2])\n",
    "x.vector"
   ]
  },
  {
   "cell_type": "code",
   "execution_count": 19,
   "metadata": {},
   "outputs": [
    {
     "data": {
      "text/plain": [
       "3.0"
      ]
     },
     "execution_count": 19,
     "metadata": {},
     "output_type": "execute_result"
    }
   ],
   "source": [
    "x.norm(p=1)"
   ]
  },
  {
   "cell_type": "code",
   "execution_count": null,
   "metadata": {},
   "outputs": [],
   "source": []
  },
  {
   "cell_type": "code",
   "execution_count": null,
   "metadata": {},
   "outputs": [],
   "source": []
  }
 ],
 "metadata": {
  "kernelspec": {
   "display_name": "Python 3 (ipykernel)",
   "language": "python",
   "name": "python3"
  },
  "language_info": {
   "codemirror_mode": {
    "name": "ipython",
    "version": 3
   },
   "file_extension": ".py",
   "mimetype": "text/x-python",
   "name": "python",
   "nbconvert_exporter": "python",
   "pygments_lexer": "ipython3",
   "version": "3.9.16"
  }
 },
 "nbformat": 4,
 "nbformat_minor": 1
}
