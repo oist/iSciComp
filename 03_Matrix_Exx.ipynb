{
 "cells": [
  {
   "cell_type": "markdown",
   "metadata": {},
   "source": [
    "# 3. Vectors and Matrices: Exercise\n",
    "\n",
    "Name: "
   ]
  },
  {
   "cell_type": "markdown",
   "metadata": {},
   "source": [
    "$$ % Latex macros\n",
    "\\newcommand{\\mat}[1]{\\begin{pmatrix} #1 \\end{pmatrix}}\n",
    "\\newcommand{\\p}[2]{\\frac{\\partial #1}{\\partial #2}}\n",
    "\\newcommand{\\b}[1]{\\boldsymbol{#1}}\n",
    "\\newcommand{\\w}{\\boldsymbol{w}}\n",
    "\\newcommand{\\x}{\\boldsymbol{x}}\n",
    "\\newcommand{\\y}{\\boldsymbol{y}}\n",
    "$$"
   ]
  },
  {
   "cell_type": "code",
   "execution_count": 2,
   "metadata": {
    "scrolled": true
   },
   "outputs": [],
   "source": [
    "import numpy as np\n",
    "import matplotlib.pyplot as plt\n",
    "%matplotlib inline"
   ]
  },
  {
   "cell_type": "markdown",
   "metadata": {},
   "source": [
    "## 1) Determinant and eigenvalues\n",
    "1) For a 2x2 matrix\n",
    "$A = \\left(\\begin{array}{cc} a & b\\\\ c & d \\end{array}\\right)$,\n",
    "let us verify that $\\det A = ad - bc$ in the case graphically shown below ($a, b, c, d$ are positive)."
   ]
  },
  {
   "cell_type": "code",
   "execution_count": 2,
   "metadata": {},
   "outputs": [
    {
     "data": {
      "image/png": "[encoded data removed]",
      "text/plain": [
       "<Figure size 432x288 with 1 Axes>"
      ]
     },
     "metadata": {
      "needs_background": "light"
     },
     "output_type": "display_data"
    }
   ],
   "source": [
    "A = np.array([[4, 1], [2, 3]])\n",
    "plt.plot([0, 1, 1, 0, 0], [0, 0, 1, 1, 0])\n",
    "plt.plot([0, A[0,0]+A[0,1], A[0,0]+A[0,1], 0, 0], \n",
    "         [0, 0, A[1,0]+A[1,1], A[1,0]+A[1,1], 0])\n",
    "plt.plot([A[0,0], A[0,0]+A[0,1], A[0,0]+A[0,1], A[0,0], A[0,0]], \n",
    "         [0, 0, A[1,0], A[1,0], 0])\n",
    "plt.plot([0, A[0,1], A[0,1], 0, 0], \n",
    "         [A[1,1], A[1,1], A[1,0]+A[1,1], A[1,0]+A[1,1], A[1,1]])\n",
    "plt.plot([0, A[0,0], A[0,0]+A[0,1], A[0,1], 0], \n",
    "         [0, A[1,0], A[1,0]+A[1,1], A[1,1], 0])\n",
    "plt.axis('equal')\n",
    "plt.text(A[0,0], A[1,0], '(a,c)')\n",
    "plt.text(A[0,1], A[1,1], '(b,d)')\n",
    "plt.text(A[0,0]+A[0,1], A[1,0]+A[1,1], '(a+b,c+d)');"
   ]
  },
  {
   "cell_type": "markdown",
   "metadata": {},
   "source": [
    "A unit square is transformed into a parallelogram. Its area $S$ can be derived as follows:  \n",
    "Large rectangle: $ S_1 = (a+b)(c+d) $  \n",
    "Small rectangle: $ S_2 =  $  \n",
    "Bottom/top triangle: $ S_3 =  $  \n",
    "Left/right triangle: $ S_4 =  $  \n",
    "Parallelogram: $ S = S_1 - ... $  "
   ]
  },
  {
   "cell_type": "markdown",
   "metadata": {
    "collapsed": true
   },
   "source": [
    "2) The determinant equals the product of all eigenvalues. Verify this numerically for multiple cases and explain intuitively why that should hold."
   ]
  },
  {
   "cell_type": "code",
   "execution_count": null,
   "metadata": {},
   "outputs": [],
   "source": [
    "A = np.array(...\n",
    "det = \n",
    "print('detA = ', det)\n",
    "lam, V = \n",
    "print(np.product(lam))"
   ]
  },
  {
   "cell_type": "markdown",
   "metadata": {},
   "source": [
    "The determinant represents ...\n",
    "\n",
    "The eigenvalues mean ...\n",
    "\n",
    "Therefore, ..."
   ]
  },
  {
   "cell_type": "code",
   "execution_count": null,
   "metadata": {},
   "outputs": [],
   "source": []
  },
  {
   "cell_type": "markdown",
   "metadata": {},
   "source": [
    "## 2) Eigenvalues and matrix product\n",
    "1) Make a random (or hand-designed) $m\\times m$ matrix $A$. Compute its eigenvalues and eigenvectors. From a random (or your preferred) initial point $\\b{x}$, compute $A\\b{x}, A^2\\b{x}, A^3\\b{x},...$ and visualize the points. Then characterize the behavior of the points with respect the eigenvalues and eigenvectors."
   ]
  },
  {
   "cell_type": "code",
   "execution_count": null,
   "metadata": {},
   "outputs": [],
   "source": []
  },
  {
   "cell_type": "markdown",
   "metadata": {},
   "source": [
    "2) Do the above with several different matrices"
   ]
  },
  {
   "cell_type": "code",
   "execution_count": null,
   "metadata": {},
   "outputs": [],
   "source": []
  },
  {
   "cell_type": "markdown",
   "metadata": {},
   "source": [
    "## 3) Principal component analysis\n",
    "Read in the \"digits\" dataset, originally from `sklearn`."
   ]
  },
  {
   "cell_type": "code",
   "execution_count": 6,
   "metadata": {},
   "outputs": [
    {
     "data": {
      "text/plain": [
       "(1797, 64)"
      ]
     },
     "execution_count": 6,
     "metadata": {},
     "output_type": "execute_result"
    }
   ],
   "source": [
    "#data = np.loadtxt(\"data/digits_data.txt\")\n",
    "#target = np.loadtxt(\"data/digits_target.txt\", dtype='int64')\n",
    "from sklearn import datasets\n",
    "digits = datasets.load_digits()\n",
    "data = digits.data\n",
    "target = digits.target\n",
    "data.shape"
   ]
  },
  {
   "cell_type": "markdown",
   "metadata": {},
   "source": [
    "The first ten samples look like these:"
   ]
  },
  {
   "cell_type": "code",
   "execution_count": 7,
   "metadata": {},
   "outputs": [
    {
     "data": {
      "image/png": "[encoded data removed]",
      "text/plain": [
       "<Figure size 640x480 with 10 Axes>"
      ]
     },
     "metadata": {},
     "output_type": "display_data"
    }
   ],
   "source": [
    "for i in range(10):\n",
    "    plt.subplot(1,10,i+1)\n",
    "    plt.imshow(data[i].reshape((8,8)))\n",
    "    plt.title(target[i])"
   ]
  },
  {
   "cell_type": "markdown",
   "metadata": {},
   "source": [
    "1) Compute the principal component vectors from all the digits and plot the eigenvalues from the largest to smallest."
   ]
  },
  {
   "cell_type": "code",
   "execution_count": null,
   "metadata": {},
   "outputs": [],
   "source": []
  },
  {
   "cell_type": "markdown",
   "metadata": {},
   "source": [
    "2) Visualize the principal vectors as images."
   ]
  },
  {
   "cell_type": "code",
   "execution_count": null,
   "metadata": {},
   "outputs": [],
   "source": []
  },
  {
   "cell_type": "markdown",
   "metadata": {},
   "source": [
    "3) Scatterplot the digits in the first two or three principal component space, with different colors/markers for digits."
   ]
  },
  {
   "cell_type": "code",
   "execution_count": null,
   "metadata": {},
   "outputs": [],
   "source": []
  },
  {
   "cell_type": "markdown",
   "metadata": {},
   "source": [
    "4) Take a sample digit, decompose it into principal components, and reconstruct the digit from the first $m$ components. See how the quality of reproduction depends on $m$."
   ]
  },
  {
   "cell_type": "code",
   "execution_count": null,
   "metadata": {},
   "outputs": [],
   "source": []
  },
  {
   "cell_type": "markdown",
   "metadata": {},
   "source": [
    "## 4) Array and for loop\n",
    "You can perform vector and matrix computation by component-wise calculations using for loops, but that is much slower. Let us check how much speed benefit we have by using numpy array computation."
   ]
  },
  {
   "cell_type": "code",
   "execution_count": 3,
   "metadata": {},
   "outputs": [],
   "source": [
    "n = 10  # matrix dimension"
   ]
  },
  {
   "cell_type": "code",
   "execution_count": 4,
   "metadata": {},
   "outputs": [
    {
     "name": "stdout",
     "output_type": "stream",
     "text": [
      "[[0.47752473239989707, 1.4929540850347631, -0.310010822103453, -2.012258219749891, -0.2646182044180956, 0.026812468835817074, -0.26438067456473824, 0.016740247988006492, 0.46407845290747884, 0.012303370033538794], [0.7676164861813122, 0.2932756427181198, 1.0038369266964509, 0.33162656113874855, 1.3403998598866527, -1.84342089762005, -0.9208218091987975, -0.19149404635625833, -1.3386250600379204, -0.5482298892081274], [-1.8613071613618017, -1.1497690358288146, -0.47726840463292164, 0.01703999402845046, -1.8796868409131589, 0.48003945565076345, -0.5675081142803021, 2.1253986142089056, -1.0123287585885874, -1.9101726803290013], [-0.7064623961231508, -0.3743989380311693, -0.5952687483098436, -0.9149091528371626, 0.9616355019131472, -0.9569649489409244, 0.674932473094052, -1.1002811702407675, -0.2951065107686641, -0.6935041649126332], [1.1432854088045754, 0.22487626554115944, 0.4825734244913491, -0.2377572469557019, -0.7800966473231028, -0.9198648936639267, -0.6100453883222778, 3.6677136601951688, 0.5512037515718786, 0.4177522339598041], [0.02334613006896432, -0.04959192148422843, -0.9380672831273686, -2.369374860364797, -0.3332877544557972, 0.3802127467061171, -1.0280131197163926, 0.6317296705335694, 0.8059138832693469, -0.4323277211234928], [0.40211088870621425, -0.1270732093178582, 0.5719682618927754, -0.4223124269566238, -0.753420635957814, 2.122121280542147, 0.9909526045800582, -1.3387215641990384, 0.05088358105740918, 0.3481890043110811], [-0.8945559932308979, 0.5596142890202341, 0.40578181553942455, -0.7805529568038106, -0.9488135053273573, 0.052521094823631986, 0.5285867138545564, 0.023448697004858802, 1.927780926610159, -1.2415585664534283], [-0.729630331356693, -0.9450488628929301, -0.5039103400635846, -0.32950309095501934, -0.19688007493040996, 0.4448418702781053, 0.8348477977806389, 0.08415336635269764, 1.5381064471566686, -1.7293482431598897], [0.707700938765884, 2.160386325138744, -0.22102720965707248, -0.5122489322324051, -1.1947616092391857, -0.24841655120732273, -1.7207574465184525, 3.0980020150446204, -0.8296654188022827, 0.229562985357953]]\n"
     ]
    }
   ],
   "source": [
    "A = [[np.random.randn() for j in range(n)] for i in range(n)]\n",
    "print(A)  # nested list"
   ]
  },
  {
   "cell_type": "code",
   "execution_count": 5,
   "metadata": {},
   "outputs": [
    {
     "data": {
      "text/plain": [
       "array([[ 0.47752473,  1.49295409, -0.31001082, -2.01225822, -0.2646182 ,\n",
       "         0.02681247, -0.26438067,  0.01674025,  0.46407845,  0.01230337],\n",
       "       [ 0.76761649,  0.29327564,  1.00383693,  0.33162656,  1.34039986,\n",
       "        -1.8434209 , -0.92082181, -0.19149405, -1.33862506, -0.54822989],\n",
       "       [-1.86130716, -1.14976904, -0.4772684 ,  0.01703999, -1.87968684,\n",
       "         0.48003946, -0.56750811,  2.12539861, -1.01232876, -1.91017268],\n",
       "       [-0.7064624 , -0.37439894, -0.59526875, -0.91490915,  0.9616355 ,\n",
       "        -0.95696495,  0.67493247, -1.10028117, -0.29510651, -0.69350416],\n",
       "       [ 1.14328541,  0.22487627,  0.48257342, -0.23775725, -0.78009665,\n",
       "        -0.91986489, -0.61004539,  3.66771366,  0.55120375,  0.41775223],\n",
       "       [ 0.02334613, -0.04959192, -0.93806728, -2.36937486, -0.33328775,\n",
       "         0.38021275, -1.02801312,  0.63172967,  0.80591388, -0.43232772],\n",
       "       [ 0.40211089, -0.12707321,  0.57196826, -0.42231243, -0.75342064,\n",
       "         2.12212128,  0.9909526 , -1.33872156,  0.05088358,  0.348189  ],\n",
       "       [-0.89455599,  0.55961429,  0.40578182, -0.78055296, -0.94881351,\n",
       "         0.05252109,  0.52858671,  0.0234487 ,  1.92778093, -1.24155857],\n",
       "       [-0.72963033, -0.94504886, -0.50391034, -0.32950309, -0.19688007,\n",
       "         0.44484187,  0.8348478 ,  0.08415337,  1.53810645, -1.72934824],\n",
       "       [ 0.70770094,  2.16038633, -0.22102721, -0.51224893, -1.19476161,\n",
       "        -0.24841655, -1.72075745,  3.09800202, -0.82966542,  0.22956299]])"
      ]
     },
     "execution_count": 5,
     "metadata": {},
     "output_type": "execute_result"
    }
   ],
   "source": [
    "B = np.array(A)  # numpy array\n",
    "B"
   ]
  },
  {
   "cell_type": "code",
   "execution_count": 6,
   "metadata": {},
   "outputs": [
    {
     "name": "stdout",
     "output_type": "stream",
     "text": [
      "CPU times: user 6 μs, sys: 1 μs, total: 7 μs\n",
      "Wall time: 10.3 μs\n",
      "CPU times: user 4 μs, sys: 1 μs, total: 5 μs\n",
      "Wall time: 8.11 μs\n"
     ]
    },
    {
     "data": {
      "text/plain": [
       "array([[ 0.95504946,  2.98590817, -0.62002164, -4.02451644, -0.52923641,\n",
       "         0.05362494, -0.52876135,  0.0334805 ,  0.92815691,  0.02460674],\n",
       "       [ 1.53523297,  0.58655129,  2.00767385,  0.66325312,  2.68079972,\n",
       "        -3.6868418 , -1.84164362, -0.38298809, -2.67725012, -1.09645978],\n",
       "       [-3.72261432, -2.29953807, -0.95453681,  0.03407999, -3.75937368,\n",
       "         0.96007891, -1.13501623,  4.25079723, -2.02465752, -3.82034536],\n",
       "       [-1.41292479, -0.74879788, -1.1905375 , -1.82981831,  1.923271  ,\n",
       "        -1.9139299 ,  1.34986495, -2.20056234, -0.59021302, -1.38700833],\n",
       "       [ 2.28657082,  0.44975253,  0.96514685, -0.47551449, -1.56019329,\n",
       "        -1.83972979, -1.22009078,  7.33542732,  1.1024075 ,  0.83550447],\n",
       "       [ 0.04669226, -0.09918384, -1.87613457, -4.73874972, -0.66657551,\n",
       "         0.76042549, -2.05602624,  1.26345934,  1.61182777, -0.86465544],\n",
       "       [ 0.80422178, -0.25414642,  1.14393652, -0.84462485, -1.50684127,\n",
       "         4.24424256,  1.98190521, -2.67744313,  0.10176716,  0.69637801],\n",
       "       [-1.78911199,  1.11922858,  0.81156363, -1.56110591, -1.89762701,\n",
       "         0.10504219,  1.05717343,  0.04689739,  3.85556185, -2.48311713],\n",
       "       [-1.45926066, -1.89009773, -1.00782068, -0.65900618, -0.39376015,\n",
       "         0.88968374,  1.6696956 ,  0.16830673,  3.07621289, -3.45869649],\n",
       "       [ 1.41540188,  4.32077265, -0.44205442, -1.02449786, -2.38952322,\n",
       "        -0.4968331 , -3.44151489,  6.19600403, -1.65933084,  0.45912597]])"
      ]
     },
     "execution_count": 6,
     "metadata": {},
     "output_type": "execute_result"
    }
   ],
   "source": [
    "#summation\n",
    "%time\n",
    "A+A\n",
    "%time\n",
    "B+B"
   ]
  },
  {
   "cell_type": "code",
   "execution_count": null,
   "metadata": {},
   "outputs": [],
   "source": []
  },
  {
   "cell_type": "code",
   "execution_count": 16,
   "metadata": {},
   "outputs": [
    {
     "name": "stdout",
     "output_type": "stream",
     "text": [
      "CPU times: user 3 μs, sys: 1 μs, total: 4 μs\n",
      "Wall time: 7.15 μs\n"
     ]
    }
   ],
   "source": [
    "A2 = [[0] * n for i in range(n)]\n",
    "%time\n",
    "for i in range(n):\n",
    "    for j in range(n):\n",
    "        x = 0\n",
    "        for k in range(n):\n",
    "            x += A[i][k]*A[k][j]\n",
    "        A2[i][j] = x"
   ]
  },
  {
   "cell_type": "code",
   "execution_count": 23,
   "metadata": {},
   "outputs": [
    {
     "name": "stdout",
     "output_type": "stream",
     "text": [
      "CPU times: user 3 μs, sys: 1 μs, total: 4 μs\n",
      "Wall time: 7.15 μs\n"
     ]
    }
   ],
   "source": [
    "%time\n",
    "B2 = B.dot(B)"
   ]
  },
  {
   "cell_type": "code",
   "execution_count": 24,
   "metadata": {},
   "outputs": [
    {
     "name": "stdout",
     "output_type": "stream",
     "text": [
      "[[2.6195639550119956, 1.8307287188056025, 2.162590017645246, 1.3087040693990835, 0.7971886232525306, -1.0656720187241437, -2.436208493253413, 0.7551440262810344, -0.2710701710755974, 0.14037284952556023], [0.3681196873848313, 0.4370551360388475, 1.9473541894801352, 3.5756349668469123, -0.015254760848086413, -4.712841446948868, -0.9293910217591519, 4.8941865231852075, -3.9173487992294804, 1.1643191645216178], [-5.775602853720044, -4.928672024714791, -0.24673517648250487, 2.542658663687765, 2.063706800081659, 2.6672622487602884, 5.48927526887811, -12.628353652014209, 4.600381929878923, -1.009735504316074], [3.186847166709337, -1.7946944303913783, 2.2752089232468493, 5.189393021456853, 0.915110630132208, 1.4280940929313004, 1.683194398788703, -0.3788550554585921, -1.1605319721005811, 4.735778700967491], [-4.557845885818863, 3.6888012117921383, 1.0382349382670368, -2.6361142732444014, -3.849693095770261, -0.5174045306548714, 1.5533591983723705, 0.06432698560257477, 6.180588394247679, -6.417749781217767], [1.148349060891651, 0.6806937396419125, 0.641405362942806, 1.1636812513764574, 0.07841616996424472, 0.6777977901782692, -0.48289900816364084, -0.23960857401341462, 4.61257525154015, 0.5236841766490631], [0.3217038430091533, -0.38207489798782546, -2.7071212522904164, -4.872811815556425, -1.7799305953349975, 4.39238899625935, -2.603187443811488, 0.013635345009436861, -1.5436743635722925, 0.04181082130921103], [-3.3786405146358094, -6.119837518242646, 0.21775432766011837, 2.5671008901942245, 0.8794624176502713, 3.06785063193011, 3.7709440533890817, -6.2388614622401075, 2.24195251682756, -4.434560530198114], [-2.2035319292729802, -5.978691909866953, -0.6793193438038359, 0.40128581598963325, 0.6164859761944705, 5.036104294077374, 5.921155734822259, -7.324530155571333, 5.7890661924743005, -1.445082447899813], [-1.2976366635786665, 5.112082779883108, 2.6563984953930593, -0.9057589005715911, 1.8922994407918583, -6.4898981761065855, -2.567790649233512, -1.8293560170447065, 1.3707789438552038, -3.7479714774896684]] [[  2.61956396   1.83072872   2.16259002   1.30870407   0.79718862\n",
      "   -1.06567202  -2.43620849   0.75514403  -0.27107017   0.14037285]\n",
      " [  0.36811969   0.43705514   1.94735419   3.57563497  -0.01525476\n",
      "   -4.71284145  -0.92939102   4.89418652  -3.9173488    1.16431916]\n",
      " [ -5.77560285  -4.92867202  -0.24673518   2.54265866   2.0637068\n",
      "    2.66726225   5.48927527 -12.62835365   4.60038193  -1.0097355 ]\n",
      " [  3.18684717  -1.79469443   2.27520892   5.18939302   0.91511063\n",
      "    1.42809409   1.6831944   -0.37885506  -1.16053197   4.7357787 ]\n",
      " [ -4.55784589   3.68880121   1.03823494  -2.63611427  -3.8496931\n",
      "   -0.51740453   1.5533592    0.06432699   6.18058839  -6.41774978]\n",
      " [  1.14834906   0.68069374   0.64140536   1.16368125   0.07841617\n",
      "    0.67779779  -0.48289901  -0.23960857   4.61257525   0.52368418]\n",
      " [  0.32170384  -0.3820749   -2.70712125  -4.87281182  -1.7799306\n",
      "    4.392389    -2.60318744   0.01363535  -1.54367436   0.04181082]\n",
      " [ -3.37864051  -6.11983752   0.21775433   2.56710089   0.87946242\n",
      "    3.06785063   3.77094405  -6.23886146   2.24195252  -4.43456053]\n",
      " [ -2.20353193  -5.97869191  -0.67931934   0.40128582   0.61648598\n",
      "    5.03610429   5.92115573  -7.32453016   5.78906619  -1.44508245]\n",
      " [ -1.29763666   5.11208278   2.6563985   -0.9057589    1.89229944\n",
      "   -6.48989818  -2.56779065  -1.82935602   1.37077894  -3.74797148]]\n"
     ]
    }
   ],
   "source": [
    "print(A2, B2)  #should be the same"
   ]
  },
  {
   "cell_type": "code",
   "execution_count": null,
   "metadata": {},
   "outputs": [],
   "source": []
  }
 ],
 "metadata": {
  "kernelspec": {
   "display_name": "Python 3 (ipykernel)",
   "language": "python",
   "name": "python3"
  },
  "language_info": {
   "codemirror_mode": {
    "name": "ipython",
    "version": 3
   },
   "file_extension": ".py",
   "mimetype": "text/x-python",
   "name": "python",
   "nbconvert_exporter": "python",
   "pygments_lexer": "ipython3",
   "version": "3.12.2"
  },
  "latex_envs": {
   "LaTeX_envs_menu_present": true,
   "autoclose": true,
   "autocomplete": true,
   "bibliofile": "biblio.bib",
   "cite_by": "apalike",
   "current_citInitial": 1,
   "eqLabelWithNumbers": true,
   "eqNumInitial": 1,
   "hotkeys": {
    "equation": "Ctrl-E",
    "itemize": "Ctrl-I"
   },
   "labels_anchors": false,
   "latex_user_defs": false,
   "report_style_numbering": true,
   "user_envs_cfg": false
  },
  "toc": {
   "base_numbering": 1,
   "nav_menu": {},
   "number_sections": false,
   "sideBar": true,
   "skip_h1_title": false,
   "title_cell": "Table of Contents",
   "title_sidebar": "Contents",
   "toc_cell": true,
   "toc_position": {},
   "toc_section_display": true,
   "toc_window_display": false
  },
  "varInspector": {
   "cols": {
    "lenName": 16,
    "lenType": 16,
    "lenVar": 40
   },
   "kernels_config": {
    "python": {
     "delete_cmd_postfix": "",
     "delete_cmd_prefix": "del ",
     "library": "var_list.py",
     "varRefreshCmd": "print(var_dic_list())"
    },
    "r": {
     "delete_cmd_postfix": ") ",
     "delete_cmd_prefix": "rm(",
     "library": "var_list.r",
     "varRefreshCmd": "cat(var_dic_list()) "
    }
   },
   "types_to_exclude": [
    "module",
    "function",
    "builtin_function_or_method",
    "instance",
    "_Feature"
   ],
   "window_display": false
  }
 },
 "nbformat": 4,
 "nbformat_minor": 1
}
